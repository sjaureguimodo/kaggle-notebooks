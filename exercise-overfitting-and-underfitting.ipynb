{
 "cells": [
  {
   "cell_type": "markdown",
   "id": "ec64ae58",
   "metadata": {
    "papermill": {
     "duration": 0.008165,
     "end_time": "2023-02-13T02:56:08.345600",
     "exception": false,
     "start_time": "2023-02-13T02:56:08.337435",
     "status": "completed"
    },
    "tags": []
   },
   "source": [
    "**This notebook is an exercise in the [Intro to Deep Learning](https://www.kaggle.com/learn/intro-to-deep-learning) course.  You can reference the tutorial at [this link](https://www.kaggle.com/ryanholbrook/overfitting-and-underfitting).**\n",
    "\n",
    "---\n"
   ]
  },
  {
   "cell_type": "markdown",
   "id": "f6061ed1",
   "metadata": {
    "papermill": {
     "duration": 0.005806,
     "end_time": "2023-02-13T02:56:08.357661",
     "exception": false,
     "start_time": "2023-02-13T02:56:08.351855",
     "status": "completed"
    },
    "tags": []
   },
   "source": [
    "# Introduction #\n",
    "\n",
    "In this exercise, you’ll learn how to improve training outcomes by including an early stopping callback to prevent overfitting.\n",
    "\n",
    "When you're ready, run this next cell to set everything up!"
   ]
  },
  {
   "cell_type": "code",
   "execution_count": 1,
   "id": "f2e01321",
   "metadata": {
    "execution": {
     "iopub.execute_input": "2023-02-13T02:56:08.371313Z",
     "iopub.status.busy": "2023-02-13T02:56:08.370715Z",
     "iopub.status.idle": "2023-02-13T02:56:08.438424Z",
     "shell.execute_reply": "2023-02-13T02:56:08.436959Z"
    },
    "papermill": {
     "duration": 0.078546,
     "end_time": "2023-02-13T02:56:08.441816",
     "exception": false,
     "start_time": "2023-02-13T02:56:08.363270",
     "status": "completed"
    },
    "tags": []
   },
   "outputs": [],
   "source": [
    "# Setup plotting\n",
    "import matplotlib.pyplot as plt\n",
    "plt.style.use('seaborn-whitegrid')\n",
    "# Set Matplotlib defaults\n",
    "plt.rc('figure', autolayout=True)\n",
    "plt.rc('axes', labelweight='bold', labelsize='large',\n",
    "       titleweight='bold', titlesize=18, titlepad=10)\n",
    "plt.rc('animation', html='html5')\n",
    "\n",
    "# Setup feedback system\n",
    "from learntools.core import binder\n",
    "binder.bind(globals())\n",
    "from learntools.deep_learning_intro.ex4 import *"
   ]
  },
  {
   "cell_type": "markdown",
   "id": "d57a6351",
   "metadata": {
    "papermill": {
     "duration": 0.005497,
     "end_time": "2023-02-13T02:56:08.453544",
     "exception": false,
     "start_time": "2023-02-13T02:56:08.448047",
     "status": "completed"
    },
    "tags": []
   },
   "source": [
    "First load the *Spotify* dataset. Your task will be to predict the popularity of a song based on various audio features, like `'tempo'`, `'danceability'`, and `'mode'`."
   ]
  },
  {
   "cell_type": "code",
   "execution_count": 2,
   "id": "cb6417f7",
   "metadata": {
    "execution": {
     "iopub.execute_input": "2023-02-13T02:56:08.467383Z",
     "iopub.status.busy": "2023-02-13T02:56:08.466937Z",
     "iopub.status.idle": "2023-02-13T02:56:17.535428Z",
     "shell.execute_reply": "2023-02-13T02:56:17.533388Z"
    },
    "papermill": {
     "duration": 9.079204,
     "end_time": "2023-02-13T02:56:17.538762",
     "exception": false,
     "start_time": "2023-02-13T02:56:08.459558",
     "status": "completed"
    },
    "tags": []
   },
   "outputs": [
    {
     "name": "stdout",
     "output_type": "stream",
     "text": [
      "Input shape: [18]\n"
     ]
    }
   ],
   "source": [
    "import pandas as pd\n",
    "from sklearn.preprocessing import StandardScaler, OneHotEncoder\n",
    "from sklearn.compose import make_column_transformer\n",
    "from sklearn.model_selection import GroupShuffleSplit\n",
    "\n",
    "from tensorflow import keras\n",
    "from tensorflow.keras import layers\n",
    "from tensorflow.keras import callbacks\n",
    "\n",
    "spotify = pd.read_csv('../input/dl-course-data/spotify.csv')\n",
    "\n",
    "X = spotify.copy().dropna()\n",
    "y = X.pop('track_popularity')\n",
    "artists = X['track_artist']\n",
    "\n",
    "features_num = ['danceability', 'energy', 'key', 'loudness', 'mode',\n",
    "                'speechiness', 'acousticness', 'instrumentalness',\n",
    "                'liveness', 'valence', 'tempo', 'duration_ms']\n",
    "features_cat = ['playlist_genre']\n",
    "\n",
    "preprocessor = make_column_transformer(\n",
    "    (StandardScaler(), features_num),\n",
    "    (OneHotEncoder(), features_cat),\n",
    ")\n",
    "\n",
    "# We'll do a \"grouped\" split to keep all of an artist's songs in one\n",
    "# split or the other. This is to help prevent signal leakage.\n",
    "def group_split(X, y, group, train_size=0.75):\n",
    "    splitter = GroupShuffleSplit(train_size=train_size)\n",
    "    train, test = next(splitter.split(X, y, groups=group))\n",
    "    return (X.iloc[train], X.iloc[test], y.iloc[train], y.iloc[test])\n",
    "\n",
    "X_train, X_valid, y_train, y_valid = group_split(X, y, artists)\n",
    "\n",
    "X_train = preprocessor.fit_transform(X_train)\n",
    "X_valid = preprocessor.transform(X_valid)\n",
    "y_train = y_train / 100 # popularity is on a scale 0-100, so this rescales to 0-1.\n",
    "y_valid = y_valid / 100\n",
    "\n",
    "input_shape = [X_train.shape[1]]\n",
    "print(\"Input shape: {}\".format(input_shape))"
   ]
  },
  {
   "cell_type": "markdown",
   "id": "f6f63008",
   "metadata": {
    "papermill": {
     "duration": 0.005508,
     "end_time": "2023-02-13T02:56:17.550391",
     "exception": false,
     "start_time": "2023-02-13T02:56:17.544883",
     "status": "completed"
    },
    "tags": []
   },
   "source": [
    "Let's start with the simplest network, a linear model. This model has low capacity.\n",
    "\n",
    "Run this next cell without any changes to train a linear model on the *Spotify* dataset."
   ]
  },
  {
   "cell_type": "code",
   "execution_count": 3,
   "id": "db44c3dd",
   "metadata": {
    "execution": {
     "iopub.execute_input": "2023-02-13T02:56:17.564297Z",
     "iopub.status.busy": "2023-02-13T02:56:17.563820Z",
     "iopub.status.idle": "2023-02-13T02:56:23.667840Z",
     "shell.execute_reply": "2023-02-13T02:56:23.666850Z"
    },
    "lines_to_next_cell": 0,
    "papermill": {
     "duration": 6.114258,
     "end_time": "2023-02-13T02:56:23.670463",
     "exception": false,
     "start_time": "2023-02-13T02:56:17.556205",
     "status": "completed"
    },
    "tags": []
   },
   "outputs": [
    {
     "name": "stderr",
     "output_type": "stream",
     "text": [
      "2023-02-13 02:56:17.614949: I tensorflow/core/common_runtime/process_util.cc:146] Creating new thread pool with default inter op setting: 2. Tune using inter_op_parallelism_threads for best performance.\n",
      "2023-02-13 02:56:17.813325: I tensorflow/compiler/mlir/mlir_graph_optimization_pass.cc:185] None of the MLIR Optimization Passes are enabled (registered 2)\n"
     ]
    },
    {
     "name": "stdout",
     "output_type": "stream",
     "text": [
      "Minimum Validation Loss: 0.1934\n"
     ]
    },
    {
     "data": {
      "image/png": "[encoded data removed]",
      "text/plain": [
       "<Figure size 432x288 with 1 Axes>"
      ]
     },
     "metadata": {},
     "output_type": "display_data"
    }
   ],
   "source": [
    "model = keras.Sequential([\n",
    "    layers.Dense(1, input_shape=input_shape),\n",
    "])\n",
    "model.compile(\n",
    "    optimizer='adam',\n",
    "    loss='mae',\n",
    ")\n",
    "history = model.fit(\n",
    "    X_train, y_train,\n",
    "    validation_data=(X_valid, y_valid),\n",
    "    batch_size=512,\n",
    "    epochs=50,\n",
    "    verbose=0, # suppress output since we'll plot the curves\n",
    ")\n",
    "history_df = pd.DataFrame(history.history)\n",
    "history_df.loc[0:, ['loss', 'val_loss']].plot()\n",
    "print(\"Minimum Validation Loss: {:0.4f}\".format(history_df['val_loss'].min()));"
   ]
  },
  {
   "cell_type": "markdown",
   "id": "8fc8bbed",
   "metadata": {
    "papermill": {
     "duration": 0.005951,
     "end_time": "2023-02-13T02:56:23.682894",
     "exception": false,
     "start_time": "2023-02-13T02:56:23.676943",
     "status": "completed"
    },
    "tags": []
   },
   "source": [
    "It's not uncommon for the curves to follow a \"hockey stick\" pattern like you see here. This makes the final part of training hard to see, so let's start at epoch 10 instead:"
   ]
  },
  {
   "cell_type": "code",
   "execution_count": 4,
   "id": "b880a559",
   "metadata": {
    "execution": {
     "iopub.execute_input": "2023-02-13T02:56:23.697561Z",
     "iopub.status.busy": "2023-02-13T02:56:23.697093Z",
     "iopub.status.idle": "2023-02-13T02:56:24.008800Z",
     "shell.execute_reply": "2023-02-13T02:56:24.007324Z"
    },
    "papermill": {
     "duration": 0.322209,
     "end_time": "2023-02-13T02:56:24.011478",
     "exception": false,
     "start_time": "2023-02-13T02:56:23.689269",
     "status": "completed"
    },
    "tags": []
   },
   "outputs": [
    {
     "name": "stdout",
     "output_type": "stream",
     "text": [
      "Minimum Validation Loss: 0.1934\n"
     ]
    },
    {
     "data": {
      "image/png": "[encoded data removed]",
      "text/plain": [
       "<Figure size 432x288 with 1 Axes>"
      ]
     },
     "metadata": {},
     "output_type": "display_data"
    }
   ],
   "source": [
    "# Start the plot at epoch 10\n",
    "history_df.loc[10:, ['loss', 'val_loss']].plot()\n",
    "print(\"Minimum Validation Loss: {:0.4f}\".format(history_df['val_loss'].min()));"
   ]
  },
  {
   "cell_type": "markdown",
   "id": "58439c5e",
   "metadata": {
    "papermill": {
     "duration": 0.006374,
     "end_time": "2023-02-13T02:56:24.024789",
     "exception": false,
     "start_time": "2023-02-13T02:56:24.018415",
     "status": "completed"
    },
    "tags": []
   },
   "source": [
    "# 1) Evaluate Baseline\n",
    "\n",
    "What do you think? Would you say this model is underfitting, overfitting, just right?"
   ]
  },
  {
   "cell_type": "code",
   "execution_count": 5,
   "id": "c0a62f7c",
   "metadata": {
    "execution": {
     "iopub.execute_input": "2023-02-13T02:56:24.040588Z",
     "iopub.status.busy": "2023-02-13T02:56:24.040069Z",
     "iopub.status.idle": "2023-02-13T02:56:24.050211Z",
     "shell.execute_reply": "2023-02-13T02:56:24.048877Z"
    },
    "papermill": {
     "duration": 0.021644,
     "end_time": "2023-02-13T02:56:24.052939",
     "exception": false,
     "start_time": "2023-02-13T02:56:24.031295",
     "status": "completed"
    },
    "tags": []
   },
   "outputs": [
    {
     "data": {
      "application/javascript": [
       "parent.postMessage({\"jupyterEvent\": \"custom.exercise_interaction\", \"data\": {\"outcomeType\": 1, \"valueTowardsCompletion\": 0.25, \"interactionType\": 1, \"questionType\": 4, \"questionId\": \"1_Q1\", \"learnToolsVersion\": \"0.3.4\", \"failureMessage\": \"\", \"exceptionClass\": \"\", \"trace\": \"\"}}, \"*\")"
      ],
      "text/plain": [
       "<IPython.core.display.Javascript object>"
      ]
     },
     "metadata": {},
     "output_type": "display_data"
    },
    {
     "data": {
      "text/markdown": [
       "<span style=\"color:#33cc33\">Correct:</span> \n",
       "\n",
       "The gap between these curves is quite small and the validation loss never increases, so it's more likely that the network is underfitting than overfitting. It would be worth experimenting with more capacity to see if that's the case."
      ],
      "text/plain": [
       "Correct: \n",
       "\n",
       "The gap between these curves is quite small and the validation loss never increases, so it's more likely that the network is underfitting than overfitting. It would be worth experimenting with more capacity to see if that's the case."
      ]
     },
     "metadata": {},
     "output_type": "display_data"
    }
   ],
   "source": [
    "# View the solution (Run this cell to receive credit!)\n",
    "q_1.check()"
   ]
  },
  {
   "cell_type": "markdown",
   "id": "2eb04b3a",
   "metadata": {
    "papermill": {
     "duration": 0.006643,
     "end_time": "2023-02-13T02:56:24.067396",
     "exception": false,
     "start_time": "2023-02-13T02:56:24.060753",
     "status": "completed"
    },
    "tags": []
   },
   "source": [
    "Now let's add some capacity to our network. We'll add three hidden layers with 128 units each. Run the next cell to train the network and see the learning curves."
   ]
  },
  {
   "cell_type": "code",
   "execution_count": 6,
   "id": "6378b234",
   "metadata": {
    "execution": {
     "iopub.execute_input": "2023-02-13T02:56:24.084582Z",
     "iopub.status.busy": "2023-02-13T02:56:24.084053Z",
     "iopub.status.idle": "2023-02-13T02:56:37.752135Z",
     "shell.execute_reply": "2023-02-13T02:56:37.751137Z"
    },
    "papermill": {
     "duration": 13.680113,
     "end_time": "2023-02-13T02:56:37.755076",
     "exception": false,
     "start_time": "2023-02-13T02:56:24.074963",
     "status": "completed"
    },
    "tags": []
   },
   "outputs": [
    {
     "name": "stdout",
     "output_type": "stream",
     "text": [
      "Epoch 1/50\n",
      "49/49 [==============================] - 1s 7ms/step - loss: 0.2383 - val_loss: 0.2064\n",
      "Epoch 2/50\n",
      "49/49 [==============================] - 0s 5ms/step - loss: 0.2038 - val_loss: 0.2005\n",
      "Epoch 3/50\n",
      "49/49 [==============================] - 0s 5ms/step - loss: 0.1985 - val_loss: 0.1978\n",
      "Epoch 4/50\n",
      "49/49 [==============================] - 0s 5ms/step - loss: 0.1945 - val_loss: 0.1968\n",
      "Epoch 5/50\n",
      "49/49 [==============================] - 0s 5ms/step - loss: 0.1926 - val_loss: 0.1965\n",
      "Epoch 6/50\n",
      "49/49 [==============================] - 0s 5ms/step - loss: 0.1918 - val_loss: 0.1962\n",
      "Epoch 7/50\n",
      "49/49 [==============================] - 0s 5ms/step - loss: 0.1897 - val_loss: 0.1963\n",
      "Epoch 8/50\n",
      "49/49 [==============================] - 0s 5ms/step - loss: 0.1881 - val_loss: 0.1964\n",
      "Epoch 9/50\n",
      "49/49 [==============================] - 0s 4ms/step - loss: 0.1878 - val_loss: 0.1963\n",
      "Epoch 10/50\n",
      "49/49 [==============================] - 0s 5ms/step - loss: 0.1870 - val_loss: 0.1973\n",
      "Epoch 11/50\n",
      "49/49 [==============================] - 0s 5ms/step - loss: 0.1855 - val_loss: 0.1966\n",
      "Epoch 12/50\n",
      "49/49 [==============================] - 0s 5ms/step - loss: 0.1857 - val_loss: 0.1955\n",
      "Epoch 13/50\n",
      "49/49 [==============================] - 0s 6ms/step - loss: 0.1839 - val_loss: 0.1960\n",
      "Epoch 14/50\n",
      "49/49 [==============================] - 0s 5ms/step - loss: 0.1842 - val_loss: 0.1968\n",
      "Epoch 15/50\n",
      "49/49 [==============================] - 0s 5ms/step - loss: 0.1821 - val_loss: 0.1975\n",
      "Epoch 16/50\n",
      "49/49 [==============================] - 0s 5ms/step - loss: 0.1821 - val_loss: 0.1965\n",
      "Epoch 17/50\n",
      "49/49 [==============================] - 0s 5ms/step - loss: 0.1817 - val_loss: 0.1973\n",
      "Epoch 18/50\n",
      "49/49 [==============================] - 0s 7ms/step - loss: 0.1804 - val_loss: 0.1982\n",
      "Epoch 19/50\n",
      "49/49 [==============================] - 0s 10ms/step - loss: 0.1809 - val_loss: 0.1980\n",
      "Epoch 20/50\n",
      "49/49 [==============================] - 0s 7ms/step - loss: 0.1800 - val_loss: 0.1971\n",
      "Epoch 21/50\n",
      "49/49 [==============================] - 0s 5ms/step - loss: 0.1796 - val_loss: 0.1988\n",
      "Epoch 22/50\n",
      "49/49 [==============================] - 0s 6ms/step - loss: 0.1799 - val_loss: 0.1974\n",
      "Epoch 23/50\n",
      "49/49 [==============================] - 0s 5ms/step - loss: 0.1784 - val_loss: 0.1975\n",
      "Epoch 24/50\n",
      "49/49 [==============================] - 0s 7ms/step - loss: 0.1788 - val_loss: 0.1977\n",
      "Epoch 25/50\n",
      "49/49 [==============================] - 0s 6ms/step - loss: 0.1774 - val_loss: 0.1970\n",
      "Epoch 26/50\n",
      "49/49 [==============================] - 0s 6ms/step - loss: 0.1770 - val_loss: 0.1995\n",
      "Epoch 27/50\n",
      "49/49 [==============================] - 0s 6ms/step - loss: 0.1769 - val_loss: 0.1983\n",
      "Epoch 28/50\n",
      "49/49 [==============================] - 0s 5ms/step - loss: 0.1767 - val_loss: 0.1994\n",
      "Epoch 29/50\n",
      "49/49 [==============================] - 0s 5ms/step - loss: 0.1760 - val_loss: 0.1995\n",
      "Epoch 30/50\n",
      "49/49 [==============================] - 0s 5ms/step - loss: 0.1754 - val_loss: 0.1988\n",
      "Epoch 31/50\n",
      "49/49 [==============================] - 0s 5ms/step - loss: 0.1754 - val_loss: 0.1987\n",
      "Epoch 32/50\n",
      "49/49 [==============================] - 0s 5ms/step - loss: 0.1750 - val_loss: 0.1988\n",
      "Epoch 33/50\n",
      "49/49 [==============================] - 0s 5ms/step - loss: 0.1749 - val_loss: 0.1993\n",
      "Epoch 34/50\n",
      "49/49 [==============================] - 0s 5ms/step - loss: 0.1741 - val_loss: 0.1991\n",
      "Epoch 35/50\n",
      "49/49 [==============================] - 0s 6ms/step - loss: 0.1740 - val_loss: 0.1987\n",
      "Epoch 36/50\n",
      "49/49 [==============================] - 0s 5ms/step - loss: 0.1725 - val_loss: 0.1990\n",
      "Epoch 37/50\n",
      "49/49 [==============================] - 0s 5ms/step - loss: 0.1724 - val_loss: 0.2046\n",
      "Epoch 38/50\n",
      "49/49 [==============================] - 0s 5ms/step - loss: 0.1751 - val_loss: 0.2025\n",
      "Epoch 39/50\n",
      "49/49 [==============================] - 0s 4ms/step - loss: 0.1727 - val_loss: 0.1993\n",
      "Epoch 40/50\n",
      "49/49 [==============================] - 0s 5ms/step - loss: 0.1717 - val_loss: 0.2022\n",
      "Epoch 41/50\n",
      "49/49 [==============================] - 0s 5ms/step - loss: 0.1716 - val_loss: 0.2001\n",
      "Epoch 42/50\n",
      "49/49 [==============================] - 0s 5ms/step - loss: 0.1717 - val_loss: 0.2015\n",
      "Epoch 43/50\n",
      "49/49 [==============================] - 0s 4ms/step - loss: 0.1713 - val_loss: 0.1999\n",
      "Epoch 44/50\n",
      "49/49 [==============================] - 0s 5ms/step - loss: 0.1708 - val_loss: 0.1991\n",
      "Epoch 45/50\n",
      "49/49 [==============================] - 0s 5ms/step - loss: 0.1706 - val_loss: 0.2005\n",
      "Epoch 46/50\n",
      "49/49 [==============================] - 0s 5ms/step - loss: 0.1696 - val_loss: 0.2058\n",
      "Epoch 47/50\n",
      "49/49 [==============================] - 0s 4ms/step - loss: 0.1707 - val_loss: 0.2012\n",
      "Epoch 48/50\n",
      "49/49 [==============================] - 0s 5ms/step - loss: 0.1694 - val_loss: 0.2016\n",
      "Epoch 49/50\n",
      "49/49 [==============================] - 0s 5ms/step - loss: 0.1690 - val_loss: 0.2009\n",
      "Epoch 50/50\n",
      "49/49 [==============================] - 0s 5ms/step - loss: 0.1691 - val_loss: 0.1995\n",
      "Minimum Validation Loss: 0.1955\n"
     ]
    },
    {
     "data": {
      "image/png": "[encoded data removed]",
      "text/plain": [
       "<Figure size 432x288 with 1 Axes>"
      ]
     },
     "metadata": {},
     "output_type": "display_data"
    }
   ],
   "source": [
    "model = keras.Sequential([\n",
    "    layers.Dense(128, activation='relu', input_shape=input_shape),\n",
    "    layers.Dense(64, activation='relu'),\n",
    "    layers.Dense(1)\n",
    "])\n",
    "model.compile(\n",
    "    optimizer='adam',\n",
    "    loss='mae',\n",
    ")\n",
    "history = model.fit(\n",
    "    X_train, y_train,\n",
    "    validation_data=(X_valid, y_valid),\n",
    "    batch_size=512,\n",
    "    epochs=50,\n",
    ")\n",
    "history_df = pd.DataFrame(history.history)\n",
    "history_df.loc[:, ['loss', 'val_loss']].plot()\n",
    "print(\"Minimum Validation Loss: {:0.4f}\".format(history_df['val_loss'].min()));"
   ]
  },
  {
   "cell_type": "markdown",
   "id": "2b3c88e6",
   "metadata": {
    "papermill": {
     "duration": 0.02294,
     "end_time": "2023-02-13T02:56:37.801890",
     "exception": false,
     "start_time": "2023-02-13T02:56:37.778950",
     "status": "completed"
    },
    "tags": []
   },
   "source": [
    "# 2) Add Capacity\n",
    "\n",
    "What is your evaluation of these curves? Underfitting, overfitting, just right?"
   ]
  },
  {
   "cell_type": "code",
   "execution_count": 7,
   "id": "f7eb407f",
   "metadata": {
    "execution": {
     "iopub.execute_input": "2023-02-13T02:56:37.851753Z",
     "iopub.status.busy": "2023-02-13T02:56:37.851250Z",
     "iopub.status.idle": "2023-02-13T02:56:37.861128Z",
     "shell.execute_reply": "2023-02-13T02:56:37.859824Z"
    },
    "papermill": {
     "duration": 0.037501,
     "end_time": "2023-02-13T02:56:37.863591",
     "exception": false,
     "start_time": "2023-02-13T02:56:37.826090",
     "status": "completed"
    },
    "tags": []
   },
   "outputs": [
    {
     "data": {
      "application/javascript": [
       "parent.postMessage({\"jupyterEvent\": \"custom.exercise_interaction\", \"data\": {\"outcomeType\": 1, \"valueTowardsCompletion\": 0.25, \"interactionType\": 1, \"questionType\": 4, \"questionId\": \"2_Q2\", \"learnToolsVersion\": \"0.3.4\", \"failureMessage\": \"\", \"exceptionClass\": \"\", \"trace\": \"\"}}, \"*\")"
      ],
      "text/plain": [
       "<IPython.core.display.Javascript object>"
      ]
     },
     "metadata": {},
     "output_type": "display_data"
    },
    {
     "data": {
      "text/markdown": [
       "<span style=\"color:#33cc33\">Correct:</span> \n",
       "\n",
       "Now the validation loss begins to rise very early, while the training loss continues to decrease. This indicates that the network has begun to overfit. At this point, we would need to try something to prevent it, either by reducing the number of units or through a method like early stopping. (We'll see another in the next lesson!)"
      ],
      "text/plain": [
       "Correct: \n",
       "\n",
       "Now the validation loss begins to rise very early, while the training loss continues to decrease. This indicates that the network has begun to overfit. At this point, we would need to try something to prevent it, either by reducing the number of units or through a method like early stopping. (We'll see another in the next lesson!)"
      ]
     },
     "metadata": {},
     "output_type": "display_data"
    }
   ],
   "source": [
    "# View the solution (Run this cell to receive credit!)\n",
    "q_2.check()"
   ]
  },
  {
   "cell_type": "markdown",
   "id": "6ec21fd0",
   "metadata": {
    "papermill": {
     "duration": 0.022553,
     "end_time": "2023-02-13T02:56:37.909174",
     "exception": false,
     "start_time": "2023-02-13T02:56:37.886621",
     "status": "completed"
    },
    "tags": []
   },
   "source": [
    "# 3) Define Early Stopping Callback\n",
    "\n",
    "Now define an early stopping callback that waits 5 epochs (`patience'`) for a change in validation loss of at least `0.001` (`min_delta`) and keeps the weights with the best loss (`restore_best_weights`)."
   ]
  },
  {
   "cell_type": "code",
   "execution_count": 8,
   "id": "a1251727",
   "metadata": {
    "execution": {
     "iopub.execute_input": "2023-02-13T02:56:37.958212Z",
     "iopub.status.busy": "2023-02-13T02:56:37.957725Z",
     "iopub.status.idle": "2023-02-13T02:56:37.969132Z",
     "shell.execute_reply": "2023-02-13T02:56:37.967956Z"
    },
    "lines_to_next_cell": 0,
    "papermill": {
     "duration": 0.039108,
     "end_time": "2023-02-13T02:56:37.971524",
     "exception": false,
     "start_time": "2023-02-13T02:56:37.932416",
     "status": "completed"
    },
    "tags": []
   },
   "outputs": [
    {
     "data": {
      "application/javascript": [
       "parent.postMessage({\"jupyterEvent\": \"custom.exercise_interaction\", \"data\": {\"outcomeType\": 1, \"valueTowardsCompletion\": 0.25, \"interactionType\": 1, \"questionType\": 2, \"questionId\": \"3_Q3\", \"learnToolsVersion\": \"0.3.4\", \"failureMessage\": \"\", \"exceptionClass\": \"\", \"trace\": \"\"}}, \"*\")"
      ],
      "text/plain": [
       "<IPython.core.display.Javascript object>"
      ]
     },
     "metadata": {},
     "output_type": "display_data"
    },
    {
     "data": {
      "text/markdown": [
       "<span style=\"color:#33cc33\">Correct</span>"
      ],
      "text/plain": [
       "Correct"
      ]
     },
     "metadata": {},
     "output_type": "display_data"
    }
   ],
   "source": [
    "from tensorflow.keras import callbacks\n",
    "from tensorflow.keras.callbacks import EarlyStopping\n",
    "\n",
    "# YOUR CODE HERE: define an early stopping callback\n",
    "early_stopping = EarlyStopping(\n",
    "    min_delta=0.001, # minimium amount of change to count as an improvement\n",
    "    patience=5, # how many epochs to wait before stopping\n",
    "    restore_best_weights=True,\n",
    ")\n",
    "\n",
    "# Check your answer\n",
    "q_3.check()"
   ]
  },
  {
   "cell_type": "code",
   "execution_count": 9,
   "id": "40d75459",
   "metadata": {
    "execution": {
     "iopub.execute_input": "2023-02-13T02:56:38.020674Z",
     "iopub.status.busy": "2023-02-13T02:56:38.020138Z",
     "iopub.status.idle": "2023-02-13T02:56:38.025068Z",
     "shell.execute_reply": "2023-02-13T02:56:38.023823Z"
    },
    "papermill": {
     "duration": 0.032424,
     "end_time": "2023-02-13T02:56:38.027432",
     "exception": false,
     "start_time": "2023-02-13T02:56:37.995008",
     "status": "completed"
    },
    "tags": []
   },
   "outputs": [],
   "source": [
    "# Lines below will give you a hint or solution code\n",
    "#q_3.hint()\n",
    "#q_3.solution()"
   ]
  },
  {
   "cell_type": "markdown",
   "id": "db61f3e1",
   "metadata": {
    "papermill": {
     "duration": 0.023041,
     "end_time": "2023-02-13T02:56:38.073964",
     "exception": false,
     "start_time": "2023-02-13T02:56:38.050923",
     "status": "completed"
    },
    "tags": []
   },
   "source": [
    "Now run this cell to train the model and get the learning curves. Notice the `callbacks` argument in `model.fit`."
   ]
  },
  {
   "cell_type": "code",
   "execution_count": 10,
   "id": "8963387c",
   "metadata": {
    "execution": {
     "iopub.execute_input": "2023-02-13T02:56:38.123125Z",
     "iopub.status.busy": "2023-02-13T02:56:38.122637Z",
     "iopub.status.idle": "2023-02-13T02:56:42.468518Z",
     "shell.execute_reply": "2023-02-13T02:56:42.467571Z"
    },
    "papermill": {
     "duration": 4.37368,
     "end_time": "2023-02-13T02:56:42.470971",
     "exception": false,
     "start_time": "2023-02-13T02:56:38.097291",
     "status": "completed"
    },
    "tags": []
   },
   "outputs": [
    {
     "name": "stdout",
     "output_type": "stream",
     "text": [
      "Epoch 1/50\n",
      "49/49 [==============================] - 1s 7ms/step - loss: 0.2405 - val_loss: 0.2042\n",
      "Epoch 2/50\n",
      "49/49 [==============================] - 0s 4ms/step - loss: 0.2037 - val_loss: 0.2001\n",
      "Epoch 3/50\n",
      "49/49 [==============================] - 0s 5ms/step - loss: 0.1982 - val_loss: 0.1972\n",
      "Epoch 4/50\n",
      "49/49 [==============================] - 0s 5ms/step - loss: 0.1951 - val_loss: 0.1968\n",
      "Epoch 5/50\n",
      "49/49 [==============================] - 0s 4ms/step - loss: 0.1926 - val_loss: 0.1962\n",
      "Epoch 6/50\n",
      "49/49 [==============================] - 0s 5ms/step - loss: 0.1913 - val_loss: 0.1968\n",
      "Epoch 7/50\n",
      "49/49 [==============================] - 0s 4ms/step - loss: 0.1896 - val_loss: 0.1960\n",
      "Epoch 8/50\n",
      "49/49 [==============================] - 0s 5ms/step - loss: 0.1889 - val_loss: 0.1971\n",
      "Epoch 9/50\n",
      "49/49 [==============================] - 0s 4ms/step - loss: 0.1883 - val_loss: 0.1957\n",
      "Epoch 10/50\n",
      "49/49 [==============================] - 0s 4ms/step - loss: 0.1866 - val_loss: 0.1944\n",
      "Epoch 11/50\n",
      "49/49 [==============================] - 0s 4ms/step - loss: 0.1855 - val_loss: 0.1959\n",
      "Epoch 12/50\n",
      "49/49 [==============================] - 0s 4ms/step - loss: 0.1851 - val_loss: 0.1965\n",
      "Epoch 13/50\n",
      "49/49 [==============================] - 0s 5ms/step - loss: 0.1840 - val_loss: 0.1950\n",
      "Epoch 14/50\n",
      "49/49 [==============================] - 0s 5ms/step - loss: 0.1836 - val_loss: 0.1950\n",
      "Epoch 15/50\n",
      "49/49 [==============================] - 0s 5ms/step - loss: 0.1825 - val_loss: 0.1959\n",
      "Minimum Validation Loss: 0.1944\n"
     ]
    },
    {
     "data": {
      "image/png": "[encoded data removed]",
      "text/plain": [
       "<Figure size 432x288 with 1 Axes>"
      ]
     },
     "metadata": {},
     "output_type": "display_data"
    }
   ],
   "source": [
    "model = keras.Sequential([\n",
    "    layers.Dense(128, activation='relu', input_shape=input_shape),\n",
    "    layers.Dense(64, activation='relu'),    \n",
    "    layers.Dense(1)\n",
    "])\n",
    "model.compile(\n",
    "    optimizer='adam',\n",
    "    loss='mae',\n",
    ")\n",
    "history = model.fit(\n",
    "    X_train, y_train,\n",
    "    validation_data=(X_valid, y_valid),\n",
    "    batch_size=512,\n",
    "    epochs=50,\n",
    "    callbacks=[early_stopping]\n",
    ")\n",
    "history_df = pd.DataFrame(history.history)\n",
    "history_df.loc[:, ['loss', 'val_loss']].plot()\n",
    "print(\"Minimum Validation Loss: {:0.4f}\".format(history_df['val_loss'].min()));"
   ]
  },
  {
   "cell_type": "markdown",
   "id": "4627c2d6",
   "metadata": {
    "papermill": {
     "duration": 0.02728,
     "end_time": "2023-02-13T02:56:42.526371",
     "exception": false,
     "start_time": "2023-02-13T02:56:42.499091",
     "status": "completed"
    },
    "tags": []
   },
   "source": [
    "# 4) Train and Interpret\n",
    "\n",
    "Was this an improvement compared to training without early stopping?"
   ]
  },
  {
   "cell_type": "code",
   "execution_count": 11,
   "id": "7f9d7ba9",
   "metadata": {
    "execution": {
     "iopub.execute_input": "2023-02-13T02:56:42.584976Z",
     "iopub.status.busy": "2023-02-13T02:56:42.584121Z",
     "iopub.status.idle": "2023-02-13T02:56:42.591786Z",
     "shell.execute_reply": "2023-02-13T02:56:42.590942Z"
    },
    "papermill": {
     "duration": 0.039345,
     "end_time": "2023-02-13T02:56:42.593916",
     "exception": false,
     "start_time": "2023-02-13T02:56:42.554571",
     "status": "completed"
    },
    "tags": []
   },
   "outputs": [
    {
     "data": {
      "application/javascript": [
       "parent.postMessage({\"jupyterEvent\": \"custom.exercise_interaction\", \"data\": {\"outcomeType\": 1, \"valueTowardsCompletion\": 0.25, \"interactionType\": 1, \"questionType\": 4, \"questionId\": \"4_Q4\", \"learnToolsVersion\": \"0.3.4\", \"failureMessage\": \"\", \"exceptionClass\": \"\", \"trace\": \"\"}}, \"*\")"
      ],
      "text/plain": [
       "<IPython.core.display.Javascript object>"
      ]
     },
     "metadata": {},
     "output_type": "display_data"
    },
    {
     "data": {
      "text/markdown": [
       "<span style=\"color:#33cc33\">Correct:</span> \n",
       "\n",
       "The early stopping callback did stop the training once the network began overfitting. Moreover, by including `restore_best_weights` we still get to keep the model where validation loss was lowest."
      ],
      "text/plain": [
       "Correct: \n",
       "\n",
       "The early stopping callback did stop the training once the network began overfitting. Moreover, by including `restore_best_weights` we still get to keep the model where validation loss was lowest."
      ]
     },
     "metadata": {},
     "output_type": "display_data"
    }
   ],
   "source": [
    "# View the solution (Run this cell to receive credit!)\n",
    "q_4.check()"
   ]
  },
  {
   "cell_type": "markdown",
   "id": "73c8746d",
   "metadata": {
    "papermill": {
     "duration": 0.027427,
     "end_time": "2023-02-13T02:56:42.650277",
     "exception": false,
     "start_time": "2023-02-13T02:56:42.622850",
     "status": "completed"
    },
    "tags": []
   },
   "source": [
    "If you like, try experimenting with `patience` and `min_delta` to see what difference it might make.\n",
    "\n",
    "# Keep Going #\n",
    "\n",
    "Move on to [**learn about a couple of special layers**](https://www.kaggle.com/ryanholbrook/dropout-and-batch-normalization): batch normalization and dropout."
   ]
  },
  {
   "cell_type": "markdown",
   "id": "0fb4d7d2",
   "metadata": {
    "papermill": {
     "duration": 0.039421,
     "end_time": "2023-02-13T02:56:42.718426",
     "exception": false,
     "start_time": "2023-02-13T02:56:42.679005",
     "status": "completed"
    },
    "tags": []
   },
   "source": [
    "---\n",
    "\n",
    "\n",
    "\n",
    "\n",
    "*Have questions or comments? Visit the [Learn Discussion forum](https://www.kaggle.com/learn-forum/191966) to chat with other Learners.*"
   ]
  }
 ],
 "metadata": {
  "kernelspec": {
   "display_name": "Python 3",
   "language": "python",
   "name": "python3"
  },
  "language_info": {
   "codemirror_mode": {
    "name": "ipython",
    "version": 3
   },
   "file_extension": ".py",
   "mimetype": "text/x-python",
   "name": "python",
   "nbconvert_exporter": "python",
   "pygments_lexer": "ipython3",
   "version": "3.7.12"
  },
  "papermill": {
   "default_parameters": {},
   "duration": 47.269028,
   "end_time": "2023-02-13T02:56:46.165388",
   "environment_variables": {},
   "exception": null,
   "input_path": "__notebook__.ipynb",
   "output_path": "__notebook__.ipynb",
   "parameters": {},
   "start_time": "2023-02-13T02:55:58.896360",
   "version": "2.3.4"
  }
 },
 "nbformat": 4,
 "nbformat_minor": 5
}
