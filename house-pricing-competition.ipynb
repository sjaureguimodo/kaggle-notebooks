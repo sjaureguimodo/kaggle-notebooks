{
 "cells": [
  {
   "cell_type": "markdown",
   "id": "0d42b967",
   "metadata": {
    "papermill": {
     "duration": 0.026829,
     "end_time": "2023-02-26T00:55:12.906672",
     "exception": false,
     "start_time": "2023-02-26T00:55:12.879843",
     "status": "completed"
    },
    "tags": []
   },
   "source": [
    "# Introduction"
   ]
  },
  {
   "cell_type": "markdown",
   "id": "1f267053",
   "metadata": {
    "id": "Ophemb4W9NxA",
    "papermill": {
     "duration": 0.019925,
     "end_time": "2023-02-26T00:55:12.949376",
     "exception": false,
     "start_time": "2023-02-26T00:55:12.929451",
     "status": "completed"
    },
    "tags": []
   },
   "source": [
    "# Setup"
   ]
  },
  {
   "cell_type": "markdown",
   "id": "f57cc85c",
   "metadata": {
    "id": "zyx12Kpc9TQB",
    "papermill": {
     "duration": 0.019977,
     "end_time": "2023-02-26T00:55:12.989604",
     "exception": false,
     "start_time": "2023-02-26T00:55:12.969627",
     "status": "completed"
    },
    "tags": []
   },
   "source": [
    "## Library Imports"
   ]
  },
  {
   "cell_type": "code",
   "execution_count": 1,
   "id": "86e179a8",
   "metadata": {
    "execution": {
     "iopub.execute_input": "2023-02-26T00:55:13.031912Z",
     "iopub.status.busy": "2023-02-26T00:55:13.031320Z",
     "iopub.status.idle": "2023-02-26T00:55:15.551904Z",
     "shell.execute_reply": "2023-02-26T00:55:15.550328Z"
    },
    "id": "vphHvbHR8ypD",
    "outputId": "6e317850-2e61-48ac-ca29-eae15ef64a5b",
    "papermill": {
     "duration": 2.545281,
     "end_time": "2023-02-26T00:55:15.554895",
     "exception": false,
     "start_time": "2023-02-26T00:55:13.009614",
     "status": "completed"
    },
    "tags": []
   },
   "outputs": [
    {
     "name": "stdout",
     "output_type": "stream",
     "text": [
      "Setup Complete\n"
     ]
    }
   ],
   "source": [
    "# General\n",
    "import pandas as pd\n",
    "import numpy as np\n",
    "\n",
    "#Visualization\n",
    "import matplotlib.pyplot as plt\n",
    "from matplotlib import figure\n",
    "\n",
    "from IPython.display import Image\n",
    "\n",
    "import seaborn as sns\n",
    "import plotly.express as px\n",
    "import plotly.graph_objects as go\n",
    "\n",
    "#Models\n",
    "from sklearn.pipeline import Pipeline\n",
    "\n",
    "from sklearn.feature_selection import mutual_info_regression\n",
    "\n",
    "from sklearn.model_selection import train_test_split\n",
    "from sklearn.preprocessing import MinMaxScaler\n",
    "from sklearn.preprocessing import StandardScaler\n",
    "from sklearn.preprocessing import OneHotEncoder\n",
    "\n",
    "from sklearn.ensemble import RandomForestRegressor\n",
    "from sklearn.linear_model import LogisticRegression, RidgeClassifier\n",
    "from sklearn.neighbors import KNeighborsClassifier\n",
    "from sklearn.naive_bayes import GaussianNB\n",
    "from xgboost import XGBRegressor\n",
    "\n",
    "from sklearn.metrics import roc_curve\n",
    "from sklearn.metrics import auc\n",
    "from sklearn.metrics import accuracy_score, recall_score, f1_score, precision_score, confusion_matrix\n",
    "\n",
    "from sklearn.model_selection import cross_val_score, KFold\n",
    "\n",
    "\n",
    "import scipy.stats\n",
    "from scipy.stats import chi2\n",
    "\n",
    "\n",
    "print(\"Setup Complete\")"
   ]
  },
  {
   "cell_type": "markdown",
   "id": "a0685b09",
   "metadata": {
    "papermill": {
     "duration": 0.019879,
     "end_time": "2023-02-26T00:55:15.595211",
     "exception": false,
     "start_time": "2023-02-26T00:55:15.575332",
     "status": "completed"
    },
    "tags": []
   },
   "source": [
    "## Mutual Information"
   ]
  },
  {
   "cell_type": "code",
   "execution_count": 2,
   "id": "6c33e0f9",
   "metadata": {
    "execution": {
     "iopub.execute_input": "2023-02-26T00:55:15.638548Z",
     "iopub.status.busy": "2023-02-26T00:55:15.637512Z",
     "iopub.status.idle": "2023-02-26T00:55:15.645218Z",
     "shell.execute_reply": "2023-02-26T00:55:15.644365Z"
    },
    "papermill": {
     "duration": 0.031776,
     "end_time": "2023-02-26T00:55:15.647283",
     "exception": false,
     "start_time": "2023-02-26T00:55:15.615507",
     "status": "completed"
    },
    "tags": []
   },
   "outputs": [],
   "source": [
    "# Utility Functions\n",
    "\n",
    "def make_mi_scores(X, y, discrete_features):\n",
    "    mi_scores = mutual_info_regression(X, y, discrete_features=discrete_features)\n",
    "    mi_scores = pd.Series(mi_scores, name=\"MI Scores\", index=X.columns)\n",
    "    mi_scores = mi_scores.sort_values(ascending=False)\n",
    "    return mi_scores\n",
    "\n",
    "\n",
    "def plot_mi_scores(scores):\n",
    "    scores = scores.sort_values(ascending=True)\n",
    "    width = np.arange(len(scores))\n",
    "    ticks = list(scores.index)\n",
    "    plt.barh(width, scores)\n",
    "    plt.yticks(width, ticks)\n",
    "    plt.title(\"Mutual Information Scores\")"
   ]
  },
  {
   "cell_type": "markdown",
   "id": "0face398",
   "metadata": {
    "id": "Vy9NkKB_9arf",
    "papermill": {
     "duration": 0.019777,
     "end_time": "2023-02-26T00:55:15.687381",
     "exception": false,
     "start_time": "2023-02-26T00:55:15.667604",
     "status": "completed"
    },
    "tags": []
   },
   "source": [
    "## Load data"
   ]
  },
  {
   "cell_type": "code",
   "execution_count": 3,
   "id": "8a86353d",
   "metadata": {
    "execution": {
     "iopub.execute_input": "2023-02-26T00:55:15.730011Z",
     "iopub.status.busy": "2023-02-26T00:55:15.728859Z",
     "iopub.status.idle": "2023-02-26T00:55:18.871135Z",
     "shell.execute_reply": "2023-02-26T00:55:18.869960Z"
    },
    "id": "mRxnOuBx9c3a",
    "outputId": "55af3df2-2fe0-4c0f-e26a-0d1fc8c5c666",
    "papermill": {
     "duration": 3.166538,
     "end_time": "2023-02-26T00:55:18.873974",
     "exception": false,
     "start_time": "2023-02-26T00:55:15.707436",
     "status": "completed"
    },
    "tags": []
   },
   "outputs": [
    {
     "data": {
      "text/html": [
       "<div>\n",
       "<style scoped>\n",
       "    .dataframe tbody tr th:only-of-type {\n",
       "        vertical-align: middle;\n",
       "    }\n",
       "\n",
       "    .dataframe tbody tr th {\n",
       "        vertical-align: top;\n",
       "    }\n",
       "\n",
       "    .dataframe thead th {\n",
       "        text-align: right;\n",
       "    }\n",
       "</style>\n",
       "<table border=\"1\" class=\"dataframe\">\n",
       "  <thead>\n",
       "    <tr style=\"text-align: right;\">\n",
       "      <th></th>\n",
       "      <th>id</th>\n",
       "      <th>cat0</th>\n",
       "      <th>cat1</th>\n",
       "      <th>cat2</th>\n",
       "      <th>cat3</th>\n",
       "      <th>cat4</th>\n",
       "      <th>cat5</th>\n",
       "      <th>cat6</th>\n",
       "      <th>cat7</th>\n",
       "      <th>cat8</th>\n",
       "      <th>cat9</th>\n",
       "      <th>cont0</th>\n",
       "      <th>cont1</th>\n",
       "      <th>cont2</th>\n",
       "      <th>cont3</th>\n",
       "      <th>cont4</th>\n",
       "      <th>cont5</th>\n",
       "      <th>cont6</th>\n",
       "      <th>cont7</th>\n",
       "      <th>cont8</th>\n",
       "      <th>cont9</th>\n",
       "      <th>cont10</th>\n",
       "      <th>cont11</th>\n",
       "      <th>cont12</th>\n",
       "      <th>cont13</th>\n",
       "      <th>target</th>\n",
       "    </tr>\n",
       "  </thead>\n",
       "  <tbody>\n",
       "    <tr>\n",
       "      <th>0</th>\n",
       "      <td>1</td>\n",
       "      <td>B</td>\n",
       "      <td>B</td>\n",
       "      <td>B</td>\n",
       "      <td>C</td>\n",
       "      <td>B</td>\n",
       "      <td>B</td>\n",
       "      <td>A</td>\n",
       "      <td>E</td>\n",
       "      <td>C</td>\n",
       "      <td>N</td>\n",
       "      <td>0.201470</td>\n",
       "      <td>-0.014822</td>\n",
       "      <td>0.669699</td>\n",
       "      <td>0.136278</td>\n",
       "      <td>0.610706</td>\n",
       "      <td>0.400361</td>\n",
       "      <td>0.160266</td>\n",
       "      <td>0.310921</td>\n",
       "      <td>0.389470</td>\n",
       "      <td>0.267559</td>\n",
       "      <td>0.237281</td>\n",
       "      <td>0.377873</td>\n",
       "      <td>0.322401</td>\n",
       "      <td>0.869850</td>\n",
       "      <td>8.113634</td>\n",
       "    </tr>\n",
       "    <tr>\n",
       "      <th>1</th>\n",
       "      <td>2</td>\n",
       "      <td>B</td>\n",
       "      <td>B</td>\n",
       "      <td>A</td>\n",
       "      <td>A</td>\n",
       "      <td>B</td>\n",
       "      <td>D</td>\n",
       "      <td>A</td>\n",
       "      <td>F</td>\n",
       "      <td>A</td>\n",
       "      <td>O</td>\n",
       "      <td>0.743068</td>\n",
       "      <td>0.367411</td>\n",
       "      <td>1.021605</td>\n",
       "      <td>0.365798</td>\n",
       "      <td>0.276853</td>\n",
       "      <td>0.533087</td>\n",
       "      <td>0.558922</td>\n",
       "      <td>0.516294</td>\n",
       "      <td>0.594928</td>\n",
       "      <td>0.341439</td>\n",
       "      <td>0.906013</td>\n",
       "      <td>0.921701</td>\n",
       "      <td>0.261975</td>\n",
       "      <td>0.465083</td>\n",
       "      <td>8.481233</td>\n",
       "    </tr>\n",
       "    <tr>\n",
       "      <th>2</th>\n",
       "      <td>3</td>\n",
       "      <td>A</td>\n",
       "      <td>A</td>\n",
       "      <td>A</td>\n",
       "      <td>C</td>\n",
       "      <td>B</td>\n",
       "      <td>D</td>\n",
       "      <td>A</td>\n",
       "      <td>D</td>\n",
       "      <td>A</td>\n",
       "      <td>F</td>\n",
       "      <td>0.742708</td>\n",
       "      <td>0.310383</td>\n",
       "      <td>-0.012673</td>\n",
       "      <td>0.576957</td>\n",
       "      <td>0.285074</td>\n",
       "      <td>0.650609</td>\n",
       "      <td>0.375348</td>\n",
       "      <td>0.902567</td>\n",
       "      <td>0.555205</td>\n",
       "      <td>0.843531</td>\n",
       "      <td>0.748809</td>\n",
       "      <td>0.620126</td>\n",
       "      <td>0.541474</td>\n",
       "      <td>0.763846</td>\n",
       "      <td>8.364351</td>\n",
       "    </tr>\n",
       "    <tr>\n",
       "      <th>3</th>\n",
       "      <td>4</td>\n",
       "      <td>B</td>\n",
       "      <td>B</td>\n",
       "      <td>A</td>\n",
       "      <td>C</td>\n",
       "      <td>B</td>\n",
       "      <td>D</td>\n",
       "      <td>A</td>\n",
       "      <td>E</td>\n",
       "      <td>C</td>\n",
       "      <td>K</td>\n",
       "      <td>0.429551</td>\n",
       "      <td>0.620998</td>\n",
       "      <td>0.577942</td>\n",
       "      <td>0.280610</td>\n",
       "      <td>0.284667</td>\n",
       "      <td>0.668980</td>\n",
       "      <td>0.239061</td>\n",
       "      <td>0.732948</td>\n",
       "      <td>0.679618</td>\n",
       "      <td>0.574844</td>\n",
       "      <td>0.346010</td>\n",
       "      <td>0.714610</td>\n",
       "      <td>0.540150</td>\n",
       "      <td>0.280682</td>\n",
       "      <td>8.049253</td>\n",
       "    </tr>\n",
       "    <tr>\n",
       "      <th>4</th>\n",
       "      <td>6</td>\n",
       "      <td>A</td>\n",
       "      <td>A</td>\n",
       "      <td>A</td>\n",
       "      <td>C</td>\n",
       "      <td>B</td>\n",
       "      <td>D</td>\n",
       "      <td>A</td>\n",
       "      <td>E</td>\n",
       "      <td>A</td>\n",
       "      <td>N</td>\n",
       "      <td>1.058291</td>\n",
       "      <td>0.367492</td>\n",
       "      <td>-0.052389</td>\n",
       "      <td>0.232407</td>\n",
       "      <td>0.287595</td>\n",
       "      <td>0.686964</td>\n",
       "      <td>0.420667</td>\n",
       "      <td>0.648182</td>\n",
       "      <td>0.684501</td>\n",
       "      <td>0.956692</td>\n",
       "      <td>1.000773</td>\n",
       "      <td>0.776742</td>\n",
       "      <td>0.625849</td>\n",
       "      <td>0.250823</td>\n",
       "      <td>7.972260</td>\n",
       "    </tr>\n",
       "  </tbody>\n",
       "</table>\n",
       "</div>"
      ],
      "text/plain": [
       "   id cat0 cat1 cat2 cat3 cat4 cat5 cat6 cat7 cat8 cat9     cont0     cont1  \\\n",
       "0   1    B    B    B    C    B    B    A    E    C    N  0.201470 -0.014822   \n",
       "1   2    B    B    A    A    B    D    A    F    A    O  0.743068  0.367411   \n",
       "2   3    A    A    A    C    B    D    A    D    A    F  0.742708  0.310383   \n",
       "3   4    B    B    A    C    B    D    A    E    C    K  0.429551  0.620998   \n",
       "4   6    A    A    A    C    B    D    A    E    A    N  1.058291  0.367492   \n",
       "\n",
       "      cont2     cont3     cont4     cont5     cont6     cont7     cont8  \\\n",
       "0  0.669699  0.136278  0.610706  0.400361  0.160266  0.310921  0.389470   \n",
       "1  1.021605  0.365798  0.276853  0.533087  0.558922  0.516294  0.594928   \n",
       "2 -0.012673  0.576957  0.285074  0.650609  0.375348  0.902567  0.555205   \n",
       "3  0.577942  0.280610  0.284667  0.668980  0.239061  0.732948  0.679618   \n",
       "4 -0.052389  0.232407  0.287595  0.686964  0.420667  0.648182  0.684501   \n",
       "\n",
       "      cont9    cont10    cont11    cont12    cont13    target  \n",
       "0  0.267559  0.237281  0.377873  0.322401  0.869850  8.113634  \n",
       "1  0.341439  0.906013  0.921701  0.261975  0.465083  8.481233  \n",
       "2  0.843531  0.748809  0.620126  0.541474  0.763846  8.364351  \n",
       "3  0.574844  0.346010  0.714610  0.540150  0.280682  8.049253  \n",
       "4  0.956692  1.000773  0.776742  0.625849  0.250823  7.972260  "
      ]
     },
     "execution_count": 3,
     "metadata": {},
     "output_type": "execute_result"
    }
   ],
   "source": [
    "df_filepath ='/kaggle/input/30-days-of-ml/train.csv'\n",
    "df = pd.read_csv(df_filepath)\n",
    "\n",
    "\n",
    "pd.set_option('display.max_columns', None)\n",
    "pd.options.display.max_colwidth = 75\n",
    "\n",
    "df.head()"
   ]
  },
  {
   "cell_type": "code",
   "execution_count": 4,
   "id": "8e22c015",
   "metadata": {
    "execution": {
     "iopub.execute_input": "2023-02-26T00:55:18.917623Z",
     "iopub.status.busy": "2023-02-26T00:55:18.917197Z",
     "iopub.status.idle": "2023-02-26T00:55:18.923054Z",
     "shell.execute_reply": "2023-02-26T00:55:18.921897Z"
    },
    "papermill": {
     "duration": 0.030455,
     "end_time": "2023-02-26T00:55:18.925237",
     "exception": false,
     "start_time": "2023-02-26T00:55:18.894782",
     "status": "completed"
    },
    "tags": []
   },
   "outputs": [],
   "source": [
    "# Categorical features\n",
    "cat_features = [ 'cat0',\n",
    "                 'cat1',\n",
    "                 'cat2',\n",
    "                 'cat3',\n",
    "                 'cat4',\n",
    "                 'cat5',\n",
    "                 'cat6',\n",
    "                 'cat7',\n",
    "                 'cat8',\n",
    "                 'cat9']"
   ]
  },
  {
   "cell_type": "code",
   "execution_count": 5,
   "id": "cadbe0e4",
   "metadata": {
    "execution": {
     "iopub.execute_input": "2023-02-26T00:55:18.969975Z",
     "iopub.status.busy": "2023-02-26T00:55:18.968799Z",
     "iopub.status.idle": "2023-02-26T00:55:18.974316Z",
     "shell.execute_reply": "2023-02-26T00:55:18.973415Z"
    },
    "papermill": {
     "duration": 0.030214,
     "end_time": "2023-02-26T00:55:18.976742",
     "exception": false,
     "start_time": "2023-02-26T00:55:18.946528",
     "status": "completed"
    },
    "tags": []
   },
   "outputs": [],
   "source": [
    "# Cont features\n",
    "cont_features = ['cont0',\n",
    "                 'cont1',\n",
    "                 'cont2',\n",
    "                 'cont3',\n",
    "                 'cont4',\n",
    "                 'cont5',\n",
    "                 'cont6',\n",
    "                 'cont7',\n",
    "                 'cont8',\n",
    "                 'cont9',\n",
    "                 'cont10',\n",
    "                 'cont11',\n",
    "                 'cont12',\n",
    "                 'cont13',\n",
    "                 'target']"
   ]
  },
  {
   "cell_type": "markdown",
   "id": "696bbacc",
   "metadata": {
    "id": "gBDZ216anx_K",
    "papermill": {
     "duration": 0.020335,
     "end_time": "2023-02-26T00:55:19.018242",
     "exception": false,
     "start_time": "2023-02-26T00:55:18.997907",
     "status": "completed"
    },
    "tags": []
   },
   "source": [
    "# Exploratory Data Analysis"
   ]
  },
  {
   "cell_type": "code",
   "execution_count": 6,
   "id": "a7f589d9",
   "metadata": {
    "execution": {
     "iopub.execute_input": "2023-02-26T00:55:19.061133Z",
     "iopub.status.busy": "2023-02-26T00:55:19.060716Z",
     "iopub.status.idle": "2023-02-26T00:55:19.067658Z",
     "shell.execute_reply": "2023-02-26T00:55:19.066752Z"
    },
    "id": "2WFIzOwOp_2z",
    "papermill": {
     "duration": 0.030947,
     "end_time": "2023-02-26T00:55:19.069774",
     "exception": false,
     "start_time": "2023-02-26T00:55:19.038827",
     "status": "completed"
    },
    "tags": []
   },
   "outputs": [
    {
     "data": {
      "text/plain": [
       "['id',\n",
       " 'cat0',\n",
       " 'cat1',\n",
       " 'cat2',\n",
       " 'cat3',\n",
       " 'cat4',\n",
       " 'cat5',\n",
       " 'cat6',\n",
       " 'cat7',\n",
       " 'cat8',\n",
       " 'cat9',\n",
       " 'cont0',\n",
       " 'cont1',\n",
       " 'cont2',\n",
       " 'cont3',\n",
       " 'cont4',\n",
       " 'cont5',\n",
       " 'cont6',\n",
       " 'cont7',\n",
       " 'cont8',\n",
       " 'cont9',\n",
       " 'cont10',\n",
       " 'cont11',\n",
       " 'cont12',\n",
       " 'cont13',\n",
       " 'target']"
      ]
     },
     "execution_count": 6,
     "metadata": {},
     "output_type": "execute_result"
    }
   ],
   "source": [
    "#List column names\n",
    "list(df.columns)"
   ]
  },
  {
   "cell_type": "code",
   "execution_count": 7,
   "id": "117e2afe",
   "metadata": {
    "execution": {
     "iopub.execute_input": "2023-02-26T00:55:19.114010Z",
     "iopub.status.busy": "2023-02-26T00:55:19.113328Z",
     "iopub.status.idle": "2023-02-26T00:55:19.283518Z",
     "shell.execute_reply": "2023-02-26T00:55:19.282166Z"
    },
    "id": "Yw4vbSAcNhj3",
    "papermill": {
     "duration": 0.195785,
     "end_time": "2023-02-26T00:55:19.286454",
     "exception": false,
     "start_time": "2023-02-26T00:55:19.090669",
     "status": "completed"
    },
    "tags": []
   },
   "outputs": [
    {
     "name": "stdout",
     "output_type": "stream",
     "text": [
      "<class 'pandas.core.frame.DataFrame'>\n",
      "RangeIndex: 300000 entries, 0 to 299999\n",
      "Data columns (total 26 columns):\n",
      " #   Column  Non-Null Count   Dtype  \n",
      "---  ------  --------------   -----  \n",
      " 0   id      300000 non-null  int64  \n",
      " 1   cat0    300000 non-null  object \n",
      " 2   cat1    300000 non-null  object \n",
      " 3   cat2    300000 non-null  object \n",
      " 4   cat3    300000 non-null  object \n",
      " 5   cat4    300000 non-null  object \n",
      " 6   cat5    300000 non-null  object \n",
      " 7   cat6    300000 non-null  object \n",
      " 8   cat7    300000 non-null  object \n",
      " 9   cat8    300000 non-null  object \n",
      " 10  cat9    300000 non-null  object \n",
      " 11  cont0   300000 non-null  float64\n",
      " 12  cont1   300000 non-null  float64\n",
      " 13  cont2   300000 non-null  float64\n",
      " 14  cont3   300000 non-null  float64\n",
      " 15  cont4   300000 non-null  float64\n",
      " 16  cont5   300000 non-null  float64\n",
      " 17  cont6   300000 non-null  float64\n",
      " 18  cont7   300000 non-null  float64\n",
      " 19  cont8   300000 non-null  float64\n",
      " 20  cont9   300000 non-null  float64\n",
      " 21  cont10  300000 non-null  float64\n",
      " 22  cont11  300000 non-null  float64\n",
      " 23  cont12  300000 non-null  float64\n",
      " 24  cont13  300000 non-null  float64\n",
      " 25  target  300000 non-null  float64\n",
      "dtypes: float64(15), int64(1), object(10)\n",
      "memory usage: 59.5+ MB\n"
     ]
    }
   ],
   "source": [
    "#Check columns data types and nulls\n",
    "df.info()"
   ]
  },
  {
   "cell_type": "markdown",
   "id": "e0cb399c",
   "metadata": {
    "id": "bMoNcXaDPPkN",
    "papermill": {
     "duration": 0.020534,
     "end_time": "2023-02-26T00:55:19.328015",
     "exception": false,
     "start_time": "2023-02-26T00:55:19.307481",
     "status": "completed"
    },
    "tags": []
   },
   "source": [
    "Variables Categoricas. Operaciones."
   ]
  },
  {
   "cell_type": "markdown",
   "id": "a907040b",
   "metadata": {
    "id": "NnTh_e2IRHKf",
    "papermill": {
     "duration": 0.020282,
     "end_time": "2023-02-26T00:55:19.369078",
     "exception": false,
     "start_time": "2023-02-26T00:55:19.348796",
     "status": "completed"
    },
    "tags": []
   },
   "source": [
    "## Check for duplicates"
   ]
  },
  {
   "cell_type": "code",
   "execution_count": 8,
   "id": "f207220c",
   "metadata": {
    "execution": {
     "iopub.execute_input": "2023-02-26T00:55:19.412740Z",
     "iopub.status.busy": "2023-02-26T00:55:19.411878Z",
     "iopub.status.idle": "2023-02-26T00:55:20.305871Z",
     "shell.execute_reply": "2023-02-26T00:55:20.304673Z"
    },
    "id": "SOSyfvQodVzG",
    "papermill": {
     "duration": 0.918733,
     "end_time": "2023-02-26T00:55:20.308503",
     "exception": false,
     "start_time": "2023-02-26T00:55:19.389770",
     "status": "completed"
    },
    "tags": []
   },
   "outputs": [
    {
     "data": {
      "text/html": [
       "<div>\n",
       "<style scoped>\n",
       "    .dataframe tbody tr th:only-of-type {\n",
       "        vertical-align: middle;\n",
       "    }\n",
       "\n",
       "    .dataframe tbody tr th {\n",
       "        vertical-align: top;\n",
       "    }\n",
       "\n",
       "    .dataframe thead th {\n",
       "        text-align: right;\n",
       "    }\n",
       "</style>\n",
       "<table border=\"1\" class=\"dataframe\">\n",
       "  <thead>\n",
       "    <tr style=\"text-align: right;\">\n",
       "      <th></th>\n",
       "      <th>id</th>\n",
       "      <th>cat0</th>\n",
       "      <th>cat1</th>\n",
       "      <th>cat2</th>\n",
       "      <th>cat3</th>\n",
       "      <th>cat4</th>\n",
       "      <th>cat5</th>\n",
       "      <th>cat6</th>\n",
       "      <th>cat7</th>\n",
       "      <th>cat8</th>\n",
       "      <th>cat9</th>\n",
       "      <th>cont0</th>\n",
       "      <th>cont1</th>\n",
       "      <th>cont2</th>\n",
       "      <th>cont3</th>\n",
       "      <th>cont4</th>\n",
       "      <th>cont5</th>\n",
       "      <th>cont6</th>\n",
       "      <th>cont7</th>\n",
       "      <th>cont8</th>\n",
       "      <th>cont9</th>\n",
       "      <th>cont10</th>\n",
       "      <th>cont11</th>\n",
       "      <th>cont12</th>\n",
       "      <th>cont13</th>\n",
       "      <th>target</th>\n",
       "    </tr>\n",
       "  </thead>\n",
       "  <tbody>\n",
       "  </tbody>\n",
       "</table>\n",
       "</div>"
      ],
      "text/plain": [
       "Empty DataFrame\n",
       "Columns: [id, cat0, cat1, cat2, cat3, cat4, cat5, cat6, cat7, cat8, cat9, cont0, cont1, cont2, cont3, cont4, cont5, cont6, cont7, cont8, cont9, cont10, cont11, cont12, cont13, target]\n",
       "Index: []"
      ]
     },
     "execution_count": 8,
     "metadata": {},
     "output_type": "execute_result"
    }
   ],
   "source": [
    "#Check duplicate rows\n",
    "df[df.duplicated(keep=False)]\n"
   ]
  },
  {
   "cell_type": "markdown",
   "id": "c70cc820",
   "metadata": {
    "id": "d2oiDG-Fn_IN",
    "papermill": {
     "duration": 0.022643,
     "end_time": "2023-02-26T00:55:20.353090",
     "exception": false,
     "start_time": "2023-02-26T00:55:20.330447",
     "status": "completed"
    },
    "tags": []
   },
   "source": [
    "No duplicate rows"
   ]
  },
  {
   "cell_type": "code",
   "execution_count": 9,
   "id": "73446500",
   "metadata": {
    "execution": {
     "iopub.execute_input": "2023-02-26T00:55:20.397728Z",
     "iopub.status.busy": "2023-02-26T00:55:20.396485Z",
     "iopub.status.idle": "2023-02-26T00:55:20.429328Z",
     "shell.execute_reply": "2023-02-26T00:55:20.428370Z"
    },
    "id": "-alGH4OZdosC",
    "papermill": {
     "duration": 0.05734,
     "end_time": "2023-02-26T00:55:20.431574",
     "exception": false,
     "start_time": "2023-02-26T00:55:20.374234",
     "status": "completed"
    },
    "tags": []
   },
   "outputs": [
    {
     "data": {
      "text/plain": [
       "array([False])"
      ]
     },
     "execution_count": 9,
     "metadata": {},
     "output_type": "execute_result"
    }
   ],
   "source": [
    "#Check duplicate IDs\n",
    "df.duplicated(subset=['id']).unique()\n"
   ]
  },
  {
   "cell_type": "markdown",
   "id": "f2cec067",
   "metadata": {
    "id": "OjhED9pjoDGY",
    "papermill": {
     "duration": 0.020877,
     "end_time": "2023-02-26T00:55:20.473644",
     "exception": false,
     "start_time": "2023-02-26T00:55:20.452767",
     "status": "completed"
    },
    "tags": []
   },
   "source": [
    "No duplicate IDs"
   ]
  },
  {
   "cell_type": "code",
   "execution_count": 10,
   "id": "99ef9356",
   "metadata": {
    "execution": {
     "iopub.execute_input": "2023-02-26T00:55:20.518896Z",
     "iopub.status.busy": "2023-02-26T00:55:20.518205Z",
     "iopub.status.idle": "2023-02-26T00:55:20.574293Z",
     "shell.execute_reply": "2023-02-26T00:55:20.572959Z"
    },
    "papermill": {
     "duration": 0.082213,
     "end_time": "2023-02-26T00:55:20.577039",
     "exception": false,
     "start_time": "2023-02-26T00:55:20.494826",
     "status": "completed"
    },
    "tags": []
   },
   "outputs": [],
   "source": [
    "df = df.drop(['id'], axis=1)"
   ]
  },
  {
   "cell_type": "markdown",
   "id": "526a16c9",
   "metadata": {
    "papermill": {
     "duration": 0.020716,
     "end_time": "2023-02-26T00:55:20.619426",
     "exception": false,
     "start_time": "2023-02-26T00:55:20.598710",
     "status": "completed"
    },
    "tags": []
   },
   "source": [
    "We have unknown values in\n",
    "- Education_Level\n",
    "- Marital_Status\n",
    "- Income_Category\n",
    "\n",
    "We can later map them or filter them before building the models"
   ]
  },
  {
   "cell_type": "markdown",
   "id": "7cb7d027",
   "metadata": {
    "papermill": {
     "duration": 0.020793,
     "end_time": "2023-02-26T00:55:20.661362",
     "exception": false,
     "start_time": "2023-02-26T00:55:20.640569",
     "status": "completed"
    },
    "tags": []
   },
   "source": [
    "## Check zeros"
   ]
  },
  {
   "cell_type": "markdown",
   "id": "33b944d4",
   "metadata": {
    "id": "T_5GxsMqog5O",
    "papermill": {
     "duration": 0.020952,
     "end_time": "2023-02-26T00:55:20.703707",
     "exception": false,
     "start_time": "2023-02-26T00:55:20.682755",
     "status": "completed"
    },
    "tags": []
   },
   "source": [
    "## Target variable distribution"
   ]
  },
  {
   "cell_type": "code",
   "execution_count": 11,
   "id": "12c4c08a",
   "metadata": {
    "execution": {
     "iopub.execute_input": "2023-02-26T00:55:20.748057Z",
     "iopub.status.busy": "2023-02-26T00:55:20.747611Z",
     "iopub.status.idle": "2023-02-26T00:55:21.274521Z",
     "shell.execute_reply": "2023-02-26T00:55:21.273458Z"
    },
    "id": "Ktue-Ldgokzm",
    "papermill": {
     "duration": 0.55203,
     "end_time": "2023-02-26T00:55:21.276927",
     "exception": false,
     "start_time": "2023-02-26T00:55:20.724897",
     "status": "completed"
    },
    "tags": []
   },
   "outputs": [
    {
     "data": {
      "text/plain": [
       "Text(0, 0.5, 'Frequency')"
      ]
     },
     "execution_count": 11,
     "metadata": {},
     "output_type": "execute_result"
    },
    {
     "data": {
      "image/png": "[encoded data removed]",
      "text/plain": [
       "<Figure size 1400x500 with 1 Axes>"
      ]
     },
     "metadata": {},
     "output_type": "display_data"
    }
   ],
   "source": [
    "plt = df.target.plot.hist( grid=True,\n",
    "                           bins=100,\n",
    "                           rwidth=0.9,\n",
    "                           figsize=(14,5))\n",
    "\n",
    "plt.set_title(\"Target variable distribution\", weight='bold', size=14)\n",
    "plt.set_xlabel(\"target\", labelpad=20, weight='bold', size=12)\n",
    "plt.set_ylabel(\"Frequency\", labelpad=20, weight='bold', size=12)"
   ]
  },
  {
   "cell_type": "code",
   "execution_count": 12,
   "id": "dad578fe",
   "metadata": {
    "execution": {
     "iopub.execute_input": "2023-02-26T00:55:21.323071Z",
     "iopub.status.busy": "2023-02-26T00:55:21.322617Z",
     "iopub.status.idle": "2023-02-26T00:55:21.903517Z",
     "shell.execute_reply": "2023-02-26T00:55:21.902608Z"
    },
    "papermill": {
     "duration": 0.606977,
     "end_time": "2023-02-26T00:55:21.905903",
     "exception": false,
     "start_time": "2023-02-26T00:55:21.298926",
     "status": "completed"
    },
    "tags": []
   },
   "outputs": [
    {
     "data": {
      "text/plain": [
       "Text(0, 0.5, 'Frequency')"
      ]
     },
     "execution_count": 12,
     "metadata": {},
     "output_type": "execute_result"
    },
    {
     "data": {
      "image/png": "[encoded data removed]",
      "text/plain": [
       "<Figure size 1400x500 with 1 Axes>"
      ]
     },
     "metadata": {},
     "output_type": "display_data"
    }
   ],
   "source": [
    "df_target_lower_than_7 = df.loc[df['target'] < 6.9]\n",
    "\n",
    "plt1 = df_target_lower_than_7.target.plot.hist( grid=True,\n",
    "                           bins=100,\n",
    "                           rwidth=0.9,\n",
    "                           figsize=(14,5))\n",
    "\n",
    "plt1.set_title(\"Target variable distribution < 6.9\", weight='bold', size=14)\n",
    "plt1.set_xlabel(\"target\", labelpad=20, weight='bold', size=12)\n",
    "plt1.set_ylabel(\"Frequency\", labelpad=20, weight='bold', size=12)"
   ]
  },
  {
   "cell_type": "code",
   "execution_count": 13,
   "id": "04365251",
   "metadata": {
    "execution": {
     "iopub.execute_input": "2023-02-26T00:55:21.953650Z",
     "iopub.status.busy": "2023-02-26T00:55:21.952903Z",
     "iopub.status.idle": "2023-02-26T00:55:22.528511Z",
     "shell.execute_reply": "2023-02-26T00:55:22.527267Z"
    },
    "papermill": {
     "duration": 0.602387,
     "end_time": "2023-02-26T00:55:22.531234",
     "exception": false,
     "start_time": "2023-02-26T00:55:21.928847",
     "status": "completed"
    },
    "tags": []
   },
   "outputs": [
    {
     "data": {
      "text/plain": [
       "Text(0, 0.5, 'Frequency')"
      ]
     },
     "execution_count": 13,
     "metadata": {},
     "output_type": "execute_result"
    },
    {
     "data": {
      "image/png": "[encoded data removed]",
      "text/plain": [
       "<Figure size 1400x500 with 1 Axes>"
      ]
     },
     "metadata": {},
     "output_type": "display_data"
    }
   ],
   "source": [
    "df_target_larger_than_7 = df.loc[(df['target'] > df.target.quantile(0.01)) & (df['target'] < df.target.quantile(0.99))]\n",
    "\n",
    "plt1 = df_target_larger_than_7.target.plot.hist( grid=True,\n",
    "                           bins=100,\n",
    "                           rwidth=0.9,\n",
    "                           figsize=(14,5))\n",
    "\n",
    "plt1.set_title(\"Target variable distribution > 0.01 quantile\", weight='bold', size=14)\n",
    "plt1.set_xlabel(\"target\", labelpad=20, weight='bold', size=12)\n",
    "plt1.set_ylabel(\"Frequency\", labelpad=20, weight='bold', size=12)"
   ]
  },
  {
   "cell_type": "markdown",
   "id": "5e05368e",
   "metadata": {
    "papermill": {
     "duration": 0.02385,
     "end_time": "2023-02-26T00:55:22.578367",
     "exception": false,
     "start_time": "2023-02-26T00:55:22.554517",
     "status": "completed"
    },
    "tags": []
   },
   "source": [
    "## Cleaning border values in the train dataset"
   ]
  },
  {
   "cell_type": "code",
   "execution_count": 14,
   "id": "081a2fa7",
   "metadata": {
    "execution": {
     "iopub.execute_input": "2023-02-26T00:55:22.627147Z",
     "iopub.status.busy": "2023-02-26T00:55:22.626704Z",
     "iopub.status.idle": "2023-02-26T00:55:22.730395Z",
     "shell.execute_reply": "2023-02-26T00:55:22.728960Z"
    },
    "papermill": {
     "duration": 0.131286,
     "end_time": "2023-02-26T00:55:22.733215",
     "exception": false,
     "start_time": "2023-02-26T00:55:22.601929",
     "status": "completed"
    },
    "tags": []
   },
   "outputs": [],
   "source": [
    "df = df.loc[(df['target'] > df.target.quantile(0.01)) & (df['target'] < df.target.quantile(0.99))]"
   ]
  },
  {
   "cell_type": "markdown",
   "id": "d834bd7f",
   "metadata": {
    "papermill": {
     "duration": 0.023321,
     "end_time": "2023-02-26T00:55:22.779841",
     "exception": false,
     "start_time": "2023-02-26T00:55:22.756520",
     "status": "completed"
    },
    "tags": []
   },
   "source": [
    "## Mutual Information"
   ]
  },
  {
   "cell_type": "code",
   "execution_count": 15,
   "id": "b332c26f",
   "metadata": {
    "execution": {
     "iopub.execute_input": "2023-02-26T00:55:22.827841Z",
     "iopub.status.busy": "2023-02-26T00:55:22.826971Z",
     "iopub.status.idle": "2023-02-26T00:55:23.300471Z",
     "shell.execute_reply": "2023-02-26T00:55:23.299257Z"
    },
    "papermill": {
     "duration": 0.500315,
     "end_time": "2023-02-26T00:55:23.303081",
     "exception": false,
     "start_time": "2023-02-26T00:55:22.802766",
     "status": "completed"
    },
    "tags": []
   },
   "outputs": [
    {
     "data": {
      "text/html": [
       "<div>\n",
       "<style scoped>\n",
       "    .dataframe tbody tr th:only-of-type {\n",
       "        vertical-align: middle;\n",
       "    }\n",
       "\n",
       "    .dataframe tbody tr th {\n",
       "        vertical-align: top;\n",
       "    }\n",
       "\n",
       "    .dataframe thead th {\n",
       "        text-align: right;\n",
       "    }\n",
       "</style>\n",
       "<table border=\"1\" class=\"dataframe\">\n",
       "  <thead>\n",
       "    <tr style=\"text-align: right;\">\n",
       "      <th></th>\n",
       "      <th>cat0</th>\n",
       "      <th>cat1</th>\n",
       "      <th>cat2</th>\n",
       "      <th>cat3</th>\n",
       "      <th>cat4</th>\n",
       "      <th>cat5</th>\n",
       "      <th>cat6</th>\n",
       "      <th>cat7</th>\n",
       "      <th>cat8</th>\n",
       "      <th>cat9</th>\n",
       "      <th>cont0</th>\n",
       "      <th>cont1</th>\n",
       "      <th>cont2</th>\n",
       "      <th>cont3</th>\n",
       "      <th>cont4</th>\n",
       "      <th>cont5</th>\n",
       "      <th>cont6</th>\n",
       "      <th>cont7</th>\n",
       "      <th>cont8</th>\n",
       "      <th>cont9</th>\n",
       "      <th>cont10</th>\n",
       "      <th>cont11</th>\n",
       "      <th>cont12</th>\n",
       "      <th>cont13</th>\n",
       "    </tr>\n",
       "  </thead>\n",
       "  <tbody>\n",
       "    <tr>\n",
       "      <th>0</th>\n",
       "      <td>0</td>\n",
       "      <td>0</td>\n",
       "      <td>0</td>\n",
       "      <td>0</td>\n",
       "      <td>0</td>\n",
       "      <td>0</td>\n",
       "      <td>0</td>\n",
       "      <td>0</td>\n",
       "      <td>0</td>\n",
       "      <td>0</td>\n",
       "      <td>0.201470</td>\n",
       "      <td>-0.014822</td>\n",
       "      <td>0.669699</td>\n",
       "      <td>0.136278</td>\n",
       "      <td>0.610706</td>\n",
       "      <td>0.400361</td>\n",
       "      <td>0.160266</td>\n",
       "      <td>0.310921</td>\n",
       "      <td>0.389470</td>\n",
       "      <td>0.267559</td>\n",
       "      <td>0.237281</td>\n",
       "      <td>0.377873</td>\n",
       "      <td>0.322401</td>\n",
       "      <td>0.869850</td>\n",
       "    </tr>\n",
       "    <tr>\n",
       "      <th>1</th>\n",
       "      <td>0</td>\n",
       "      <td>0</td>\n",
       "      <td>1</td>\n",
       "      <td>1</td>\n",
       "      <td>0</td>\n",
       "      <td>1</td>\n",
       "      <td>0</td>\n",
       "      <td>1</td>\n",
       "      <td>1</td>\n",
       "      <td>1</td>\n",
       "      <td>0.743068</td>\n",
       "      <td>0.367411</td>\n",
       "      <td>1.021605</td>\n",
       "      <td>0.365798</td>\n",
       "      <td>0.276853</td>\n",
       "      <td>0.533087</td>\n",
       "      <td>0.558922</td>\n",
       "      <td>0.516294</td>\n",
       "      <td>0.594928</td>\n",
       "      <td>0.341439</td>\n",
       "      <td>0.906013</td>\n",
       "      <td>0.921701</td>\n",
       "      <td>0.261975</td>\n",
       "      <td>0.465083</td>\n",
       "    </tr>\n",
       "    <tr>\n",
       "      <th>2</th>\n",
       "      <td>1</td>\n",
       "      <td>1</td>\n",
       "      <td>1</td>\n",
       "      <td>0</td>\n",
       "      <td>0</td>\n",
       "      <td>1</td>\n",
       "      <td>0</td>\n",
       "      <td>2</td>\n",
       "      <td>1</td>\n",
       "      <td>2</td>\n",
       "      <td>0.742708</td>\n",
       "      <td>0.310383</td>\n",
       "      <td>-0.012673</td>\n",
       "      <td>0.576957</td>\n",
       "      <td>0.285074</td>\n",
       "      <td>0.650609</td>\n",
       "      <td>0.375348</td>\n",
       "      <td>0.902567</td>\n",
       "      <td>0.555205</td>\n",
       "      <td>0.843531</td>\n",
       "      <td>0.748809</td>\n",
       "      <td>0.620126</td>\n",
       "      <td>0.541474</td>\n",
       "      <td>0.763846</td>\n",
       "    </tr>\n",
       "    <tr>\n",
       "      <th>3</th>\n",
       "      <td>0</td>\n",
       "      <td>0</td>\n",
       "      <td>1</td>\n",
       "      <td>0</td>\n",
       "      <td>0</td>\n",
       "      <td>1</td>\n",
       "      <td>0</td>\n",
       "      <td>0</td>\n",
       "      <td>0</td>\n",
       "      <td>3</td>\n",
       "      <td>0.429551</td>\n",
       "      <td>0.620998</td>\n",
       "      <td>0.577942</td>\n",
       "      <td>0.280610</td>\n",
       "      <td>0.284667</td>\n",
       "      <td>0.668980</td>\n",
       "      <td>0.239061</td>\n",
       "      <td>0.732948</td>\n",
       "      <td>0.679618</td>\n",
       "      <td>0.574844</td>\n",
       "      <td>0.346010</td>\n",
       "      <td>0.714610</td>\n",
       "      <td>0.540150</td>\n",
       "      <td>0.280682</td>\n",
       "    </tr>\n",
       "    <tr>\n",
       "      <th>4</th>\n",
       "      <td>1</td>\n",
       "      <td>1</td>\n",
       "      <td>1</td>\n",
       "      <td>0</td>\n",
       "      <td>0</td>\n",
       "      <td>1</td>\n",
       "      <td>0</td>\n",
       "      <td>0</td>\n",
       "      <td>1</td>\n",
       "      <td>0</td>\n",
       "      <td>1.058291</td>\n",
       "      <td>0.367492</td>\n",
       "      <td>-0.052389</td>\n",
       "      <td>0.232407</td>\n",
       "      <td>0.287595</td>\n",
       "      <td>0.686964</td>\n",
       "      <td>0.420667</td>\n",
       "      <td>0.648182</td>\n",
       "      <td>0.684501</td>\n",
       "      <td>0.956692</td>\n",
       "      <td>1.000773</td>\n",
       "      <td>0.776742</td>\n",
       "      <td>0.625849</td>\n",
       "      <td>0.250823</td>\n",
       "    </tr>\n",
       "    <tr>\n",
       "      <th>...</th>\n",
       "      <td>...</td>\n",
       "      <td>...</td>\n",
       "      <td>...</td>\n",
       "      <td>...</td>\n",
       "      <td>...</td>\n",
       "      <td>...</td>\n",
       "      <td>...</td>\n",
       "      <td>...</td>\n",
       "      <td>...</td>\n",
       "      <td>...</td>\n",
       "      <td>...</td>\n",
       "      <td>...</td>\n",
       "      <td>...</td>\n",
       "      <td>...</td>\n",
       "      <td>...</td>\n",
       "      <td>...</td>\n",
       "      <td>...</td>\n",
       "      <td>...</td>\n",
       "      <td>...</td>\n",
       "      <td>...</td>\n",
       "      <td>...</td>\n",
       "      <td>...</td>\n",
       "      <td>...</td>\n",
       "      <td>...</td>\n",
       "    </tr>\n",
       "    <tr>\n",
       "      <th>299995</th>\n",
       "      <td>0</td>\n",
       "      <td>0</td>\n",
       "      <td>1</td>\n",
       "      <td>1</td>\n",
       "      <td>0</td>\n",
       "      <td>1</td>\n",
       "      <td>0</td>\n",
       "      <td>0</td>\n",
       "      <td>1</td>\n",
       "      <td>5</td>\n",
       "      <td>0.697124</td>\n",
       "      <td>0.483452</td>\n",
       "      <td>0.297770</td>\n",
       "      <td>0.195821</td>\n",
       "      <td>0.307883</td>\n",
       "      <td>0.769792</td>\n",
       "      <td>0.450538</td>\n",
       "      <td>0.934360</td>\n",
       "      <td>1.005077</td>\n",
       "      <td>0.853726</td>\n",
       "      <td>0.422541</td>\n",
       "      <td>1.063463</td>\n",
       "      <td>0.697685</td>\n",
       "      <td>0.506404</td>\n",
       "    </tr>\n",
       "    <tr>\n",
       "      <th>299996</th>\n",
       "      <td>1</td>\n",
       "      <td>0</td>\n",
       "      <td>1</td>\n",
       "      <td>0</td>\n",
       "      <td>0</td>\n",
       "      <td>0</td>\n",
       "      <td>0</td>\n",
       "      <td>0</td>\n",
       "      <td>3</td>\n",
       "      <td>2</td>\n",
       "      <td>0.446200</td>\n",
       "      <td>0.715135</td>\n",
       "      <td>0.610931</td>\n",
       "      <td>0.601730</td>\n",
       "      <td>0.736713</td>\n",
       "      <td>0.528056</td>\n",
       "      <td>0.508502</td>\n",
       "      <td>0.358247</td>\n",
       "      <td>0.257825</td>\n",
       "      <td>0.433525</td>\n",
       "      <td>0.301015</td>\n",
       "      <td>0.268447</td>\n",
       "      <td>0.577055</td>\n",
       "      <td>0.823611</td>\n",
       "    </tr>\n",
       "    <tr>\n",
       "      <th>299997</th>\n",
       "      <td>0</td>\n",
       "      <td>0</td>\n",
       "      <td>1</td>\n",
       "      <td>0</td>\n",
       "      <td>0</td>\n",
       "      <td>2</td>\n",
       "      <td>0</td>\n",
       "      <td>0</td>\n",
       "      <td>2</td>\n",
       "      <td>2</td>\n",
       "      <td>0.544279</td>\n",
       "      <td>0.060937</td>\n",
       "      <td>0.590955</td>\n",
       "      <td>0.905308</td>\n",
       "      <td>0.277074</td>\n",
       "      <td>0.688747</td>\n",
       "      <td>0.372425</td>\n",
       "      <td>0.364936</td>\n",
       "      <td>0.383224</td>\n",
       "      <td>0.551825</td>\n",
       "      <td>0.661007</td>\n",
       "      <td>0.629606</td>\n",
       "      <td>0.714139</td>\n",
       "      <td>0.245732</td>\n",
       "    </tr>\n",
       "    <tr>\n",
       "      <th>299998</th>\n",
       "      <td>1</td>\n",
       "      <td>0</td>\n",
       "      <td>1</td>\n",
       "      <td>0</td>\n",
       "      <td>0</td>\n",
       "      <td>0</td>\n",
       "      <td>0</td>\n",
       "      <td>0</td>\n",
       "      <td>3</td>\n",
       "      <td>5</td>\n",
       "      <td>0.300062</td>\n",
       "      <td>0.613118</td>\n",
       "      <td>0.285213</td>\n",
       "      <td>0.406851</td>\n",
       "      <td>0.805963</td>\n",
       "      <td>0.344404</td>\n",
       "      <td>0.424243</td>\n",
       "      <td>0.382028</td>\n",
       "      <td>0.468819</td>\n",
       "      <td>0.351036</td>\n",
       "      <td>0.288768</td>\n",
       "      <td>0.611169</td>\n",
       "      <td>0.380254</td>\n",
       "      <td>0.332030</td>\n",
       "    </tr>\n",
       "    <tr>\n",
       "      <th>299999</th>\n",
       "      <td>1</td>\n",
       "      <td>1</td>\n",
       "      <td>1</td>\n",
       "      <td>0</td>\n",
       "      <td>2</td>\n",
       "      <td>1</td>\n",
       "      <td>0</td>\n",
       "      <td>0</td>\n",
       "      <td>1</td>\n",
       "      <td>1</td>\n",
       "      <td>0.857752</td>\n",
       "      <td>0.628528</td>\n",
       "      <td>0.539625</td>\n",
       "      <td>0.396143</td>\n",
       "      <td>0.276785</td>\n",
       "      <td>0.565347</td>\n",
       "      <td>0.328669</td>\n",
       "      <td>0.789165</td>\n",
       "      <td>0.960406</td>\n",
       "      <td>0.776019</td>\n",
       "      <td>0.734707</td>\n",
       "      <td>0.484392</td>\n",
       "      <td>0.639754</td>\n",
       "      <td>0.689317</td>\n",
       "    </tr>\n",
       "  </tbody>\n",
       "</table>\n",
       "<p>294000 rows × 24 columns</p>\n",
       "</div>"
      ],
      "text/plain": [
       "        cat0  cat1  cat2  cat3  cat4  cat5  cat6  cat7  cat8  cat9     cont0  \\\n",
       "0          0     0     0     0     0     0     0     0     0     0  0.201470   \n",
       "1          0     0     1     1     0     1     0     1     1     1  0.743068   \n",
       "2          1     1     1     0     0     1     0     2     1     2  0.742708   \n",
       "3          0     0     1     0     0     1     0     0     0     3  0.429551   \n",
       "4          1     1     1     0     0     1     0     0     1     0  1.058291   \n",
       "...      ...   ...   ...   ...   ...   ...   ...   ...   ...   ...       ...   \n",
       "299995     0     0     1     1     0     1     0     0     1     5  0.697124   \n",
       "299996     1     0     1     0     0     0     0     0     3     2  0.446200   \n",
       "299997     0     0     1     0     0     2     0     0     2     2  0.544279   \n",
       "299998     1     0     1     0     0     0     0     0     3     5  0.300062   \n",
       "299999     1     1     1     0     2     1     0     0     1     1  0.857752   \n",
       "\n",
       "           cont1     cont2     cont3     cont4     cont5     cont6     cont7  \\\n",
       "0      -0.014822  0.669699  0.136278  0.610706  0.400361  0.160266  0.310921   \n",
       "1       0.367411  1.021605  0.365798  0.276853  0.533087  0.558922  0.516294   \n",
       "2       0.310383 -0.012673  0.576957  0.285074  0.650609  0.375348  0.902567   \n",
       "3       0.620998  0.577942  0.280610  0.284667  0.668980  0.239061  0.732948   \n",
       "4       0.367492 -0.052389  0.232407  0.287595  0.686964  0.420667  0.648182   \n",
       "...          ...       ...       ...       ...       ...       ...       ...   \n",
       "299995  0.483452  0.297770  0.195821  0.307883  0.769792  0.450538  0.934360   \n",
       "299996  0.715135  0.610931  0.601730  0.736713  0.528056  0.508502  0.358247   \n",
       "299997  0.060937  0.590955  0.905308  0.277074  0.688747  0.372425  0.364936   \n",
       "299998  0.613118  0.285213  0.406851  0.805963  0.344404  0.424243  0.382028   \n",
       "299999  0.628528  0.539625  0.396143  0.276785  0.565347  0.328669  0.789165   \n",
       "\n",
       "           cont8     cont9    cont10    cont11    cont12    cont13  \n",
       "0       0.389470  0.267559  0.237281  0.377873  0.322401  0.869850  \n",
       "1       0.594928  0.341439  0.906013  0.921701  0.261975  0.465083  \n",
       "2       0.555205  0.843531  0.748809  0.620126  0.541474  0.763846  \n",
       "3       0.679618  0.574844  0.346010  0.714610  0.540150  0.280682  \n",
       "4       0.684501  0.956692  1.000773  0.776742  0.625849  0.250823  \n",
       "...          ...       ...       ...       ...       ...       ...  \n",
       "299995  1.005077  0.853726  0.422541  1.063463  0.697685  0.506404  \n",
       "299996  0.257825  0.433525  0.301015  0.268447  0.577055  0.823611  \n",
       "299997  0.383224  0.551825  0.661007  0.629606  0.714139  0.245732  \n",
       "299998  0.468819  0.351036  0.288768  0.611169  0.380254  0.332030  \n",
       "299999  0.960406  0.776019  0.734707  0.484392  0.639754  0.689317  \n",
       "\n",
       "[294000 rows x 24 columns]"
      ]
     },
     "execution_count": 15,
     "metadata": {},
     "output_type": "execute_result"
    }
   ],
   "source": [
    "X = df.copy()\n",
    "y = X.pop(\"target\")\n",
    "\n",
    "# Label encoding for categoricals\n",
    "for colname in X.select_dtypes(\"object\"):\n",
    "    X[colname], _ = X[colname].factorize()\n",
    "\n",
    "discrete_features = X.dtypes == int\n",
    "X"
   ]
  },
  {
   "cell_type": "code",
   "execution_count": 16,
   "id": "41a28ac4",
   "metadata": {
    "execution": {
     "iopub.execute_input": "2023-02-26T00:55:23.352134Z",
     "iopub.status.busy": "2023-02-26T00:55:23.351737Z",
     "iopub.status.idle": "2023-02-26T00:56:27.444490Z",
     "shell.execute_reply": "2023-02-26T00:56:27.443087Z"
    },
    "papermill": {
     "duration": 64.120645,
     "end_time": "2023-02-26T00:56:27.447410",
     "exception": false,
     "start_time": "2023-02-26T00:55:23.326765",
     "status": "completed"
    },
    "tags": []
   },
   "outputs": [],
   "source": [
    "mi_scores = make_mi_scores(X, y, discrete_features)"
   ]
  },
  {
   "cell_type": "code",
   "execution_count": 17,
   "id": "ea2d9088",
   "metadata": {
    "execution": {
     "iopub.execute_input": "2023-02-26T00:56:27.497312Z",
     "iopub.status.busy": "2023-02-26T00:56:27.496881Z",
     "iopub.status.idle": "2023-02-26T00:56:27.840022Z",
     "shell.execute_reply": "2023-02-26T00:56:27.838917Z"
    },
    "papermill": {
     "duration": 0.371236,
     "end_time": "2023-02-26T00:56:27.842863",
     "exception": false,
     "start_time": "2023-02-26T00:56:27.471627",
     "status": "completed"
    },
    "tags": []
   },
   "outputs": [
    {
     "data": {
      "image/png": "[encoded data removed]",
      "text/plain": [
       "<Figure size 640x480 with 1 Axes>"
      ]
     },
     "metadata": {},
     "output_type": "display_data"
    }
   ],
   "source": [
    "import matplotlib.pyplot as plt\n",
    "\n",
    "plot_mi_scores(mi_scores)"
   ]
  },
  {
   "cell_type": "markdown",
   "id": "1fbf6445",
   "metadata": {
    "id": "iiUVrSImpB0I",
    "papermill": {
     "duration": 0.023803,
     "end_time": "2023-02-26T00:56:27.890836",
     "exception": false,
     "start_time": "2023-02-26T00:56:27.867033",
     "status": "completed"
    },
    "tags": []
   },
   "source": [
    "## Categorical variables"
   ]
  },
  {
   "cell_type": "markdown",
   "id": "f1735cd9",
   "metadata": {
    "id": "76AJuRs6qpRn",
    "papermill": {
     "duration": 0.023764,
     "end_time": "2023-02-26T00:56:27.939079",
     "exception": false,
     "start_time": "2023-02-26T00:56:27.915315",
     "status": "completed"
    },
    "tags": []
   },
   "source": [
    "### cat0"
   ]
  },
  {
   "cell_type": "code",
   "execution_count": 18,
   "id": "ea62db69",
   "metadata": {
    "execution": {
     "iopub.execute_input": "2023-02-26T00:56:27.989029Z",
     "iopub.status.busy": "2023-02-26T00:56:27.988569Z",
     "iopub.status.idle": "2023-02-26T00:56:28.349222Z",
     "shell.execute_reply": "2023-02-26T00:56:28.348138Z"
    },
    "papermill": {
     "duration": 0.388854,
     "end_time": "2023-02-26T00:56:28.351886",
     "exception": false,
     "start_time": "2023-02-26T00:56:27.963032",
     "status": "completed"
    },
    "tags": []
   },
   "outputs": [
    {
     "data": {
      "text/plain": [
       "[Text(0.5, 1.0, 'cat0 values distribution')]"
      ]
     },
     "execution_count": 18,
     "metadata": {},
     "output_type": "execute_result"
    },
    {
     "data": {
      "image/png": "[encoded data removed]",
      "text/plain": [
       "<Figure size 640x480 with 1 Axes>"
      ]
     },
     "metadata": {},
     "output_type": "display_data"
    }
   ],
   "source": [
    "sns.countplot(x = 'cat0', palette = 'Set2', data = df).set(title='cat0 values distribution')"
   ]
  },
  {
   "cell_type": "code",
   "execution_count": 19,
   "id": "588ef9d9",
   "metadata": {
    "_kg_hide-input": true,
    "execution": {
     "iopub.execute_input": "2023-02-26T00:56:28.403182Z",
     "iopub.status.busy": "2023-02-26T00:56:28.402760Z",
     "iopub.status.idle": "2023-02-26T00:56:28.737384Z",
     "shell.execute_reply": "2023-02-26T00:56:28.735948Z"
    },
    "id": "M5w9qx658oi0",
    "papermill": {
     "duration": 0.363419,
     "end_time": "2023-02-26T00:56:28.739986",
     "exception": false,
     "start_time": "2023-02-26T00:56:28.376567",
     "status": "completed"
    },
    "tags": []
   },
   "outputs": [
    {
     "data": {
      "text/plain": [
       "[Text(0.5, 1.0, 'target by cat0 boxplot')]"
      ]
     },
     "execution_count": 19,
     "metadata": {},
     "output_type": "execute_result"
    },
    {
     "data": {
      "image/png": "[encoded data removed]",
      "text/plain": [
       "<Figure size 640x480 with 1 Axes>"
      ]
     },
     "metadata": {},
     "output_type": "display_data"
    }
   ],
   "source": [
    "sns.boxplot(x='cat0', y='target', data=df).set(title='target by cat0 boxplot')"
   ]
  },
  {
   "cell_type": "markdown",
   "id": "aff78381",
   "metadata": {
    "id": "76AJuRs6qpRn",
    "papermill": {
     "duration": 0.024964,
     "end_time": "2023-02-26T00:56:28.790500",
     "exception": false,
     "start_time": "2023-02-26T00:56:28.765536",
     "status": "completed"
    },
    "tags": []
   },
   "source": [
    "### cat1"
   ]
  },
  {
   "cell_type": "code",
   "execution_count": 20,
   "id": "f3b0b870",
   "metadata": {
    "execution": {
     "iopub.execute_input": "2023-02-26T00:56:28.843628Z",
     "iopub.status.busy": "2023-02-26T00:56:28.842366Z",
     "iopub.status.idle": "2023-02-26T00:56:29.199431Z",
     "shell.execute_reply": "2023-02-26T00:56:29.198295Z"
    },
    "papermill": {
     "duration": 0.386,
     "end_time": "2023-02-26T00:56:29.201739",
     "exception": false,
     "start_time": "2023-02-26T00:56:28.815739",
     "status": "completed"
    },
    "tags": []
   },
   "outputs": [
    {
     "data": {
      "text/plain": [
       "[Text(0.5, 1.0, 'cat1 values distribution')]"
      ]
     },
     "execution_count": 20,
     "metadata": {},
     "output_type": "execute_result"
    },
    {
     "data": {
      "image/png": "[encoded data removed]",
      "text/plain": [
       "<Figure size 640x480 with 1 Axes>"
      ]
     },
     "metadata": {},
     "output_type": "display_data"
    }
   ],
   "source": [
    "sns.countplot(x = 'cat1', palette = 'Set2', data = df).set(title='cat1 values distribution')"
   ]
  },
  {
   "cell_type": "code",
   "execution_count": 21,
   "id": "48ea094b",
   "metadata": {
    "_kg_hide-input": true,
    "execution": {
     "iopub.execute_input": "2023-02-26T00:56:29.271985Z",
     "iopub.status.busy": "2023-02-26T00:56:29.271185Z",
     "iopub.status.idle": "2023-02-26T00:56:29.603674Z",
     "shell.execute_reply": "2023-02-26T00:56:29.602393Z"
    },
    "id": "M5w9qx658oi0",
    "papermill": {
     "duration": 0.369673,
     "end_time": "2023-02-26T00:56:29.606300",
     "exception": false,
     "start_time": "2023-02-26T00:56:29.236627",
     "status": "completed"
    },
    "tags": []
   },
   "outputs": [
    {
     "data": {
      "text/plain": [
       "[Text(0.5, 1.0, 'target by cat1 boxplot')]"
      ]
     },
     "execution_count": 21,
     "metadata": {},
     "output_type": "execute_result"
    },
    {
     "data": {
      "image/png": "[encoded data removed]",
      "text/plain": [
       "<Figure size 640x480 with 1 Axes>"
      ]
     },
     "metadata": {},
     "output_type": "display_data"
    }
   ],
   "source": [
    "sns.boxplot(x='cat1', y='target', data=df).set(title='target by cat1 boxplot')"
   ]
  },
  {
   "cell_type": "markdown",
   "id": "186c1af4",
   "metadata": {
    "id": "76AJuRs6qpRn",
    "papermill": {
     "duration": 0.025557,
     "end_time": "2023-02-26T00:56:29.657981",
     "exception": false,
     "start_time": "2023-02-26T00:56:29.632424",
     "status": "completed"
    },
    "tags": []
   },
   "source": [
    "### cat2"
   ]
  },
  {
   "cell_type": "code",
   "execution_count": 22,
   "id": "fe45d8ee",
   "metadata": {
    "execution": {
     "iopub.execute_input": "2023-02-26T00:56:29.711695Z",
     "iopub.status.busy": "2023-02-26T00:56:29.711293Z",
     "iopub.status.idle": "2023-02-26T00:56:30.051198Z",
     "shell.execute_reply": "2023-02-26T00:56:30.050034Z"
    },
    "papermill": {
     "duration": 0.369923,
     "end_time": "2023-02-26T00:56:30.053852",
     "exception": false,
     "start_time": "2023-02-26T00:56:29.683929",
     "status": "completed"
    },
    "tags": []
   },
   "outputs": [
    {
     "data": {
      "text/plain": [
       "[Text(0.5, 1.0, 'cat2 values distribution')]"
      ]
     },
     "execution_count": 22,
     "metadata": {},
     "output_type": "execute_result"
    },
    {
     "data": {
      "image/png": "[encoded data removed]",
      "text/plain": [
       "<Figure size 640x480 with 1 Axes>"
      ]
     },
     "metadata": {},
     "output_type": "display_data"
    }
   ],
   "source": [
    "sns.countplot(x = 'cat2', palette = 'Set2', data = df).set(title='cat2 values distribution')"
   ]
  },
  {
   "cell_type": "code",
   "execution_count": 23,
   "id": "a3440ab6",
   "metadata": {
    "_kg_hide-input": true,
    "execution": {
     "iopub.execute_input": "2023-02-26T00:56:30.109097Z",
     "iopub.status.busy": "2023-02-26T00:56:30.108480Z",
     "iopub.status.idle": "2023-02-26T00:56:30.447935Z",
     "shell.execute_reply": "2023-02-26T00:56:30.446576Z"
    },
    "id": "M5w9qx658oi0",
    "papermill": {
     "duration": 0.370196,
     "end_time": "2023-02-26T00:56:30.450697",
     "exception": false,
     "start_time": "2023-02-26T00:56:30.080501",
     "status": "completed"
    },
    "tags": []
   },
   "outputs": [
    {
     "data": {
      "text/plain": [
       "[Text(0.5, 1.0, 'target by cat2 boxplot')]"
      ]
     },
     "execution_count": 23,
     "metadata": {},
     "output_type": "execute_result"
    },
    {
     "data": {
      "image/png": "[encoded data removed]",
      "text/plain": [
       "<Figure size 640x480 with 1 Axes>"
      ]
     },
     "metadata": {},
     "output_type": "display_data"
    }
   ],
   "source": [
    "sns.boxplot(x='cat2', y='target', data=df).set(title='target by cat2 boxplot')"
   ]
  },
  {
   "cell_type": "markdown",
   "id": "cc14f865",
   "metadata": {
    "id": "76AJuRs6qpRn",
    "papermill": {
     "duration": 0.027734,
     "end_time": "2023-02-26T00:56:30.506335",
     "exception": false,
     "start_time": "2023-02-26T00:56:30.478601",
     "status": "completed"
    },
    "tags": []
   },
   "source": [
    "### cat3"
   ]
  },
  {
   "cell_type": "code",
   "execution_count": 24,
   "id": "f23853e3",
   "metadata": {
    "execution": {
     "iopub.execute_input": "2023-02-26T00:56:30.562125Z",
     "iopub.status.busy": "2023-02-26T00:56:30.561699Z",
     "iopub.status.idle": "2023-02-26T00:56:30.918424Z",
     "shell.execute_reply": "2023-02-26T00:56:30.917196Z"
    },
    "papermill": {
     "duration": 0.387585,
     "end_time": "2023-02-26T00:56:30.921092",
     "exception": false,
     "start_time": "2023-02-26T00:56:30.533507",
     "status": "completed"
    },
    "tags": []
   },
   "outputs": [
    {
     "data": {
      "text/plain": [
       "[Text(0.5, 1.0, 'cat3 values distribution')]"
      ]
     },
     "execution_count": 24,
     "metadata": {},
     "output_type": "execute_result"
    },
    {
     "data": {
      "image/png": "[encoded data removed]",
      "text/plain": [
       "<Figure size 640x480 with 1 Axes>"
      ]
     },
     "metadata": {},
     "output_type": "display_data"
    }
   ],
   "source": [
    "sns.countplot(x = 'cat3', palette = 'Set2', data = df).set(title='cat3 values distribution')"
   ]
  },
  {
   "cell_type": "code",
   "execution_count": 25,
   "id": "1e9f77dc",
   "metadata": {
    "_kg_hide-input": true,
    "execution": {
     "iopub.execute_input": "2023-02-26T00:56:30.978111Z",
     "iopub.status.busy": "2023-02-26T00:56:30.977686Z",
     "iopub.status.idle": "2023-02-26T00:56:31.345206Z",
     "shell.execute_reply": "2023-02-26T00:56:31.344304Z"
    },
    "id": "M5w9qx658oi0",
    "papermill": {
     "duration": 0.398469,
     "end_time": "2023-02-26T00:56:31.347381",
     "exception": false,
     "start_time": "2023-02-26T00:56:30.948912",
     "status": "completed"
    },
    "tags": []
   },
   "outputs": [
    {
     "data": {
      "text/plain": [
       "[Text(0.5, 1.0, 'target by cat3 boxplot')]"
      ]
     },
     "execution_count": 25,
     "metadata": {},
     "output_type": "execute_result"
    },
    {
     "data": {
      "image/png": "[encoded data removed]",
      "text/plain": [
       "<Figure size 640x480 with 1 Axes>"
      ]
     },
     "metadata": {},
     "output_type": "display_data"
    }
   ],
   "source": [
    "sns.boxplot(x='cat3', y='target', data=df).set(title='target by cat3 boxplot')"
   ]
  },
  {
   "cell_type": "markdown",
   "id": "61e82206",
   "metadata": {
    "papermill": {
     "duration": 0.027753,
     "end_time": "2023-02-26T00:56:31.403262",
     "exception": false,
     "start_time": "2023-02-26T00:56:31.375509",
     "status": "completed"
    },
    "tags": []
   },
   "source": [
    "The categories are too unbalanced for this column to be used"
   ]
  },
  {
   "cell_type": "markdown",
   "id": "ce929bde",
   "metadata": {
    "id": "76AJuRs6qpRn",
    "papermill": {
     "duration": 0.027406,
     "end_time": "2023-02-26T00:56:31.458585",
     "exception": false,
     "start_time": "2023-02-26T00:56:31.431179",
     "status": "completed"
    },
    "tags": []
   },
   "source": [
    "### cat4"
   ]
  },
  {
   "cell_type": "code",
   "execution_count": 26,
   "id": "7ea1efa4",
   "metadata": {
    "execution": {
     "iopub.execute_input": "2023-02-26T00:56:31.516990Z",
     "iopub.status.busy": "2023-02-26T00:56:31.516354Z",
     "iopub.status.idle": "2023-02-26T00:56:31.874823Z",
     "shell.execute_reply": "2023-02-26T00:56:31.873773Z"
    },
    "papermill": {
     "duration": 0.390375,
     "end_time": "2023-02-26T00:56:31.877234",
     "exception": false,
     "start_time": "2023-02-26T00:56:31.486859",
     "status": "completed"
    },
    "tags": []
   },
   "outputs": [
    {
     "data": {
      "text/plain": [
       "[Text(0.5, 1.0, 'cat4 values distribution')]"
      ]
     },
     "execution_count": 26,
     "metadata": {},
     "output_type": "execute_result"
    },
    {
     "data": {
      "image/png": "[encoded data removed]",
      "text/plain": [
       "<Figure size 640x480 with 1 Axes>"
      ]
     },
     "metadata": {},
     "output_type": "display_data"
    }
   ],
   "source": [
    "sns.countplot(x = 'cat4', palette = 'Set2', data = df).set(title='cat4 values distribution')"
   ]
  },
  {
   "cell_type": "code",
   "execution_count": 27,
   "id": "0893dfb5",
   "metadata": {
    "_kg_hide-input": true,
    "execution": {
     "iopub.execute_input": "2023-02-26T00:56:31.937148Z",
     "iopub.status.busy": "2023-02-26T00:56:31.936103Z",
     "iopub.status.idle": "2023-02-26T00:56:32.308969Z",
     "shell.execute_reply": "2023-02-26T00:56:32.307682Z"
    },
    "id": "M5w9qx658oi0",
    "papermill": {
     "duration": 0.405134,
     "end_time": "2023-02-26T00:56:32.311494",
     "exception": false,
     "start_time": "2023-02-26T00:56:31.906360",
     "status": "completed"
    },
    "tags": []
   },
   "outputs": [
    {
     "data": {
      "text/plain": [
       "[Text(0.5, 1.0, 'target by cat4 boxplot')]"
      ]
     },
     "execution_count": 27,
     "metadata": {},
     "output_type": "execute_result"
    },
    {
     "data": {
      "image/png": "[encoded data removed]",
      "text/plain": [
       "<Figure size 640x480 with 1 Axes>"
      ]
     },
     "metadata": {},
     "output_type": "display_data"
    }
   ],
   "source": [
    "sns.boxplot(x='cat4', y='target', data=df).set(title='target by cat4 boxplot')"
   ]
  },
  {
   "cell_type": "markdown",
   "id": "1ba2c436",
   "metadata": {
    "papermill": {
     "duration": 0.028777,
     "end_time": "2023-02-26T00:56:32.369730",
     "exception": false,
     "start_time": "2023-02-26T00:56:32.340953",
     "status": "completed"
    },
    "tags": []
   },
   "source": [
    "The categories are too unbalanced for this column to be used"
   ]
  },
  {
   "cell_type": "markdown",
   "id": "871c28ce",
   "metadata": {
    "id": "76AJuRs6qpRn",
    "papermill": {
     "duration": 0.028404,
     "end_time": "2023-02-26T00:56:32.426986",
     "exception": false,
     "start_time": "2023-02-26T00:56:32.398582",
     "status": "completed"
    },
    "tags": []
   },
   "source": [
    "### cat5"
   ]
  },
  {
   "cell_type": "code",
   "execution_count": 28,
   "id": "5c27780d",
   "metadata": {
    "execution": {
     "iopub.execute_input": "2023-02-26T00:56:32.487339Z",
     "iopub.status.busy": "2023-02-26T00:56:32.486885Z",
     "iopub.status.idle": "2023-02-26T00:56:32.857249Z",
     "shell.execute_reply": "2023-02-26T00:56:32.855804Z"
    },
    "papermill": {
     "duration": 0.404048,
     "end_time": "2023-02-26T00:56:32.859983",
     "exception": false,
     "start_time": "2023-02-26T00:56:32.455935",
     "status": "completed"
    },
    "tags": []
   },
   "outputs": [
    {
     "data": {
      "text/plain": [
       "[Text(0.5, 1.0, 'cat5 values distribution')]"
      ]
     },
     "execution_count": 28,
     "metadata": {},
     "output_type": "execute_result"
    },
    {
     "data": {
      "image/png": "[encoded data removed]",
      "text/plain": [
       "<Figure size 640x480 with 1 Axes>"
      ]
     },
     "metadata": {},
     "output_type": "display_data"
    }
   ],
   "source": [
    "sns.countplot(x = 'cat5', palette = 'Set2', data = df).set(title='cat5 values distribution')"
   ]
  },
  {
   "cell_type": "code",
   "execution_count": 29,
   "id": "113415d4",
   "metadata": {
    "_kg_hide-input": true,
    "execution": {
     "iopub.execute_input": "2023-02-26T00:56:32.922699Z",
     "iopub.status.busy": "2023-02-26T00:56:32.922254Z",
     "iopub.status.idle": "2023-02-26T00:56:33.310091Z",
     "shell.execute_reply": "2023-02-26T00:56:33.308689Z"
    },
    "id": "M5w9qx658oi0",
    "papermill": {
     "duration": 0.421945,
     "end_time": "2023-02-26T00:56:33.312962",
     "exception": false,
     "start_time": "2023-02-26T00:56:32.891017",
     "status": "completed"
    },
    "tags": []
   },
   "outputs": [
    {
     "data": {
      "text/plain": [
       "[Text(0.5, 1.0, 'target by cat5 boxplot')]"
      ]
     },
     "execution_count": 29,
     "metadata": {},
     "output_type": "execute_result"
    },
    {
     "data": {
      "image/png": "[encoded data removed]",
      "text/plain": [
       "<Figure size 640x480 with 1 Axes>"
      ]
     },
     "metadata": {},
     "output_type": "display_data"
    }
   ],
   "source": [
    "sns.boxplot(x='cat5', y='target', data=df).set(title='target by cat5 boxplot')"
   ]
  },
  {
   "cell_type": "markdown",
   "id": "daf62c27",
   "metadata": {
    "id": "76AJuRs6qpRn",
    "papermill": {
     "duration": 0.029595,
     "end_time": "2023-02-26T00:56:33.372749",
     "exception": false,
     "start_time": "2023-02-26T00:56:33.343154",
     "status": "completed"
    },
    "tags": []
   },
   "source": [
    "### cat6"
   ]
  },
  {
   "cell_type": "code",
   "execution_count": 30,
   "id": "479ed705",
   "metadata": {
    "execution": {
     "iopub.execute_input": "2023-02-26T00:56:33.434607Z",
     "iopub.status.busy": "2023-02-26T00:56:33.434195Z",
     "iopub.status.idle": "2023-02-26T00:56:33.820961Z",
     "shell.execute_reply": "2023-02-26T00:56:33.819724Z"
    },
    "papermill": {
     "duration": 0.420708,
     "end_time": "2023-02-26T00:56:33.823608",
     "exception": false,
     "start_time": "2023-02-26T00:56:33.402900",
     "status": "completed"
    },
    "tags": []
   },
   "outputs": [
    {
     "data": {
      "text/plain": [
       "[Text(0.5, 1.0, 'cat6 values distribution')]"
      ]
     },
     "execution_count": 30,
     "metadata": {},
     "output_type": "execute_result"
    },
    {
     "data": {
      "image/png": "[encoded data removed]",
      "text/plain": [
       "<Figure size 640x480 with 1 Axes>"
      ]
     },
     "metadata": {},
     "output_type": "display_data"
    }
   ],
   "source": [
    "sns.countplot(x = 'cat6', palette = 'Set2', data = df).set(title='cat6 values distribution')"
   ]
  },
  {
   "cell_type": "code",
   "execution_count": 31,
   "id": "37a7e8a7",
   "metadata": {
    "_kg_hide-input": true,
    "execution": {
     "iopub.execute_input": "2023-02-26T00:56:33.887009Z",
     "iopub.status.busy": "2023-02-26T00:56:33.886606Z",
     "iopub.status.idle": "2023-02-26T00:56:34.317403Z",
     "shell.execute_reply": "2023-02-26T00:56:34.316144Z"
    },
    "id": "M5w9qx658oi0",
    "papermill": {
     "duration": 0.465722,
     "end_time": "2023-02-26T00:56:34.319964",
     "exception": false,
     "start_time": "2023-02-26T00:56:33.854242",
     "status": "completed"
    },
    "tags": []
   },
   "outputs": [
    {
     "data": {
      "text/plain": [
       "[Text(0.5, 1.0, 'target by cat6 boxplot')]"
      ]
     },
     "execution_count": 31,
     "metadata": {},
     "output_type": "execute_result"
    },
    {
     "data": {
      "image/png": "[encoded data removed]",
      "text/plain": [
       "<Figure size 640x480 with 1 Axes>"
      ]
     },
     "metadata": {},
     "output_type": "display_data"
    }
   ],
   "source": [
    "sns.boxplot(x='cat6', y='target', data=df).set(title='target by cat6 boxplot')"
   ]
  },
  {
   "cell_type": "markdown",
   "id": "ddce93d1",
   "metadata": {
    "papermill": {
     "duration": 0.030459,
     "end_time": "2023-02-26T00:56:34.381236",
     "exception": false,
     "start_time": "2023-02-26T00:56:34.350777",
     "status": "completed"
    },
    "tags": []
   },
   "source": [
    "The categories are too unbalanced for this column to be used"
   ]
  },
  {
   "cell_type": "markdown",
   "id": "e8ee4545",
   "metadata": {
    "id": "76AJuRs6qpRn",
    "papermill": {
     "duration": 0.030123,
     "end_time": "2023-02-26T00:56:34.441846",
     "exception": false,
     "start_time": "2023-02-26T00:56:34.411723",
     "status": "completed"
    },
    "tags": []
   },
   "source": [
    "### cat7"
   ]
  },
  {
   "cell_type": "code",
   "execution_count": 32,
   "id": "cb099bda",
   "metadata": {
    "execution": {
     "iopub.execute_input": "2023-02-26T00:56:34.505274Z",
     "iopub.status.busy": "2023-02-26T00:56:34.504860Z",
     "iopub.status.idle": "2023-02-26T00:56:34.888780Z",
     "shell.execute_reply": "2023-02-26T00:56:34.887366Z"
    },
    "papermill": {
     "duration": 0.418907,
     "end_time": "2023-02-26T00:56:34.891488",
     "exception": false,
     "start_time": "2023-02-26T00:56:34.472581",
     "status": "completed"
    },
    "tags": []
   },
   "outputs": [
    {
     "data": {
      "text/plain": [
       "[Text(0.5, 1.0, 'cat7 values distribution')]"
      ]
     },
     "execution_count": 32,
     "metadata": {},
     "output_type": "execute_result"
    },
    {
     "data": {
      "image/png": "[encoded data removed]",
      "text/plain": [
       "<Figure size 640x480 with 1 Axes>"
      ]
     },
     "metadata": {},
     "output_type": "display_data"
    }
   ],
   "source": [
    "sns.countplot(x = 'cat7', palette = 'Set2', data = df).set(title='cat7 values distribution')"
   ]
  },
  {
   "cell_type": "code",
   "execution_count": 33,
   "id": "f46bc302",
   "metadata": {
    "_kg_hide-input": true,
    "execution": {
     "iopub.execute_input": "2023-02-26T00:56:34.957195Z",
     "iopub.status.busy": "2023-02-26T00:56:34.955922Z",
     "iopub.status.idle": "2023-02-26T00:56:35.391411Z",
     "shell.execute_reply": "2023-02-26T00:56:35.390186Z"
    },
    "id": "M5w9qx658oi0",
    "papermill": {
     "duration": 0.470782,
     "end_time": "2023-02-26T00:56:35.393997",
     "exception": false,
     "start_time": "2023-02-26T00:56:34.923215",
     "status": "completed"
    },
    "tags": []
   },
   "outputs": [
    {
     "data": {
      "text/plain": [
       "[Text(0.5, 1.0, 'target by cat7 boxplot')]"
      ]
     },
     "execution_count": 33,
     "metadata": {},
     "output_type": "execute_result"
    },
    {
     "data": {
      "image/png": "[encoded data removed]",
      "text/plain": [
       "<Figure size 640x480 with 1 Axes>"
      ]
     },
     "metadata": {},
     "output_type": "display_data"
    }
   ],
   "source": [
    "sns.boxplot(x='cat7', y='target', data=df).set(title='target by cat7 boxplot')"
   ]
  },
  {
   "cell_type": "markdown",
   "id": "1ef2a4e1",
   "metadata": {
    "id": "76AJuRs6qpRn",
    "papermill": {
     "duration": 0.032536,
     "end_time": "2023-02-26T00:56:35.458888",
     "exception": false,
     "start_time": "2023-02-26T00:56:35.426352",
     "status": "completed"
    },
    "tags": []
   },
   "source": [
    "### cat8"
   ]
  },
  {
   "cell_type": "code",
   "execution_count": 34,
   "id": "8d1f1d2f",
   "metadata": {
    "execution": {
     "iopub.execute_input": "2023-02-26T00:56:35.525027Z",
     "iopub.status.busy": "2023-02-26T00:56:35.524271Z",
     "iopub.status.idle": "2023-02-26T00:56:36.083062Z",
     "shell.execute_reply": "2023-02-26T00:56:36.081908Z"
    },
    "papermill": {
     "duration": 0.594794,
     "end_time": "2023-02-26T00:56:36.085699",
     "exception": false,
     "start_time": "2023-02-26T00:56:35.490905",
     "status": "completed"
    },
    "tags": []
   },
   "outputs": [
    {
     "data": {
      "text/plain": [
       "[Text(0.5, 1.0, 'cat8 values distribution')]"
      ]
     },
     "execution_count": 34,
     "metadata": {},
     "output_type": "execute_result"
    },
    {
     "data": {
      "image/png": "[encoded data removed]",
      "text/plain": [
       "<Figure size 640x480 with 1 Axes>"
      ]
     },
     "metadata": {},
     "output_type": "display_data"
    }
   ],
   "source": [
    "sns.countplot(x = 'cat8', palette = 'Set2', data = df).set(title='cat8 values distribution')"
   ]
  },
  {
   "cell_type": "code",
   "execution_count": 35,
   "id": "a843e97b",
   "metadata": {
    "_kg_hide-input": true,
    "execution": {
     "iopub.execute_input": "2023-02-26T00:56:36.153151Z",
     "iopub.status.busy": "2023-02-26T00:56:36.152717Z",
     "iopub.status.idle": "2023-02-26T00:56:36.573661Z",
     "shell.execute_reply": "2023-02-26T00:56:36.572767Z"
    },
    "id": "M5w9qx658oi0",
    "papermill": {
     "duration": 0.45728,
     "end_time": "2023-02-26T00:56:36.575930",
     "exception": false,
     "start_time": "2023-02-26T00:56:36.118650",
     "status": "completed"
    },
    "tags": []
   },
   "outputs": [
    {
     "data": {
      "text/plain": [
       "[Text(0.5, 1.0, 'target by cat8 boxplot')]"
      ]
     },
     "execution_count": 35,
     "metadata": {},
     "output_type": "execute_result"
    },
    {
     "data": {
      "image/png": "[encoded data removed]",
      "text/plain": [
       "<Figure size 640x480 with 1 Axes>"
      ]
     },
     "metadata": {},
     "output_type": "display_data"
    }
   ],
   "source": [
    "sns.boxplot(x='cat8', y='target', data=df).set(title='target by cat8 boxplot')"
   ]
  },
  {
   "cell_type": "markdown",
   "id": "4f61480a",
   "metadata": {
    "id": "76AJuRs6qpRn",
    "papermill": {
     "duration": 0.034072,
     "end_time": "2023-02-26T00:56:36.643249",
     "exception": false,
     "start_time": "2023-02-26T00:56:36.609177",
     "status": "completed"
    },
    "tags": []
   },
   "source": [
    "### cat9"
   ]
  },
  {
   "cell_type": "code",
   "execution_count": 36,
   "id": "3fbb2abe",
   "metadata": {
    "execution": {
     "iopub.execute_input": "2023-02-26T00:56:36.713230Z",
     "iopub.status.busy": "2023-02-26T00:56:36.712019Z",
     "iopub.status.idle": "2023-02-26T00:56:37.162450Z",
     "shell.execute_reply": "2023-02-26T00:56:37.161247Z"
    },
    "papermill": {
     "duration": 0.488401,
     "end_time": "2023-02-26T00:56:37.164969",
     "exception": false,
     "start_time": "2023-02-26T00:56:36.676568",
     "status": "completed"
    },
    "tags": []
   },
   "outputs": [
    {
     "data": {
      "text/plain": [
       "[Text(0.5, 1.0, 'cat9 values distribution')]"
      ]
     },
     "execution_count": 36,
     "metadata": {},
     "output_type": "execute_result"
    },
    {
     "data": {
      "image/png": "[encoded data removed]",
      "text/plain": [
       "<Figure size 640x480 with 1 Axes>"
      ]
     },
     "metadata": {},
     "output_type": "display_data"
    }
   ],
   "source": [
    "sns.countplot(x = 'cat9', palette = 'Set2', data = df).set(title='cat9 values distribution')"
   ]
  },
  {
   "cell_type": "code",
   "execution_count": 37,
   "id": "c127fc08",
   "metadata": {
    "_kg_hide-input": true,
    "execution": {
     "iopub.execute_input": "2023-02-26T00:56:37.235105Z",
     "iopub.status.busy": "2023-02-26T00:56:37.234672Z",
     "iopub.status.idle": "2023-02-26T00:56:37.783597Z",
     "shell.execute_reply": "2023-02-26T00:56:37.782529Z"
    },
    "id": "M5w9qx658oi0",
    "papermill": {
     "duration": 0.587325,
     "end_time": "2023-02-26T00:56:37.786541",
     "exception": false,
     "start_time": "2023-02-26T00:56:37.199216",
     "status": "completed"
    },
    "tags": []
   },
   "outputs": [
    {
     "data": {
      "text/plain": [
       "[Text(0.5, 1.0, 'target by cat9 boxplot')]"
      ]
     },
     "execution_count": 37,
     "metadata": {},
     "output_type": "execute_result"
    },
    {
     "data": {
      "image/png": "[encoded data removed]",
      "text/plain": [
       "<Figure size 640x480 with 1 Axes>"
      ]
     },
     "metadata": {},
     "output_type": "display_data"
    }
   ],
   "source": [
    "sns.boxplot(x='cat9', y='target', data=df).set(title='target by cat9 boxplot')"
   ]
  },
  {
   "cell_type": "markdown",
   "id": "80593566",
   "metadata": {
    "papermill": {
     "duration": 0.035585,
     "end_time": "2023-02-26T00:56:37.856631",
     "exception": false,
     "start_time": "2023-02-26T00:56:37.821046",
     "status": "completed"
    },
    "tags": []
   },
   "source": [
    "## Predictor variable candidates"
   ]
  },
  {
   "cell_type": "markdown",
   "id": "da9c83ab",
   "metadata": {
    "papermill": {
     "duration": 0.033736,
     "end_time": "2023-02-26T00:56:37.924584",
     "exception": false,
     "start_time": "2023-02-26T00:56:37.890848",
     "status": "completed"
    },
    "tags": []
   },
   "source": [
    "- cat5\n",
    "- cat8\n",
    "- cat1\n",
    "- cat9\n",
    "- cat7"
   ]
  },
  {
   "cell_type": "markdown",
   "id": "9c2b2076",
   "metadata": {
    "id": "g-vbIj9iqskU",
    "papermill": {
     "duration": 0.033916,
     "end_time": "2023-02-26T00:56:37.992391",
     "exception": false,
     "start_time": "2023-02-26T00:56:37.958475",
     "status": "completed"
    },
    "tags": []
   },
   "source": [
    "## Cont Variables"
   ]
  },
  {
   "cell_type": "markdown",
   "id": "c2031f61",
   "metadata": {
    "id": "nWwI0xmQsIk_",
    "papermill": {
     "duration": 0.033856,
     "end_time": "2023-02-26T00:56:38.059972",
     "exception": false,
     "start_time": "2023-02-26T00:56:38.026116",
     "status": "completed"
    },
    "tags": []
   },
   "source": [
    "### Correlation Matrix"
   ]
  },
  {
   "cell_type": "code",
   "execution_count": 38,
   "id": "1724a182",
   "metadata": {
    "_kg_hide-input": true,
    "execution": {
     "iopub.execute_input": "2023-02-26T00:56:38.130780Z",
     "iopub.status.busy": "2023-02-26T00:56:38.130351Z",
     "iopub.status.idle": "2023-02-26T00:56:39.724562Z",
     "shell.execute_reply": "2023-02-26T00:56:39.723560Z"
    },
    "id": "DbhVeMNBA9yW",
    "outputId": "a7f10ff8-c337-4171-ab0c-6097d98b4ae5",
    "papermill": {
     "duration": 1.632948,
     "end_time": "2023-02-26T00:56:39.727358",
     "exception": false,
     "start_time": "2023-02-26T00:56:38.094410",
     "status": "completed"
    },
    "tags": []
   },
   "outputs": [
    {
     "data": {
      "text/plain": [
       "<AxesSubplot:>"
      ]
     },
     "execution_count": 38,
     "metadata": {},
     "output_type": "execute_result"
    },
    {
     "data": {
      "image/png": "[encoded data removed]",
      "text/plain": [
       "<Figure size 640x480 with 2 Axes>"
      ]
     },
     "metadata": {},
     "output_type": "display_data"
    }
   ],
   "source": [
    "#fig, ax = plt.subplots()\n",
    "correlation = df.loc[:, df.columns.isin(cont_features)].corr().round(1)\n",
    "#plt.figure(figsize = (14,7))\n",
    "sns.heatmap(correlation, annot = True, cmap = 'RdBu', vmin=-1, vmax=1)\n",
    "#plt.show()\n"
   ]
  },
  {
   "cell_type": "markdown",
   "id": "f85e83e8",
   "metadata": {
    "id": "oIb8rOWSS3Q7",
    "papermill": {
     "duration": 0.036072,
     "end_time": "2023-02-26T00:56:39.799940",
     "exception": false,
     "start_time": "2023-02-26T00:56:39.763868",
     "status": "completed"
    },
    "tags": []
   },
   "source": [
    "### Numerics"
   ]
  },
  {
   "cell_type": "markdown",
   "id": "47d2ecf5",
   "metadata": {
    "id": "LAe4ixTaS_l9",
    "papermill": {
     "duration": 0.03559,
     "end_time": "2023-02-26T00:56:39.871502",
     "exception": false,
     "start_time": "2023-02-26T00:56:39.835912",
     "status": "completed"
    },
    "tags": []
   },
   "source": []
  },
  {
   "cell_type": "markdown",
   "id": "6d4372db",
   "metadata": {
    "id": "kpn9Be8MS8cM",
    "papermill": {
     "duration": 0.036865,
     "end_time": "2023-02-26T00:56:39.944478",
     "exception": false,
     "start_time": "2023-02-26T00:56:39.907613",
     "status": "completed"
    },
    "tags": []
   },
   "source": [
    "### Categoricals"
   ]
  },
  {
   "cell_type": "markdown",
   "id": "abd5fb81",
   "metadata": {
    "id": "8jZY6d7oTDwa",
    "papermill": {
     "duration": 0.036353,
     "end_time": "2023-02-26T00:56:40.016670",
     "exception": false,
     "start_time": "2023-02-26T00:56:39.980317",
     "status": "completed"
    },
    "tags": []
   },
   "source": [
    "- cat5\n",
    "- cat8\n",
    "- cat1\n",
    "- cat9\n",
    "- cat7"
   ]
  },
  {
   "cell_type": "markdown",
   "id": "44767303",
   "metadata": {
    "id": "hiIISXr3SD5k",
    "papermill": {
     "duration": 0.035631,
     "end_time": "2023-02-26T00:56:40.088471",
     "exception": false,
     "start_time": "2023-02-26T00:56:40.052840",
     "status": "completed"
    },
    "tags": []
   },
   "source": [
    "# Models preparation and evaluation\n"
   ]
  },
  {
   "cell_type": "markdown",
   "id": "66f81acd",
   "metadata": {
    "id": "hUDwDhLvQw1d",
    "papermill": {
     "duration": 0.035399,
     "end_time": "2023-02-26T00:56:40.159699",
     "exception": false,
     "start_time": "2023-02-26T00:56:40.124300",
     "status": "completed"
    },
    "tags": []
   },
   "source": [
    "## Dataset preparation"
   ]
  },
  {
   "cell_type": "markdown",
   "id": "7013caa3",
   "metadata": {
    "id": "wwb2bvNNWVEo",
    "papermill": {
     "duration": 0.046588,
     "end_time": "2023-02-26T00:56:40.249718",
     "exception": false,
     "start_time": "2023-02-26T00:56:40.203130",
     "status": "completed"
    },
    "tags": []
   },
   "source": [
    "### Categoricals"
   ]
  },
  {
   "cell_type": "markdown",
   "id": "61000b70",
   "metadata": {
    "id": "BitSDZkcWiu2",
    "papermill": {
     "duration": 0.03596,
     "end_time": "2023-02-26T00:56:40.327578",
     "exception": false,
     "start_time": "2023-02-26T00:56:40.291618",
     "status": "completed"
    },
    "tags": []
   },
   "source": [
    "#### Ordinal encoding"
   ]
  },
  {
   "cell_type": "code",
   "execution_count": 39,
   "id": "ece91751",
   "metadata": {
    "execution": {
     "iopub.execute_input": "2023-02-26T00:56:40.402144Z",
     "iopub.status.busy": "2023-02-26T00:56:40.401504Z",
     "iopub.status.idle": "2023-02-26T00:56:40.405327Z",
     "shell.execute_reply": "2023-02-26T00:56:40.404451Z"
    },
    "id": "bwMb-HoFX9uY",
    "outputId": "4c63a106-9925-4227-bf3b-520523227eeb",
    "papermill": {
     "duration": 0.043859,
     "end_time": "2023-02-26T00:56:40.407428",
     "exception": false,
     "start_time": "2023-02-26T00:56:40.363569",
     "status": "completed"
    },
    "tags": []
   },
   "outputs": [],
   "source": [
    "#Income_Category_enc = df['Income_Category']\n",
    "#Income_Category_enc.unique()"
   ]
  },
  {
   "cell_type": "code",
   "execution_count": 40,
   "id": "68b0e49b",
   "metadata": {
    "execution": {
     "iopub.execute_input": "2023-02-26T00:56:40.485359Z",
     "iopub.status.busy": "2023-02-26T00:56:40.484669Z",
     "iopub.status.idle": "2023-02-26T00:56:40.488843Z",
     "shell.execute_reply": "2023-02-26T00:56:40.487923Z"
    },
    "id": "xTi7FN89WXME",
    "papermill": {
     "duration": 0.046632,
     "end_time": "2023-02-26T00:56:40.491439",
     "exception": false,
     "start_time": "2023-02-26T00:56:40.444807",
     "status": "completed"
    },
    "tags": []
   },
   "outputs": [],
   "source": [
    "#We map unknowns to 0, which is the most repeated value\n",
    "#df['Income_Category'] =  df['Income_Category'].map({'Unknown':1,\n",
    "#                                                'Less than $40K':1,\n",
    "#                                                '$40K - $60K':2,\n",
    "#                                                '$60K - $80K':3,\n",
    "#                                                '$80K - $120K':4, \n",
    "#                                                '$120K +':5})"
   ]
  },
  {
   "cell_type": "markdown",
   "id": "0b9fb0e7",
   "metadata": {
    "id": "b_2jucgAWzDY",
    "papermill": {
     "duration": 0.036413,
     "end_time": "2023-02-26T00:56:40.565739",
     "exception": false,
     "start_time": "2023-02-26T00:56:40.529326",
     "status": "completed"
    },
    "tags": []
   },
   "source": [
    "#### Onehot encoder"
   ]
  },
  {
   "cell_type": "code",
   "execution_count": 41,
   "id": "5758ac7a",
   "metadata": {
    "execution": {
     "iopub.execute_input": "2023-02-26T00:56:40.643353Z",
     "iopub.status.busy": "2023-02-26T00:56:40.642904Z",
     "iopub.status.idle": "2023-02-26T00:56:40.647955Z",
     "shell.execute_reply": "2023-02-26T00:56:40.646887Z"
    },
    "id": "IUTVeW7WQgx5",
    "outputId": "c35d3b1b-f2ad-4988-e116-df4d94619128",
    "papermill": {
     "duration": 0.046977,
     "end_time": "2023-02-26T00:56:40.650374",
     "exception": false,
     "start_time": "2023-02-26T00:56:40.603397",
     "status": "completed"
    },
    "tags": []
   },
   "outputs": [],
   "source": [
    "#categoricals = ['Gender']\n",
    "\n",
    "#enc = OneHotEncoder(drop='first')\n",
    "#X = df[categoricals]\n",
    "#enc.fit(X)\n",
    "#enc.categories_"
   ]
  },
  {
   "cell_type": "markdown",
   "id": "7365e5d0",
   "metadata": {
    "execution": {
     "iopub.status.busy": "2023-02-25T23:21:24.030510Z",
     "iopub.status.idle": "2023-02-25T23:21:24.031107Z",
     "shell.execute_reply": "2023-02-25T23:21:24.030842Z",
     "shell.execute_reply.started": "2023-02-25T23:21:24.030815Z"
    },
    "id": "ZNzyU10AQjhU",
    "outputId": "b15da013-1c49-4bd7-8ccc-a3e4c09192df",
    "papermill": {
     "duration": 0.036165,
     "end_time": "2023-02-26T00:56:40.723784",
     "exception": false,
     "start_time": "2023-02-26T00:56:40.687619",
     "status": "completed"
    },
    "tags": []
   },
   "source": [
    "dummies = enc.transform(X).toarray()\n",
    "dummies"
   ]
  },
  {
   "cell_type": "markdown",
   "id": "52c7f2a8",
   "metadata": {
    "execution": {
     "iopub.status.busy": "2023-02-25T23:21:24.032499Z",
     "iopub.status.idle": "2023-02-25T23:21:24.033603Z",
     "shell.execute_reply": "2023-02-25T23:21:24.033301Z",
     "shell.execute_reply.started": "2023-02-25T23:21:24.033267Z"
    },
    "id": "i_Z4zxj9QlCC",
    "outputId": "3803429b-c24c-4df9-c245-93061211882e",
    "papermill": {
     "duration": 0.036232,
     "end_time": "2023-02-26T00:56:40.796544",
     "exception": false,
     "start_time": "2023-02-26T00:56:40.760312",
     "status": "completed"
    },
    "tags": []
   },
   "source": [
    "dummies.shape"
   ]
  },
  {
   "cell_type": "markdown",
   "id": "30d15dd3",
   "metadata": {
    "execution": {
     "iopub.status.busy": "2023-02-25T23:21:24.035521Z",
     "iopub.status.idle": "2023-02-25T23:21:24.036124Z",
     "shell.execute_reply": "2023-02-25T23:21:24.035860Z",
     "shell.execute_reply.started": "2023-02-25T23:21:24.035834Z"
    },
    "id": "HrhaglCAQmWu",
    "outputId": "a4ae02b2-fe57-4da4-a03e-f663a001319a",
    "papermill": {
     "duration": 0.0357,
     "end_time": "2023-02-26T00:56:40.868379",
     "exception": false,
     "start_time": "2023-02-26T00:56:40.832679",
     "status": "completed"
    },
    "tags": []
   },
   "source": [
    "dummies_df = pd.DataFrame(dummies)\n",
    "dummies_df"
   ]
  },
  {
   "cell_type": "markdown",
   "id": "91bd3cff",
   "metadata": {
    "execution": {
     "iopub.status.busy": "2023-02-25T23:21:24.038091Z",
     "iopub.status.idle": "2023-02-25T23:21:24.038676Z",
     "shell.execute_reply": "2023-02-25T23:21:24.038389Z",
     "shell.execute_reply.started": "2023-02-25T23:21:24.038362Z"
    },
    "id": "uPfBSIOEQoeo",
    "outputId": "cb655580-4fff-4b60-a785-21b215a06884",
    "papermill": {
     "duration": 0.036314,
     "end_time": "2023-02-26T00:56:40.941366",
     "exception": false,
     "start_time": "2023-02-26T00:56:40.905052",
     "status": "completed"
    },
    "tags": []
   },
   "source": [
    "col_names = [categoricals[i] + '_' + enc.categories_[i] for i in range(len(categoricals)) ]\n",
    "\n",
    "col_names"
   ]
  },
  {
   "cell_type": "markdown",
   "id": "016e2549",
   "metadata": {
    "execution": {
     "iopub.status.busy": "2023-02-25T23:21:24.040120Z",
     "iopub.status.idle": "2023-02-25T23:21:24.040989Z",
     "shell.execute_reply": "2023-02-25T23:21:24.040703Z",
     "shell.execute_reply.started": "2023-02-25T23:21:24.040674Z"
    },
    "id": "V9DDbXq8QqN8",
    "outputId": "b4971bea-5c54-4ea3-d6f3-74db0bd0d490",
    "papermill": {
     "duration": 0.035953,
     "end_time": "2023-02-26T00:56:41.013327",
     "exception": false,
     "start_time": "2023-02-26T00:56:40.977374",
     "status": "completed"
    },
    "tags": []
   },
   "source": [
    "col_names_drop_first = [sublist[i] for sublist in col_names for i in range(len(sublist)) if i != 0]\n",
    "col_names_drop_first"
   ]
  },
  {
   "cell_type": "markdown",
   "id": "4ee5c38f",
   "metadata": {
    "execution": {
     "iopub.status.busy": "2023-02-25T23:21:24.043075Z",
     "iopub.status.idle": "2023-02-25T23:21:24.043661Z",
     "shell.execute_reply": "2023-02-25T23:21:24.043375Z",
     "shell.execute_reply.started": "2023-02-25T23:21:24.043346Z"
    },
    "id": "miiWjaWKQrmQ",
    "outputId": "f5f0c695-73a1-4cdb-c279-5c214d6867af",
    "papermill": {
     "duration": 0.036019,
     "end_time": "2023-02-26T00:56:41.085405",
     "exception": false,
     "start_time": "2023-02-26T00:56:41.049386",
     "status": "completed"
    },
    "tags": []
   },
   "source": [
    "dummies_df.columns = col_names_drop_first\n",
    "dummies_df"
   ]
  },
  {
   "cell_type": "markdown",
   "id": "d0d64d9d",
   "metadata": {
    "id": "hDp17tUpWSqD",
    "papermill": {
     "duration": 0.035995,
     "end_time": "2023-02-26T00:56:41.157733",
     "exception": false,
     "start_time": "2023-02-26T00:56:41.121738",
     "status": "completed"
    },
    "tags": []
   },
   "source": [
    "#### Numerics"
   ]
  },
  {
   "cell_type": "code",
   "execution_count": 42,
   "id": "40e40dc2",
   "metadata": {
    "execution": {
     "iopub.execute_input": "2023-02-26T00:56:41.233494Z",
     "iopub.status.busy": "2023-02-26T00:56:41.232718Z",
     "iopub.status.idle": "2023-02-26T00:56:41.338630Z",
     "shell.execute_reply": "2023-02-26T00:56:41.337456Z"
    },
    "id": "d34nCbLmQd8N",
    "outputId": "18028165-f4a5-4b8e-c394-0151cb75163d",
    "papermill": {
     "duration": 0.147729,
     "end_time": "2023-02-26T00:56:41.341703",
     "exception": false,
     "start_time": "2023-02-26T00:56:41.193974",
     "status": "completed"
    },
    "tags": []
   },
   "outputs": [
    {
     "data": {
      "text/html": [
       "<div>\n",
       "<style scoped>\n",
       "    .dataframe tbody tr th:only-of-type {\n",
       "        vertical-align: middle;\n",
       "    }\n",
       "\n",
       "    .dataframe tbody tr th {\n",
       "        vertical-align: top;\n",
       "    }\n",
       "\n",
       "    .dataframe thead th {\n",
       "        text-align: right;\n",
       "    }\n",
       "</style>\n",
       "<table border=\"1\" class=\"dataframe\">\n",
       "  <thead>\n",
       "    <tr style=\"text-align: right;\">\n",
       "      <th></th>\n",
       "      <th>cont0_std</th>\n",
       "      <th>cont1_std</th>\n",
       "      <th>cont2_std</th>\n",
       "      <th>cont3_std</th>\n",
       "      <th>cont4_std</th>\n",
       "      <th>cont5_std</th>\n",
       "      <th>cont6_std</th>\n",
       "      <th>cont7_std</th>\n",
       "      <th>cont8_std</th>\n",
       "      <th>cont9_std</th>\n",
       "      <th>cont10_std</th>\n",
       "      <th>cont11_std</th>\n",
       "      <th>cont12_std</th>\n",
       "      <th>cont13_std</th>\n",
       "      <th>target_std</th>\n",
       "    </tr>\n",
       "  </thead>\n",
       "  <tbody>\n",
       "    <tr>\n",
       "      <th>0</th>\n",
       "      <td>-1.413799</td>\n",
       "      <td>-2.223561</td>\n",
       "      <td>0.705692</td>\n",
       "      <td>-1.643693</td>\n",
       "      <td>0.496278</td>\n",
       "      <td>-0.481481</td>\n",
       "      <td>-1.459771</td>\n",
       "      <td>-1.037174</td>\n",
       "      <td>-0.453772</td>\n",
       "      <td>-0.949949</td>\n",
       "      <td>-0.927006</td>\n",
       "      <td>-0.429174</td>\n",
       "      <td>-0.696710</td>\n",
       "      <td>1.622280</td>\n",
       "      <td>-0.176030</td>\n",
       "    </tr>\n",
       "    <tr>\n",
       "      <th>1</th>\n",
       "      <td>0.936144</td>\n",
       "      <td>-0.437317</td>\n",
       "      <td>2.094602</td>\n",
       "      <td>-0.596607</td>\n",
       "      <td>-0.894487</td>\n",
       "      <td>0.099972</td>\n",
       "      <td>0.435789</td>\n",
       "      <td>-0.095583</td>\n",
       "      <td>0.402758</td>\n",
       "      <td>-0.611047</td>\n",
       "      <td>1.686443</td>\n",
       "      <td>2.020323</td>\n",
       "      <td>-0.941203</td>\n",
       "      <td>-0.193204</td>\n",
       "      <td>0.348608</td>\n",
       "    </tr>\n",
       "    <tr>\n",
       "      <th>2</th>\n",
       "      <td>0.934584</td>\n",
       "      <td>-0.703816</td>\n",
       "      <td>-1.987502</td>\n",
       "      <td>0.366714</td>\n",
       "      <td>-0.860239</td>\n",
       "      <td>0.614824</td>\n",
       "      <td>-0.437079</td>\n",
       "      <td>1.675404</td>\n",
       "      <td>0.237156</td>\n",
       "      <td>1.692116</td>\n",
       "      <td>1.072078</td>\n",
       "      <td>0.661977</td>\n",
       "      <td>0.189696</td>\n",
       "      <td>1.146824</td>\n",
       "      <td>0.181793</td>\n",
       "    </tr>\n",
       "    <tr>\n",
       "      <th>3</th>\n",
       "      <td>-0.424176</td>\n",
       "      <td>0.747743</td>\n",
       "      <td>0.343544</td>\n",
       "      <td>-0.985242</td>\n",
       "      <td>-0.861934</td>\n",
       "      <td>0.695302</td>\n",
       "      <td>-1.085108</td>\n",
       "      <td>0.897735</td>\n",
       "      <td>0.755819</td>\n",
       "      <td>0.459612</td>\n",
       "      <td>-0.502084</td>\n",
       "      <td>1.087551</td>\n",
       "      <td>0.184339</td>\n",
       "      <td>-1.020289</td>\n",
       "      <td>-0.267914</td>\n",
       "    </tr>\n",
       "    <tr>\n",
       "      <th>4</th>\n",
       "      <td>2.303867</td>\n",
       "      <td>-0.436935</td>\n",
       "      <td>-2.144253</td>\n",
       "      <td>-1.205148</td>\n",
       "      <td>-0.849736</td>\n",
       "      <td>0.774090</td>\n",
       "      <td>-0.221593</td>\n",
       "      <td>0.509100</td>\n",
       "      <td>0.776177</td>\n",
       "      <td>2.211205</td>\n",
       "      <td>2.056770</td>\n",
       "      <td>1.367402</td>\n",
       "      <td>0.531093</td>\n",
       "      <td>-1.154212</td>\n",
       "      <td>-0.377799</td>\n",
       "    </tr>\n",
       "    <tr>\n",
       "      <th>...</th>\n",
       "      <td>...</td>\n",
       "      <td>...</td>\n",
       "      <td>...</td>\n",
       "      <td>...</td>\n",
       "      <td>...</td>\n",
       "      <td>...</td>\n",
       "      <td>...</td>\n",
       "      <td>...</td>\n",
       "      <td>...</td>\n",
       "      <td>...</td>\n",
       "      <td>...</td>\n",
       "      <td>...</td>\n",
       "      <td>...</td>\n",
       "      <td>...</td>\n",
       "      <td>...</td>\n",
       "    </tr>\n",
       "    <tr>\n",
       "      <th>293995</th>\n",
       "      <td>0.736796</td>\n",
       "      <td>0.104969</td>\n",
       "      <td>-0.762242</td>\n",
       "      <td>-1.372054</td>\n",
       "      <td>-0.765220</td>\n",
       "      <td>1.136948</td>\n",
       "      <td>-0.079561</td>\n",
       "      <td>1.821169</td>\n",
       "      <td>2.112614</td>\n",
       "      <td>1.738883</td>\n",
       "      <td>-0.202997</td>\n",
       "      <td>2.658844</td>\n",
       "      <td>0.821757</td>\n",
       "      <td>-0.007868</td>\n",
       "      <td>-0.415841</td>\n",
       "    </tr>\n",
       "    <tr>\n",
       "      <th>293996</th>\n",
       "      <td>-0.351938</td>\n",
       "      <td>1.187665</td>\n",
       "      <td>0.473748</td>\n",
       "      <td>0.479729</td>\n",
       "      <td>1.021199</td>\n",
       "      <td>0.077936</td>\n",
       "      <td>0.196048</td>\n",
       "      <td>-0.820195</td>\n",
       "      <td>-1.002581</td>\n",
       "      <td>-0.188639</td>\n",
       "      <td>-0.677929</td>\n",
       "      <td>-0.922045</td>\n",
       "      <td>0.333663</td>\n",
       "      <td>1.414885</td>\n",
       "      <td>-1.299975</td>\n",
       "    </tr>\n",
       "    <tr>\n",
       "      <th>293997</th>\n",
       "      <td>0.073619</td>\n",
       "      <td>-1.869525</td>\n",
       "      <td>0.394904</td>\n",
       "      <td>1.864673</td>\n",
       "      <td>-0.893566</td>\n",
       "      <td>0.781902</td>\n",
       "      <td>-0.450979</td>\n",
       "      <td>-0.789526</td>\n",
       "      <td>-0.479809</td>\n",
       "      <td>0.354022</td>\n",
       "      <td>0.728941</td>\n",
       "      <td>0.704678</td>\n",
       "      <td>0.888333</td>\n",
       "      <td>-1.177049</td>\n",
       "      <td>0.670473</td>\n",
       "    </tr>\n",
       "    <tr>\n",
       "      <th>293998</th>\n",
       "      <td>-0.986014</td>\n",
       "      <td>0.710921</td>\n",
       "      <td>-0.811803</td>\n",
       "      <td>-0.409323</td>\n",
       "      <td>1.309681</td>\n",
       "      <td>-0.726625</td>\n",
       "      <td>-0.204592</td>\n",
       "      <td>-0.711166</td>\n",
       "      <td>-0.122975</td>\n",
       "      <td>-0.567025</td>\n",
       "      <td>-0.725792</td>\n",
       "      <td>0.621635</td>\n",
       "      <td>-0.462628</td>\n",
       "      <td>-0.789978</td>\n",
       "      <td>-1.437769</td>\n",
       "    </tr>\n",
       "    <tr>\n",
       "      <th>293999</th>\n",
       "      <td>1.433747</td>\n",
       "      <td>0.782932</td>\n",
       "      <td>0.192314</td>\n",
       "      <td>-0.458174</td>\n",
       "      <td>-0.894767</td>\n",
       "      <td>0.241300</td>\n",
       "      <td>-0.659033</td>\n",
       "      <td>1.155475</td>\n",
       "      <td>1.926388</td>\n",
       "      <td>1.382433</td>\n",
       "      <td>1.016967</td>\n",
       "      <td>0.050607</td>\n",
       "      <td>0.587358</td>\n",
       "      <td>0.812543</td>\n",
       "      <td>0.562563</td>\n",
       "    </tr>\n",
       "  </tbody>\n",
       "</table>\n",
       "<p>294000 rows × 15 columns</p>\n",
       "</div>"
      ],
      "text/plain": [
       "        cont0_std  cont1_std  cont2_std  cont3_std  cont4_std  cont5_std  \\\n",
       "0       -1.413799  -2.223561   0.705692  -1.643693   0.496278  -0.481481   \n",
       "1        0.936144  -0.437317   2.094602  -0.596607  -0.894487   0.099972   \n",
       "2        0.934584  -0.703816  -1.987502   0.366714  -0.860239   0.614824   \n",
       "3       -0.424176   0.747743   0.343544  -0.985242  -0.861934   0.695302   \n",
       "4        2.303867  -0.436935  -2.144253  -1.205148  -0.849736   0.774090   \n",
       "...           ...        ...        ...        ...        ...        ...   \n",
       "293995   0.736796   0.104969  -0.762242  -1.372054  -0.765220   1.136948   \n",
       "293996  -0.351938   1.187665   0.473748   0.479729   1.021199   0.077936   \n",
       "293997   0.073619  -1.869525   0.394904   1.864673  -0.893566   0.781902   \n",
       "293998  -0.986014   0.710921  -0.811803  -0.409323   1.309681  -0.726625   \n",
       "293999   1.433747   0.782932   0.192314  -0.458174  -0.894767   0.241300   \n",
       "\n",
       "        cont6_std  cont7_std  cont8_std  cont9_std  cont10_std  cont11_std  \\\n",
       "0       -1.459771  -1.037174  -0.453772  -0.949949   -0.927006   -0.429174   \n",
       "1        0.435789  -0.095583   0.402758  -0.611047    1.686443    2.020323   \n",
       "2       -0.437079   1.675404   0.237156   1.692116    1.072078    0.661977   \n",
       "3       -1.085108   0.897735   0.755819   0.459612   -0.502084    1.087551   \n",
       "4       -0.221593   0.509100   0.776177   2.211205    2.056770    1.367402   \n",
       "...           ...        ...        ...        ...         ...         ...   \n",
       "293995  -0.079561   1.821169   2.112614   1.738883   -0.202997    2.658844   \n",
       "293996   0.196048  -0.820195  -1.002581  -0.188639   -0.677929   -0.922045   \n",
       "293997  -0.450979  -0.789526  -0.479809   0.354022    0.728941    0.704678   \n",
       "293998  -0.204592  -0.711166  -0.122975  -0.567025   -0.725792    0.621635   \n",
       "293999  -0.659033   1.155475   1.926388   1.382433    1.016967    0.050607   \n",
       "\n",
       "        cont12_std  cont13_std  target_std  \n",
       "0        -0.696710    1.622280   -0.176030  \n",
       "1        -0.941203   -0.193204    0.348608  \n",
       "2         0.189696    1.146824    0.181793  \n",
       "3         0.184339   -1.020289   -0.267914  \n",
       "4         0.531093   -1.154212   -0.377799  \n",
       "...            ...         ...         ...  \n",
       "293995    0.821757   -0.007868   -0.415841  \n",
       "293996    0.333663    1.414885   -1.299975  \n",
       "293997    0.888333   -1.177049    0.670473  \n",
       "293998   -0.462628   -0.789978   -1.437769  \n",
       "293999    0.587358    0.812543    0.562563  \n",
       "\n",
       "[294000 rows x 15 columns]"
      ]
     },
     "execution_count": 42,
     "metadata": {},
     "output_type": "execute_result"
    }
   ],
   "source": [
    "X = df[cont_features]\n",
    "\n",
    "scaler = StandardScaler()\n",
    "scaler.fit(X)\n",
    "\n",
    "std_numerical_data = scaler.transform(X)\n",
    "std_df = pd.DataFrame(std_numerical_data)\n",
    "std_df.columns = [i + '_std' for i in cont_features]\n",
    "std_df"
   ]
  },
  {
   "cell_type": "markdown",
   "id": "1bd46054",
   "metadata": {
    "id": "qIBlJHlAWswB",
    "papermill": {
     "duration": 0.03689,
     "end_time": "2023-02-26T00:56:41.415865",
     "exception": false,
     "start_time": "2023-02-26T00:56:41.378975",
     "status": "completed"
    },
    "tags": []
   },
   "source": [
    "#### Concat results"
   ]
  },
  {
   "cell_type": "code",
   "execution_count": 43,
   "id": "e28b850e",
   "metadata": {
    "execution": {
     "iopub.execute_input": "2023-02-26T00:56:41.492331Z",
     "iopub.status.busy": "2023-02-26T00:56:41.491660Z",
     "iopub.status.idle": "2023-02-26T00:56:41.536209Z",
     "shell.execute_reply": "2023-02-26T00:56:41.534986Z"
    },
    "id": "oQDBTIQdQtVg",
    "outputId": "80afdb10-90bd-4c0e-daf2-c6aa7bf6ced4",
    "papermill": {
     "duration": 0.086177,
     "end_time": "2023-02-26T00:56:41.538960",
     "exception": false,
     "start_time": "2023-02-26T00:56:41.452783",
     "status": "completed"
    },
    "tags": []
   },
   "outputs": [
    {
     "data": {
      "text/html": [
       "<div>\n",
       "<style scoped>\n",
       "    .dataframe tbody tr th:only-of-type {\n",
       "        vertical-align: middle;\n",
       "    }\n",
       "\n",
       "    .dataframe tbody tr th {\n",
       "        vertical-align: top;\n",
       "    }\n",
       "\n",
       "    .dataframe thead th {\n",
       "        text-align: right;\n",
       "    }\n",
       "</style>\n",
       "<table border=\"1\" class=\"dataframe\">\n",
       "  <thead>\n",
       "    <tr style=\"text-align: right;\">\n",
       "      <th></th>\n",
       "      <th>cont0_std</th>\n",
       "      <th>cont1_std</th>\n",
       "      <th>cont2_std</th>\n",
       "      <th>cont3_std</th>\n",
       "      <th>cont4_std</th>\n",
       "      <th>cont5_std</th>\n",
       "      <th>cont6_std</th>\n",
       "      <th>cont7_std</th>\n",
       "      <th>cont8_std</th>\n",
       "      <th>cont9_std</th>\n",
       "      <th>cont10_std</th>\n",
       "      <th>cont11_std</th>\n",
       "      <th>cont12_std</th>\n",
       "      <th>cont13_std</th>\n",
       "      <th>target_std</th>\n",
       "    </tr>\n",
       "  </thead>\n",
       "  <tbody>\n",
       "    <tr>\n",
       "      <th>0</th>\n",
       "      <td>-1.413799</td>\n",
       "      <td>-2.223561</td>\n",
       "      <td>0.705692</td>\n",
       "      <td>-1.643693</td>\n",
       "      <td>0.496278</td>\n",
       "      <td>-0.481481</td>\n",
       "      <td>-1.459771</td>\n",
       "      <td>-1.037174</td>\n",
       "      <td>-0.453772</td>\n",
       "      <td>-0.949949</td>\n",
       "      <td>-0.927006</td>\n",
       "      <td>-0.429174</td>\n",
       "      <td>-0.696710</td>\n",
       "      <td>1.622280</td>\n",
       "      <td>-0.176030</td>\n",
       "    </tr>\n",
       "    <tr>\n",
       "      <th>1</th>\n",
       "      <td>0.936144</td>\n",
       "      <td>-0.437317</td>\n",
       "      <td>2.094602</td>\n",
       "      <td>-0.596607</td>\n",
       "      <td>-0.894487</td>\n",
       "      <td>0.099972</td>\n",
       "      <td>0.435789</td>\n",
       "      <td>-0.095583</td>\n",
       "      <td>0.402758</td>\n",
       "      <td>-0.611047</td>\n",
       "      <td>1.686443</td>\n",
       "      <td>2.020323</td>\n",
       "      <td>-0.941203</td>\n",
       "      <td>-0.193204</td>\n",
       "      <td>0.348608</td>\n",
       "    </tr>\n",
       "    <tr>\n",
       "      <th>2</th>\n",
       "      <td>0.934584</td>\n",
       "      <td>-0.703816</td>\n",
       "      <td>-1.987502</td>\n",
       "      <td>0.366714</td>\n",
       "      <td>-0.860239</td>\n",
       "      <td>0.614824</td>\n",
       "      <td>-0.437079</td>\n",
       "      <td>1.675404</td>\n",
       "      <td>0.237156</td>\n",
       "      <td>1.692116</td>\n",
       "      <td>1.072078</td>\n",
       "      <td>0.661977</td>\n",
       "      <td>0.189696</td>\n",
       "      <td>1.146824</td>\n",
       "      <td>0.181793</td>\n",
       "    </tr>\n",
       "    <tr>\n",
       "      <th>3</th>\n",
       "      <td>-0.424176</td>\n",
       "      <td>0.747743</td>\n",
       "      <td>0.343544</td>\n",
       "      <td>-0.985242</td>\n",
       "      <td>-0.861934</td>\n",
       "      <td>0.695302</td>\n",
       "      <td>-1.085108</td>\n",
       "      <td>0.897735</td>\n",
       "      <td>0.755819</td>\n",
       "      <td>0.459612</td>\n",
       "      <td>-0.502084</td>\n",
       "      <td>1.087551</td>\n",
       "      <td>0.184339</td>\n",
       "      <td>-1.020289</td>\n",
       "      <td>-0.267914</td>\n",
       "    </tr>\n",
       "    <tr>\n",
       "      <th>4</th>\n",
       "      <td>2.303867</td>\n",
       "      <td>-0.436935</td>\n",
       "      <td>-2.144253</td>\n",
       "      <td>-1.205148</td>\n",
       "      <td>-0.849736</td>\n",
       "      <td>0.774090</td>\n",
       "      <td>-0.221593</td>\n",
       "      <td>0.509100</td>\n",
       "      <td>0.776177</td>\n",
       "      <td>2.211205</td>\n",
       "      <td>2.056770</td>\n",
       "      <td>1.367402</td>\n",
       "      <td>0.531093</td>\n",
       "      <td>-1.154212</td>\n",
       "      <td>-0.377799</td>\n",
       "    </tr>\n",
       "    <tr>\n",
       "      <th>...</th>\n",
       "      <td>...</td>\n",
       "      <td>...</td>\n",
       "      <td>...</td>\n",
       "      <td>...</td>\n",
       "      <td>...</td>\n",
       "      <td>...</td>\n",
       "      <td>...</td>\n",
       "      <td>...</td>\n",
       "      <td>...</td>\n",
       "      <td>...</td>\n",
       "      <td>...</td>\n",
       "      <td>...</td>\n",
       "      <td>...</td>\n",
       "      <td>...</td>\n",
       "      <td>...</td>\n",
       "    </tr>\n",
       "    <tr>\n",
       "      <th>293995</th>\n",
       "      <td>0.736796</td>\n",
       "      <td>0.104969</td>\n",
       "      <td>-0.762242</td>\n",
       "      <td>-1.372054</td>\n",
       "      <td>-0.765220</td>\n",
       "      <td>1.136948</td>\n",
       "      <td>-0.079561</td>\n",
       "      <td>1.821169</td>\n",
       "      <td>2.112614</td>\n",
       "      <td>1.738883</td>\n",
       "      <td>-0.202997</td>\n",
       "      <td>2.658844</td>\n",
       "      <td>0.821757</td>\n",
       "      <td>-0.007868</td>\n",
       "      <td>-0.415841</td>\n",
       "    </tr>\n",
       "    <tr>\n",
       "      <th>293996</th>\n",
       "      <td>-0.351938</td>\n",
       "      <td>1.187665</td>\n",
       "      <td>0.473748</td>\n",
       "      <td>0.479729</td>\n",
       "      <td>1.021199</td>\n",
       "      <td>0.077936</td>\n",
       "      <td>0.196048</td>\n",
       "      <td>-0.820195</td>\n",
       "      <td>-1.002581</td>\n",
       "      <td>-0.188639</td>\n",
       "      <td>-0.677929</td>\n",
       "      <td>-0.922045</td>\n",
       "      <td>0.333663</td>\n",
       "      <td>1.414885</td>\n",
       "      <td>-1.299975</td>\n",
       "    </tr>\n",
       "    <tr>\n",
       "      <th>293997</th>\n",
       "      <td>0.073619</td>\n",
       "      <td>-1.869525</td>\n",
       "      <td>0.394904</td>\n",
       "      <td>1.864673</td>\n",
       "      <td>-0.893566</td>\n",
       "      <td>0.781902</td>\n",
       "      <td>-0.450979</td>\n",
       "      <td>-0.789526</td>\n",
       "      <td>-0.479809</td>\n",
       "      <td>0.354022</td>\n",
       "      <td>0.728941</td>\n",
       "      <td>0.704678</td>\n",
       "      <td>0.888333</td>\n",
       "      <td>-1.177049</td>\n",
       "      <td>0.670473</td>\n",
       "    </tr>\n",
       "    <tr>\n",
       "      <th>293998</th>\n",
       "      <td>-0.986014</td>\n",
       "      <td>0.710921</td>\n",
       "      <td>-0.811803</td>\n",
       "      <td>-0.409323</td>\n",
       "      <td>1.309681</td>\n",
       "      <td>-0.726625</td>\n",
       "      <td>-0.204592</td>\n",
       "      <td>-0.711166</td>\n",
       "      <td>-0.122975</td>\n",
       "      <td>-0.567025</td>\n",
       "      <td>-0.725792</td>\n",
       "      <td>0.621635</td>\n",
       "      <td>-0.462628</td>\n",
       "      <td>-0.789978</td>\n",
       "      <td>-1.437769</td>\n",
       "    </tr>\n",
       "    <tr>\n",
       "      <th>293999</th>\n",
       "      <td>1.433747</td>\n",
       "      <td>0.782932</td>\n",
       "      <td>0.192314</td>\n",
       "      <td>-0.458174</td>\n",
       "      <td>-0.894767</td>\n",
       "      <td>0.241300</td>\n",
       "      <td>-0.659033</td>\n",
       "      <td>1.155475</td>\n",
       "      <td>1.926388</td>\n",
       "      <td>1.382433</td>\n",
       "      <td>1.016967</td>\n",
       "      <td>0.050607</td>\n",
       "      <td>0.587358</td>\n",
       "      <td>0.812543</td>\n",
       "      <td>0.562563</td>\n",
       "    </tr>\n",
       "  </tbody>\n",
       "</table>\n",
       "<p>294000 rows × 15 columns</p>\n",
       "</div>"
      ],
      "text/plain": [
       "        cont0_std  cont1_std  cont2_std  cont3_std  cont4_std  cont5_std  \\\n",
       "0       -1.413799  -2.223561   0.705692  -1.643693   0.496278  -0.481481   \n",
       "1        0.936144  -0.437317   2.094602  -0.596607  -0.894487   0.099972   \n",
       "2        0.934584  -0.703816  -1.987502   0.366714  -0.860239   0.614824   \n",
       "3       -0.424176   0.747743   0.343544  -0.985242  -0.861934   0.695302   \n",
       "4        2.303867  -0.436935  -2.144253  -1.205148  -0.849736   0.774090   \n",
       "...           ...        ...        ...        ...        ...        ...   \n",
       "293995   0.736796   0.104969  -0.762242  -1.372054  -0.765220   1.136948   \n",
       "293996  -0.351938   1.187665   0.473748   0.479729   1.021199   0.077936   \n",
       "293997   0.073619  -1.869525   0.394904   1.864673  -0.893566   0.781902   \n",
       "293998  -0.986014   0.710921  -0.811803  -0.409323   1.309681  -0.726625   \n",
       "293999   1.433747   0.782932   0.192314  -0.458174  -0.894767   0.241300   \n",
       "\n",
       "        cont6_std  cont7_std  cont8_std  cont9_std  cont10_std  cont11_std  \\\n",
       "0       -1.459771  -1.037174  -0.453772  -0.949949   -0.927006   -0.429174   \n",
       "1        0.435789  -0.095583   0.402758  -0.611047    1.686443    2.020323   \n",
       "2       -0.437079   1.675404   0.237156   1.692116    1.072078    0.661977   \n",
       "3       -1.085108   0.897735   0.755819   0.459612   -0.502084    1.087551   \n",
       "4       -0.221593   0.509100   0.776177   2.211205    2.056770    1.367402   \n",
       "...           ...        ...        ...        ...         ...         ...   \n",
       "293995  -0.079561   1.821169   2.112614   1.738883   -0.202997    2.658844   \n",
       "293996   0.196048  -0.820195  -1.002581  -0.188639   -0.677929   -0.922045   \n",
       "293997  -0.450979  -0.789526  -0.479809   0.354022    0.728941    0.704678   \n",
       "293998  -0.204592  -0.711166  -0.122975  -0.567025   -0.725792    0.621635   \n",
       "293999  -0.659033   1.155475   1.926388   1.382433    1.016967    0.050607   \n",
       "\n",
       "        cont12_std  cont13_std  target_std  \n",
       "0        -0.696710    1.622280   -0.176030  \n",
       "1        -0.941203   -0.193204    0.348608  \n",
       "2         0.189696    1.146824    0.181793  \n",
       "3         0.184339   -1.020289   -0.267914  \n",
       "4         0.531093   -1.154212   -0.377799  \n",
       "...            ...         ...         ...  \n",
       "293995    0.821757   -0.007868   -0.415841  \n",
       "293996    0.333663    1.414885   -1.299975  \n",
       "293997    0.888333   -1.177049    0.670473  \n",
       "293998   -0.462628   -0.789978   -1.437769  \n",
       "293999    0.587358    0.812543    0.562563  \n",
       "\n",
       "[294000 rows x 15 columns]"
      ]
     },
     "execution_count": 43,
     "metadata": {},
     "output_type": "execute_result"
    }
   ],
   "source": [
    "df_prep = pd.concat([#dummies_df,\n",
    "                     std_df\n",
    "                     ], axis = 1)\n",
    "df_prep"
   ]
  },
  {
   "cell_type": "code",
   "execution_count": 44,
   "id": "66de6f51",
   "metadata": {
    "execution": {
     "iopub.execute_input": "2023-02-26T00:56:41.616412Z",
     "iopub.status.busy": "2023-02-26T00:56:41.615975Z",
     "iopub.status.idle": "2023-02-26T00:56:41.623038Z",
     "shell.execute_reply": "2023-02-26T00:56:41.621906Z"
    },
    "id": "b4_n19KpZ3AS",
    "papermill": {
     "duration": 0.049256,
     "end_time": "2023-02-26T00:56:41.626050",
     "exception": false,
     "start_time": "2023-02-26T00:56:41.576794",
     "status": "completed"
    },
    "tags": []
   },
   "outputs": [],
   "source": [
    "X = df_prep\n",
    "y = X.pop(\"target_std\")"
   ]
  },
  {
   "cell_type": "markdown",
   "id": "24bfacba",
   "metadata": {
    "id": "HHv8wt0WARUt",
    "papermill": {
     "duration": 0.03678,
     "end_time": "2023-02-26T00:56:41.700301",
     "exception": false,
     "start_time": "2023-02-26T00:56:41.663521",
     "status": "completed"
    },
    "tags": []
   },
   "source": [
    "## XGBoost"
   ]
  },
  {
   "cell_type": "markdown",
   "id": "05e0a6fa",
   "metadata": {
    "papermill": {
     "duration": 0.037586,
     "end_time": "2023-02-26T00:56:41.774980",
     "exception": false,
     "start_time": "2023-02-26T00:56:41.737394",
     "status": "completed"
    },
    "tags": []
   },
   "source": [
    "### Training"
   ]
  },
  {
   "cell_type": "code",
   "execution_count": 45,
   "id": "871d485d",
   "metadata": {
    "execution": {
     "iopub.execute_input": "2023-02-26T00:56:41.851421Z",
     "iopub.status.busy": "2023-02-26T00:56:41.850974Z",
     "iopub.status.idle": "2023-02-26T00:56:41.926458Z",
     "shell.execute_reply": "2023-02-26T00:56:41.925458Z"
    },
    "id": "i3zon_HFLm_m",
    "outputId": "73eba418-804e-42fa-977b-91c45b4cbd42",
    "papermill": {
     "duration": 0.116928,
     "end_time": "2023-02-26T00:56:41.928996",
     "exception": false,
     "start_time": "2023-02-26T00:56:41.812068",
     "status": "completed"
    },
    "tags": []
   },
   "outputs": [],
   "source": [
    "X_train, X_test, y_train, y_test = train_test_split(X, y, test_size = 0.3)"
   ]
  },
  {
   "cell_type": "code",
   "execution_count": 46,
   "id": "38606f98",
   "metadata": {
    "execution": {
     "iopub.execute_input": "2023-02-26T00:56:42.005274Z",
     "iopub.status.busy": "2023-02-26T00:56:42.004848Z",
     "iopub.status.idle": "2023-02-26T00:59:20.759097Z",
     "shell.execute_reply": "2023-02-26T00:59:20.757789Z"
    },
    "id": "Bkt_c5VQMK8K",
    "outputId": "5b139be5-536b-460f-e58b-2ecce0013100",
    "papermill": {
     "duration": 158.832941,
     "end_time": "2023-02-26T00:59:20.798721",
     "exception": false,
     "start_time": "2023-02-26T00:56:41.965780",
     "status": "completed"
    },
    "tags": []
   },
   "outputs": [
    {
     "name": "stderr",
     "output_type": "stream",
     "text": [
      "/opt/conda/lib/python3.7/site-packages/xgboost/sklearn.py:797: UserWarning: `early_stopping_rounds` in `fit` method is deprecated for better compatibility with scikit-learn, use `early_stopping_rounds` in constructor or`set_params` instead.\n",
      "  UserWarning,\n"
     ]
    },
    {
     "data": {
      "text/plain": [
       "XGBRegressor(base_score=0.5, booster='gbtree', callbacks=None,\n",
       "             colsample_bylevel=1, colsample_bynode=1, colsample_bytree=1,\n",
       "             early_stopping_rounds=None, enable_categorical=False,\n",
       "             eval_metric=None, gamma=0, gpu_id=-1, grow_policy='depthwise',\n",
       "             importance_type=None, interaction_constraints='',\n",
       "             learning_rate=0.05, max_bin=256, max_cat_to_onehot=4,\n",
       "             max_delta_step=0, max_depth=6, max_leaves=0, min_child_weight=1,\n",
       "             missing=nan, monotone_constraints='()', n_estimators=1000,\n",
       "             n_jobs=4, num_parallel_tree=1, predictor='auto', random_state=0,\n",
       "             reg_alpha=0, reg_lambda=1, ...)"
      ]
     },
     "execution_count": 46,
     "metadata": {},
     "output_type": "execute_result"
    }
   ],
   "source": [
    "my_model = XGBRegressor(n_estimators=1000, learning_rate=0.05, n_jobs=4)\n",
    "my_model.fit(X_train, y_train, \n",
    "             early_stopping_rounds=5, \n",
    "             eval_set=[(X_test, y_test)], \n",
    "             verbose=False)"
   ]
  },
  {
   "cell_type": "code",
   "execution_count": 47,
   "id": "3851112a",
   "metadata": {
    "execution": {
     "iopub.execute_input": "2023-02-26T00:59:20.874388Z",
     "iopub.status.busy": "2023-02-26T00:59:20.873993Z",
     "iopub.status.idle": "2023-02-26T00:59:21.210100Z",
     "shell.execute_reply": "2023-02-26T00:59:21.208814Z"
    },
    "papermill": {
     "duration": 0.376763,
     "end_time": "2023-02-26T00:59:21.212643",
     "exception": false,
     "start_time": "2023-02-26T00:59:20.835880",
     "status": "completed"
    },
    "tags": []
   },
   "outputs": [
    {
     "data": {
      "text/plain": [
       "array([ 0.01076365, -0.01690288,  0.02588814, ...,  0.02454657,\n",
       "        0.39703918, -0.12987976], dtype=float32)"
      ]
     },
     "execution_count": 47,
     "metadata": {},
     "output_type": "execute_result"
    }
   ],
   "source": [
    "y_pred = my_model.predict(X_test)\n",
    "\n",
    "y_pred"
   ]
  },
  {
   "cell_type": "markdown",
   "id": "4c60e315",
   "metadata": {
    "papermill": {
     "duration": 0.037566,
     "end_time": "2023-02-26T00:59:21.289344",
     "exception": false,
     "start_time": "2023-02-26T00:59:21.251778",
     "status": "completed"
    },
    "tags": []
   },
   "source": [
    "### Evaluation"
   ]
  },
  {
   "cell_type": "markdown",
   "id": "96425a8c",
   "metadata": {
    "id": "HHv8wt0WARUt",
    "papermill": {
     "duration": 0.03776,
     "end_time": "2023-02-26T00:59:21.365343",
     "exception": false,
     "start_time": "2023-02-26T00:59:21.327583",
     "status": "completed"
    },
    "tags": []
   },
   "source": [
    "## Random forest"
   ]
  },
  {
   "cell_type": "markdown",
   "id": "31f77ef4",
   "metadata": {
    "papermill": {
     "duration": 0.03707,
     "end_time": "2023-02-26T00:59:21.439819",
     "exception": false,
     "start_time": "2023-02-26T00:59:21.402749",
     "status": "completed"
    },
    "tags": []
   },
   "source": [
    "### Training"
   ]
  },
  {
   "cell_type": "code",
   "execution_count": 48,
   "id": "2989877e",
   "metadata": {
    "execution": {
     "iopub.execute_input": "2023-02-26T00:59:21.518244Z",
     "iopub.status.busy": "2023-02-26T00:59:21.517815Z",
     "iopub.status.idle": "2023-02-26T00:59:21.572857Z",
     "shell.execute_reply": "2023-02-26T00:59:21.571560Z"
    },
    "id": "i3zon_HFLm_m",
    "outputId": "73eba418-804e-42fa-977b-91c45b4cbd42",
    "papermill": {
     "duration": 0.097318,
     "end_time": "2023-02-26T00:59:21.575731",
     "exception": false,
     "start_time": "2023-02-26T00:59:21.478413",
     "status": "completed"
    },
    "tags": []
   },
   "outputs": [],
   "source": [
    "X_train, X_test, y_train, y_test = train_test_split(X, y, test_size = 0.3)"
   ]
  },
  {
   "cell_type": "code",
   "execution_count": 49,
   "id": "efd5c75a",
   "metadata": {
    "execution": {
     "iopub.execute_input": "2023-02-26T00:59:21.652936Z",
     "iopub.status.busy": "2023-02-26T00:59:21.652522Z",
     "iopub.status.idle": "2023-02-26T00:59:21.658169Z",
     "shell.execute_reply": "2023-02-26T00:59:21.656810Z"
    },
    "id": "Bkt_c5VQMK8K",
    "outputId": "5b139be5-536b-460f-e58b-2ecce0013100",
    "papermill": {
     "duration": 0.047358,
     "end_time": "2023-02-26T00:59:21.660916",
     "exception": false,
     "start_time": "2023-02-26T00:59:21.613558",
     "status": "completed"
    },
    "tags": []
   },
   "outputs": [],
   "source": [
    "my_pipeline = Pipeline(steps=[('model', RandomForestRegressor(n_estimators=50, random_state=0))\n",
    "                             ])"
   ]
  },
  {
   "cell_type": "code",
   "execution_count": 50,
   "id": "a2674e1a",
   "metadata": {
    "execution": {
     "iopub.execute_input": "2023-02-26T00:59:21.739139Z",
     "iopub.status.busy": "2023-02-26T00:59:21.738720Z",
     "iopub.status.idle": "2023-02-26T00:59:22.095417Z",
     "shell.execute_reply": "2023-02-26T00:59:22.093610Z"
    },
    "papermill": {
     "duration": 0.398476,
     "end_time": "2023-02-26T00:59:22.098559",
     "exception": false,
     "start_time": "2023-02-26T00:59:21.700083",
     "status": "completed"
    },
    "tags": []
   },
   "outputs": [
    {
     "data": {
      "text/plain": [
       "array([-0.06129835,  0.2309468 , -0.03875663, ...,  0.04462503,\n",
       "        0.42339417, -0.24924049], dtype=float32)"
      ]
     },
     "execution_count": 50,
     "metadata": {},
     "output_type": "execute_result"
    }
   ],
   "source": [
    "y_pred = my_model.predict(X_test)\n",
    "\n",
    "y_pred"
   ]
  },
  {
   "cell_type": "markdown",
   "id": "6d2f966e",
   "metadata": {
    "id": "TJAInyCy3Isk",
    "papermill": {
     "duration": 0.038465,
     "end_time": "2023-02-26T00:59:22.178047",
     "exception": false,
     "start_time": "2023-02-26T00:59:22.139582",
     "status": "completed"
    },
    "tags": []
   },
   "source": [
    "# Conclusions"
   ]
  },
  {
   "cell_type": "markdown",
   "id": "beb8ff08",
   "metadata": {
    "papermill": {
     "duration": 0.041541,
     "end_time": "2023-02-26T00:59:22.257318",
     "exception": false,
     "start_time": "2023-02-26T00:59:22.215777",
     "status": "completed"
    },
    "tags": []
   },
   "source": [
    "- We can see that both models perform better than the baseline.\n",
    "- Given the fact that we are trying to identify clients with a possible attrition, our lead metric should be the Recall Sensitivity of the model (If we are going to personalize a retention campaign, the false positives shouldn't be be a problem as long as I don't miss the true positives).\n",
    "- The logistic regression model has the same recall sensitivity as the KNN model, but the KNN model has a better precision and overall performance.\n",
    "- In this case I would choose the KNN model to identify the users with a possible attrition."
   ]
  }
 ],
 "metadata": {
  "kernelspec": {
   "display_name": "Python 3",
   "language": "python",
   "name": "python3"
  },
  "language_info": {
   "codemirror_mode": {
    "name": "ipython",
    "version": 3
   },
   "file_extension": ".py",
   "mimetype": "text/x-python",
   "name": "python",
   "nbconvert_exporter": "python",
   "pygments_lexer": "ipython3",
   "version": "3.7.12"
  },
  "papermill": {
   "default_parameters": {},
   "duration": 260.068441,
   "end_time": "2023-02-26T00:59:23.420226",
   "environment_variables": {},
   "exception": null,
   "input_path": "__notebook__.ipynb",
   "output_path": "__notebook__.ipynb",
   "parameters": {},
   "start_time": "2023-02-26T00:55:03.351785",
   "version": "2.3.4"
  }
 },
 "nbformat": 4,
 "nbformat_minor": 5
}
