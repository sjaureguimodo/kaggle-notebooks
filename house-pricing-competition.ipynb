{
 "cells": [
  {
   "cell_type": "markdown",
   "id": "0c8dce00",
   "metadata": {
    "papermill": {
     "duration": 0.043716,
     "end_time": "2023-02-25T23:42:28.839460",
     "exception": false,
     "start_time": "2023-02-25T23:42:28.795744",
     "status": "completed"
    },
    "tags": []
   },
   "source": [
    "# Introduction"
   ]
  },
  {
   "cell_type": "markdown",
   "id": "fbd30acb",
   "metadata": {
    "id": "Ophemb4W9NxA",
    "papermill": {
     "duration": 0.039073,
     "end_time": "2023-02-25T23:42:28.920144",
     "exception": false,
     "start_time": "2023-02-25T23:42:28.881071",
     "status": "completed"
    },
    "tags": []
   },
   "source": [
    "# Setup"
   ]
  },
  {
   "cell_type": "markdown",
   "id": "fbfeecde",
   "metadata": {
    "id": "zyx12Kpc9TQB",
    "papermill": {
     "duration": 0.038561,
     "end_time": "2023-02-25T23:42:28.998809",
     "exception": false,
     "start_time": "2023-02-25T23:42:28.960248",
     "status": "completed"
    },
    "tags": []
   },
   "source": [
    "## Library Imports"
   ]
  },
  {
   "cell_type": "code",
   "execution_count": 1,
   "id": "bff38279",
   "metadata": {
    "execution": {
     "iopub.execute_input": "2023-02-25T23:42:29.081686Z",
     "iopub.status.busy": "2023-02-25T23:42:29.080795Z",
     "iopub.status.idle": "2023-02-25T23:42:31.525361Z",
     "shell.execute_reply": "2023-02-25T23:42:31.523786Z"
    },
    "id": "vphHvbHR8ypD",
    "outputId": "6e317850-2e61-48ac-ca29-eae15ef64a5b",
    "papermill": {
     "duration": 2.4907,
     "end_time": "2023-02-25T23:42:31.528891",
     "exception": false,
     "start_time": "2023-02-25T23:42:29.038191",
     "status": "completed"
    },
    "tags": []
   },
   "outputs": [
    {
     "name": "stdout",
     "output_type": "stream",
     "text": [
      "Setup Complete\n"
     ]
    }
   ],
   "source": [
    "import pandas as pd\n",
    "import numpy as np\n",
    "\n",
    "import matplotlib.pyplot as plt\n",
    "from matplotlib import figure\n",
    "#%matplotlib inline\n",
    "\n",
    "from IPython.display import Image\n",
    "\n",
    "import re\n",
    "\n",
    "import seaborn as sns\n",
    "import plotly.express as px\n",
    "import plotly.graph_objects as go\n",
    "\n",
    "from sklearn.feature_selection import mutual_info_regression\n",
    "\n",
    "from sklearn.model_selection import train_test_split\n",
    "from sklearn.preprocessing import MinMaxScaler\n",
    "from sklearn.preprocessing import StandardScaler\n",
    "from sklearn.preprocessing import OneHotEncoder\n",
    "\n",
    "from sklearn.linear_model import LogisticRegression, RidgeClassifier\n",
    "from sklearn.neighbors import KNeighborsClassifier\n",
    "from sklearn.naive_bayes import GaussianNB\n",
    "\n",
    "from sklearn.metrics import roc_curve\n",
    "from sklearn.metrics import auc\n",
    "from sklearn.metrics import accuracy_score, recall_score, f1_score, precision_score, confusion_matrix\n",
    "\n",
    "from sklearn.model_selection import cross_val_score, KFold\n",
    "\n",
    "\n",
    "\n",
    "\n",
    "import scipy.stats\n",
    "from scipy.stats import chi2\n",
    "\n",
    "\n",
    "\n",
    "\n",
    "print(\"Setup Complete\")\n",
    "\n"
   ]
  },
  {
   "cell_type": "markdown",
   "id": "3100c859",
   "metadata": {
    "papermill": {
     "duration": 0.03978,
     "end_time": "2023-02-25T23:42:31.608253",
     "exception": false,
     "start_time": "2023-02-25T23:42:31.568473",
     "status": "completed"
    },
    "tags": []
   },
   "source": [
    "## Mutual Information"
   ]
  },
  {
   "cell_type": "code",
   "execution_count": 2,
   "id": "4f4151da",
   "metadata": {
    "execution": {
     "iopub.execute_input": "2023-02-25T23:42:31.687330Z",
     "iopub.status.busy": "2023-02-25T23:42:31.686956Z",
     "iopub.status.idle": "2023-02-25T23:42:31.695056Z",
     "shell.execute_reply": "2023-02-25T23:42:31.693786Z"
    },
    "papermill": {
     "duration": 0.0506,
     "end_time": "2023-02-25T23:42:31.697490",
     "exception": false,
     "start_time": "2023-02-25T23:42:31.646890",
     "status": "completed"
    },
    "tags": []
   },
   "outputs": [],
   "source": [
    "# Utility Functions\n",
    "\n",
    "def make_mi_scores(X, y, discrete_features):\n",
    "    mi_scores = mutual_info_regression(X, y, discrete_features=discrete_features)\n",
    "    mi_scores = pd.Series(mi_scores, name=\"MI Scores\", index=X.columns)\n",
    "    mi_scores = mi_scores.sort_values(ascending=False)\n",
    "    return mi_scores\n",
    "\n",
    "\n",
    "def plot_mi_scores(scores):\n",
    "    scores = scores.sort_values(ascending=True)\n",
    "    width = np.arange(len(scores))\n",
    "    ticks = list(scores.index)\n",
    "    plt.barh(width, scores)\n",
    "    plt.yticks(width, ticks)\n",
    "    plt.title(\"Mutual Information Scores\")"
   ]
  },
  {
   "cell_type": "markdown",
   "id": "385fc119",
   "metadata": {
    "id": "Vy9NkKB_9arf",
    "papermill": {
     "duration": 0.039012,
     "end_time": "2023-02-25T23:42:31.776945",
     "exception": false,
     "start_time": "2023-02-25T23:42:31.737933",
     "status": "completed"
    },
    "tags": []
   },
   "source": [
    "## Load data"
   ]
  },
  {
   "cell_type": "code",
   "execution_count": 3,
   "id": "8f94c0f8",
   "metadata": {
    "execution": {
     "iopub.execute_input": "2023-02-25T23:42:31.856374Z",
     "iopub.status.busy": "2023-02-25T23:42:31.855955Z",
     "iopub.status.idle": "2023-02-25T23:42:35.351037Z",
     "shell.execute_reply": "2023-02-25T23:42:35.349849Z"
    },
    "id": "mRxnOuBx9c3a",
    "outputId": "55af3df2-2fe0-4c0f-e26a-0d1fc8c5c666",
    "papermill": {
     "duration": 3.537874,
     "end_time": "2023-02-25T23:42:35.353782",
     "exception": false,
     "start_time": "2023-02-25T23:42:31.815908",
     "status": "completed"
    },
    "tags": []
   },
   "outputs": [
    {
     "data": {
      "text/html": [
       "<div>\n",
       "<style scoped>\n",
       "    .dataframe tbody tr th:only-of-type {\n",
       "        vertical-align: middle;\n",
       "    }\n",
       "\n",
       "    .dataframe tbody tr th {\n",
       "        vertical-align: top;\n",
       "    }\n",
       "\n",
       "    .dataframe thead th {\n",
       "        text-align: right;\n",
       "    }\n",
       "</style>\n",
       "<table border=\"1\" class=\"dataframe\">\n",
       "  <thead>\n",
       "    <tr style=\"text-align: right;\">\n",
       "      <th></th>\n",
       "      <th>id</th>\n",
       "      <th>cat0</th>\n",
       "      <th>cat1</th>\n",
       "      <th>cat2</th>\n",
       "      <th>cat3</th>\n",
       "      <th>cat4</th>\n",
       "      <th>cat5</th>\n",
       "      <th>cat6</th>\n",
       "      <th>cat7</th>\n",
       "      <th>cat8</th>\n",
       "      <th>cat9</th>\n",
       "      <th>cont0</th>\n",
       "      <th>cont1</th>\n",
       "      <th>cont2</th>\n",
       "      <th>cont3</th>\n",
       "      <th>cont4</th>\n",
       "      <th>cont5</th>\n",
       "      <th>cont6</th>\n",
       "      <th>cont7</th>\n",
       "      <th>cont8</th>\n",
       "      <th>cont9</th>\n",
       "      <th>cont10</th>\n",
       "      <th>cont11</th>\n",
       "      <th>cont12</th>\n",
       "      <th>cont13</th>\n",
       "      <th>target</th>\n",
       "    </tr>\n",
       "  </thead>\n",
       "  <tbody>\n",
       "    <tr>\n",
       "      <th>0</th>\n",
       "      <td>1</td>\n",
       "      <td>B</td>\n",
       "      <td>B</td>\n",
       "      <td>B</td>\n",
       "      <td>C</td>\n",
       "      <td>B</td>\n",
       "      <td>B</td>\n",
       "      <td>A</td>\n",
       "      <td>E</td>\n",
       "      <td>C</td>\n",
       "      <td>N</td>\n",
       "      <td>0.201470</td>\n",
       "      <td>-0.014822</td>\n",
       "      <td>0.669699</td>\n",
       "      <td>0.136278</td>\n",
       "      <td>0.610706</td>\n",
       "      <td>0.400361</td>\n",
       "      <td>0.160266</td>\n",
       "      <td>0.310921</td>\n",
       "      <td>0.389470</td>\n",
       "      <td>0.267559</td>\n",
       "      <td>0.237281</td>\n",
       "      <td>0.377873</td>\n",
       "      <td>0.322401</td>\n",
       "      <td>0.869850</td>\n",
       "      <td>8.113634</td>\n",
       "    </tr>\n",
       "    <tr>\n",
       "      <th>1</th>\n",
       "      <td>2</td>\n",
       "      <td>B</td>\n",
       "      <td>B</td>\n",
       "      <td>A</td>\n",
       "      <td>A</td>\n",
       "      <td>B</td>\n",
       "      <td>D</td>\n",
       "      <td>A</td>\n",
       "      <td>F</td>\n",
       "      <td>A</td>\n",
       "      <td>O</td>\n",
       "      <td>0.743068</td>\n",
       "      <td>0.367411</td>\n",
       "      <td>1.021605</td>\n",
       "      <td>0.365798</td>\n",
       "      <td>0.276853</td>\n",
       "      <td>0.533087</td>\n",
       "      <td>0.558922</td>\n",
       "      <td>0.516294</td>\n",
       "      <td>0.594928</td>\n",
       "      <td>0.341439</td>\n",
       "      <td>0.906013</td>\n",
       "      <td>0.921701</td>\n",
       "      <td>0.261975</td>\n",
       "      <td>0.465083</td>\n",
       "      <td>8.481233</td>\n",
       "    </tr>\n",
       "    <tr>\n",
       "      <th>2</th>\n",
       "      <td>3</td>\n",
       "      <td>A</td>\n",
       "      <td>A</td>\n",
       "      <td>A</td>\n",
       "      <td>C</td>\n",
       "      <td>B</td>\n",
       "      <td>D</td>\n",
       "      <td>A</td>\n",
       "      <td>D</td>\n",
       "      <td>A</td>\n",
       "      <td>F</td>\n",
       "      <td>0.742708</td>\n",
       "      <td>0.310383</td>\n",
       "      <td>-0.012673</td>\n",
       "      <td>0.576957</td>\n",
       "      <td>0.285074</td>\n",
       "      <td>0.650609</td>\n",
       "      <td>0.375348</td>\n",
       "      <td>0.902567</td>\n",
       "      <td>0.555205</td>\n",
       "      <td>0.843531</td>\n",
       "      <td>0.748809</td>\n",
       "      <td>0.620126</td>\n",
       "      <td>0.541474</td>\n",
       "      <td>0.763846</td>\n",
       "      <td>8.364351</td>\n",
       "    </tr>\n",
       "    <tr>\n",
       "      <th>3</th>\n",
       "      <td>4</td>\n",
       "      <td>B</td>\n",
       "      <td>B</td>\n",
       "      <td>A</td>\n",
       "      <td>C</td>\n",
       "      <td>B</td>\n",
       "      <td>D</td>\n",
       "      <td>A</td>\n",
       "      <td>E</td>\n",
       "      <td>C</td>\n",
       "      <td>K</td>\n",
       "      <td>0.429551</td>\n",
       "      <td>0.620998</td>\n",
       "      <td>0.577942</td>\n",
       "      <td>0.280610</td>\n",
       "      <td>0.284667</td>\n",
       "      <td>0.668980</td>\n",
       "      <td>0.239061</td>\n",
       "      <td>0.732948</td>\n",
       "      <td>0.679618</td>\n",
       "      <td>0.574844</td>\n",
       "      <td>0.346010</td>\n",
       "      <td>0.714610</td>\n",
       "      <td>0.540150</td>\n",
       "      <td>0.280682</td>\n",
       "      <td>8.049253</td>\n",
       "    </tr>\n",
       "    <tr>\n",
       "      <th>4</th>\n",
       "      <td>6</td>\n",
       "      <td>A</td>\n",
       "      <td>A</td>\n",
       "      <td>A</td>\n",
       "      <td>C</td>\n",
       "      <td>B</td>\n",
       "      <td>D</td>\n",
       "      <td>A</td>\n",
       "      <td>E</td>\n",
       "      <td>A</td>\n",
       "      <td>N</td>\n",
       "      <td>1.058291</td>\n",
       "      <td>0.367492</td>\n",
       "      <td>-0.052389</td>\n",
       "      <td>0.232407</td>\n",
       "      <td>0.287595</td>\n",
       "      <td>0.686964</td>\n",
       "      <td>0.420667</td>\n",
       "      <td>0.648182</td>\n",
       "      <td>0.684501</td>\n",
       "      <td>0.956692</td>\n",
       "      <td>1.000773</td>\n",
       "      <td>0.776742</td>\n",
       "      <td>0.625849</td>\n",
       "      <td>0.250823</td>\n",
       "      <td>7.972260</td>\n",
       "    </tr>\n",
       "  </tbody>\n",
       "</table>\n",
       "</div>"
      ],
      "text/plain": [
       "   id cat0 cat1 cat2 cat3 cat4 cat5 cat6 cat7 cat8 cat9     cont0     cont1  \\\n",
       "0   1    B    B    B    C    B    B    A    E    C    N  0.201470 -0.014822   \n",
       "1   2    B    B    A    A    B    D    A    F    A    O  0.743068  0.367411   \n",
       "2   3    A    A    A    C    B    D    A    D    A    F  0.742708  0.310383   \n",
       "3   4    B    B    A    C    B    D    A    E    C    K  0.429551  0.620998   \n",
       "4   6    A    A    A    C    B    D    A    E    A    N  1.058291  0.367492   \n",
       "\n",
       "      cont2     cont3     cont4     cont5     cont6     cont7     cont8  \\\n",
       "0  0.669699  0.136278  0.610706  0.400361  0.160266  0.310921  0.389470   \n",
       "1  1.021605  0.365798  0.276853  0.533087  0.558922  0.516294  0.594928   \n",
       "2 -0.012673  0.576957  0.285074  0.650609  0.375348  0.902567  0.555205   \n",
       "3  0.577942  0.280610  0.284667  0.668980  0.239061  0.732948  0.679618   \n",
       "4 -0.052389  0.232407  0.287595  0.686964  0.420667  0.648182  0.684501   \n",
       "\n",
       "      cont9    cont10    cont11    cont12    cont13    target  \n",
       "0  0.267559  0.237281  0.377873  0.322401  0.869850  8.113634  \n",
       "1  0.341439  0.906013  0.921701  0.261975  0.465083  8.481233  \n",
       "2  0.843531  0.748809  0.620126  0.541474  0.763846  8.364351  \n",
       "3  0.574844  0.346010  0.714610  0.540150  0.280682  8.049253  \n",
       "4  0.956692  1.000773  0.776742  0.625849  0.250823  7.972260  "
      ]
     },
     "execution_count": 3,
     "metadata": {},
     "output_type": "execute_result"
    }
   ],
   "source": [
    "df_filepath ='/kaggle/input/30-days-of-ml/train.csv'\n",
    "df = pd.read_csv(df_filepath)\n",
    "\n",
    "\n",
    "pd.set_option('display.max_columns', None)\n",
    "pd.options.display.max_colwidth = 75\n",
    "\n",
    "df.head()"
   ]
  },
  {
   "cell_type": "code",
   "execution_count": 4,
   "id": "a9cd539a",
   "metadata": {
    "execution": {
     "iopub.execute_input": "2023-02-25T23:42:35.435631Z",
     "iopub.status.busy": "2023-02-25T23:42:35.435241Z",
     "iopub.status.idle": "2023-02-25T23:42:35.440250Z",
     "shell.execute_reply": "2023-02-25T23:42:35.439440Z"
    },
    "papermill": {
     "duration": 0.048861,
     "end_time": "2023-02-25T23:42:35.442456",
     "exception": false,
     "start_time": "2023-02-25T23:42:35.393595",
     "status": "completed"
    },
    "tags": []
   },
   "outputs": [],
   "source": [
    "# Categorical features\n",
    "cat_features = [ 'cat0',\n",
    "                 'cat1',\n",
    "                 'cat2',\n",
    "                 'cat3',\n",
    "                 'cat4',\n",
    "                 'cat5',\n",
    "                 'cat6',\n",
    "                 'cat7',\n",
    "                 'cat8',\n",
    "                 'cat9']"
   ]
  },
  {
   "cell_type": "code",
   "execution_count": 5,
   "id": "4e7d0d91",
   "metadata": {
    "execution": {
     "iopub.execute_input": "2023-02-25T23:42:35.523522Z",
     "iopub.status.busy": "2023-02-25T23:42:35.522858Z",
     "iopub.status.idle": "2023-02-25T23:42:35.527933Z",
     "shell.execute_reply": "2023-02-25T23:42:35.526883Z"
    },
    "papermill": {
     "duration": 0.04812,
     "end_time": "2023-02-25T23:42:35.530149",
     "exception": false,
     "start_time": "2023-02-25T23:42:35.482029",
     "status": "completed"
    },
    "tags": []
   },
   "outputs": [],
   "source": [
    "# Cont features\n",
    "cont_features = ['cont0',\n",
    "                 'cont1',\n",
    "                 'cont2',\n",
    "                 'cont3',\n",
    "                 'cont4',\n",
    "                 'cont5',\n",
    "                 'cont6',\n",
    "                 'cont7',\n",
    "                 'cont8',\n",
    "                 'cont9',\n",
    "                 'cont10',\n",
    "                 'cont11',\n",
    "                 'cont12',\n",
    "                 'cont13',\n",
    "                 'target']"
   ]
  },
  {
   "cell_type": "markdown",
   "id": "553f22d8",
   "metadata": {
    "id": "gBDZ216anx_K",
    "papermill": {
     "duration": 0.042238,
     "end_time": "2023-02-25T23:42:35.611688",
     "exception": false,
     "start_time": "2023-02-25T23:42:35.569450",
     "status": "completed"
    },
    "tags": []
   },
   "source": [
    "# Exploratory Data Analysis"
   ]
  },
  {
   "cell_type": "code",
   "execution_count": 6,
   "id": "074e867f",
   "metadata": {
    "execution": {
     "iopub.execute_input": "2023-02-25T23:42:35.691971Z",
     "iopub.status.busy": "2023-02-25T23:42:35.690901Z",
     "iopub.status.idle": "2023-02-25T23:42:35.698288Z",
     "shell.execute_reply": "2023-02-25T23:42:35.697455Z"
    },
    "id": "2WFIzOwOp_2z",
    "papermill": {
     "duration": 0.049899,
     "end_time": "2023-02-25T23:42:35.700456",
     "exception": false,
     "start_time": "2023-02-25T23:42:35.650557",
     "status": "completed"
    },
    "tags": []
   },
   "outputs": [
    {
     "data": {
      "text/plain": [
       "['id',\n",
       " 'cat0',\n",
       " 'cat1',\n",
       " 'cat2',\n",
       " 'cat3',\n",
       " 'cat4',\n",
       " 'cat5',\n",
       " 'cat6',\n",
       " 'cat7',\n",
       " 'cat8',\n",
       " 'cat9',\n",
       " 'cont0',\n",
       " 'cont1',\n",
       " 'cont2',\n",
       " 'cont3',\n",
       " 'cont4',\n",
       " 'cont5',\n",
       " 'cont6',\n",
       " 'cont7',\n",
       " 'cont8',\n",
       " 'cont9',\n",
       " 'cont10',\n",
       " 'cont11',\n",
       " 'cont12',\n",
       " 'cont13',\n",
       " 'target']"
      ]
     },
     "execution_count": 6,
     "metadata": {},
     "output_type": "execute_result"
    }
   ],
   "source": [
    "#List column names\n",
    "list(df.columns)"
   ]
  },
  {
   "cell_type": "code",
   "execution_count": 7,
   "id": "ce319cb9",
   "metadata": {
    "execution": {
     "iopub.execute_input": "2023-02-25T23:42:35.780460Z",
     "iopub.status.busy": "2023-02-25T23:42:35.779691Z",
     "iopub.status.idle": "2023-02-25T23:42:35.961520Z",
     "shell.execute_reply": "2023-02-25T23:42:35.959731Z"
    },
    "id": "Yw4vbSAcNhj3",
    "papermill": {
     "duration": 0.224843,
     "end_time": "2023-02-25T23:42:35.964162",
     "exception": false,
     "start_time": "2023-02-25T23:42:35.739319",
     "status": "completed"
    },
    "tags": []
   },
   "outputs": [
    {
     "name": "stdout",
     "output_type": "stream",
     "text": [
      "<class 'pandas.core.frame.DataFrame'>\n",
      "RangeIndex: 300000 entries, 0 to 299999\n",
      "Data columns (total 26 columns):\n",
      " #   Column  Non-Null Count   Dtype  \n",
      "---  ------  --------------   -----  \n",
      " 0   id      300000 non-null  int64  \n",
      " 1   cat0    300000 non-null  object \n",
      " 2   cat1    300000 non-null  object \n",
      " 3   cat2    300000 non-null  object \n",
      " 4   cat3    300000 non-null  object \n",
      " 5   cat4    300000 non-null  object \n",
      " 6   cat5    300000 non-null  object \n",
      " 7   cat6    300000 non-null  object \n",
      " 8   cat7    300000 non-null  object \n",
      " 9   cat8    300000 non-null  object \n",
      " 10  cat9    300000 non-null  object \n",
      " 11  cont0   300000 non-null  float64\n",
      " 12  cont1   300000 non-null  float64\n",
      " 13  cont2   300000 non-null  float64\n",
      " 14  cont3   300000 non-null  float64\n",
      " 15  cont4   300000 non-null  float64\n",
      " 16  cont5   300000 non-null  float64\n",
      " 17  cont6   300000 non-null  float64\n",
      " 18  cont7   300000 non-null  float64\n",
      " 19  cont8   300000 non-null  float64\n",
      " 20  cont9   300000 non-null  float64\n",
      " 21  cont10  300000 non-null  float64\n",
      " 22  cont11  300000 non-null  float64\n",
      " 23  cont12  300000 non-null  float64\n",
      " 24  cont13  300000 non-null  float64\n",
      " 25  target  300000 non-null  float64\n",
      "dtypes: float64(15), int64(1), object(10)\n",
      "memory usage: 59.5+ MB\n"
     ]
    }
   ],
   "source": [
    "#Check columns data types and nulls\n",
    "df.info()"
   ]
  },
  {
   "cell_type": "markdown",
   "id": "09edb0e6",
   "metadata": {
    "id": "bMoNcXaDPPkN",
    "papermill": {
     "duration": 0.038835,
     "end_time": "2023-02-25T23:42:36.042286",
     "exception": false,
     "start_time": "2023-02-25T23:42:36.003451",
     "status": "completed"
    },
    "tags": []
   },
   "source": [
    "Variables Categoricas. Operaciones."
   ]
  },
  {
   "cell_type": "markdown",
   "id": "607e9fac",
   "metadata": {
    "id": "NnTh_e2IRHKf",
    "papermill": {
     "duration": 0.040888,
     "end_time": "2023-02-25T23:42:36.122530",
     "exception": false,
     "start_time": "2023-02-25T23:42:36.081642",
     "status": "completed"
    },
    "tags": []
   },
   "source": [
    "## Check for duplicates"
   ]
  },
  {
   "cell_type": "code",
   "execution_count": 8,
   "id": "6e71fe10",
   "metadata": {
    "execution": {
     "iopub.execute_input": "2023-02-25T23:42:36.202678Z",
     "iopub.status.busy": "2023-02-25T23:42:36.202246Z",
     "iopub.status.idle": "2023-02-25T23:42:37.082944Z",
     "shell.execute_reply": "2023-02-25T23:42:37.081754Z"
    },
    "id": "SOSyfvQodVzG",
    "papermill": {
     "duration": 0.924163,
     "end_time": "2023-02-25T23:42:37.085656",
     "exception": false,
     "start_time": "2023-02-25T23:42:36.161493",
     "status": "completed"
    },
    "tags": []
   },
   "outputs": [
    {
     "data": {
      "text/html": [
       "<div>\n",
       "<style scoped>\n",
       "    .dataframe tbody tr th:only-of-type {\n",
       "        vertical-align: middle;\n",
       "    }\n",
       "\n",
       "    .dataframe tbody tr th {\n",
       "        vertical-align: top;\n",
       "    }\n",
       "\n",
       "    .dataframe thead th {\n",
       "        text-align: right;\n",
       "    }\n",
       "</style>\n",
       "<table border=\"1\" class=\"dataframe\">\n",
       "  <thead>\n",
       "    <tr style=\"text-align: right;\">\n",
       "      <th></th>\n",
       "      <th>id</th>\n",
       "      <th>cat0</th>\n",
       "      <th>cat1</th>\n",
       "      <th>cat2</th>\n",
       "      <th>cat3</th>\n",
       "      <th>cat4</th>\n",
       "      <th>cat5</th>\n",
       "      <th>cat6</th>\n",
       "      <th>cat7</th>\n",
       "      <th>cat8</th>\n",
       "      <th>cat9</th>\n",
       "      <th>cont0</th>\n",
       "      <th>cont1</th>\n",
       "      <th>cont2</th>\n",
       "      <th>cont3</th>\n",
       "      <th>cont4</th>\n",
       "      <th>cont5</th>\n",
       "      <th>cont6</th>\n",
       "      <th>cont7</th>\n",
       "      <th>cont8</th>\n",
       "      <th>cont9</th>\n",
       "      <th>cont10</th>\n",
       "      <th>cont11</th>\n",
       "      <th>cont12</th>\n",
       "      <th>cont13</th>\n",
       "      <th>target</th>\n",
       "    </tr>\n",
       "  </thead>\n",
       "  <tbody>\n",
       "  </tbody>\n",
       "</table>\n",
       "</div>"
      ],
      "text/plain": [
       "Empty DataFrame\n",
       "Columns: [id, cat0, cat1, cat2, cat3, cat4, cat5, cat6, cat7, cat8, cat9, cont0, cont1, cont2, cont3, cont4, cont5, cont6, cont7, cont8, cont9, cont10, cont11, cont12, cont13, target]\n",
       "Index: []"
      ]
     },
     "execution_count": 8,
     "metadata": {},
     "output_type": "execute_result"
    }
   ],
   "source": [
    "#Check duplicate rows\n",
    "df[df.duplicated(keep=False)]\n"
   ]
  },
  {
   "cell_type": "markdown",
   "id": "7d917563",
   "metadata": {
    "id": "d2oiDG-Fn_IN",
    "papermill": {
     "duration": 0.039567,
     "end_time": "2023-02-25T23:42:37.165063",
     "exception": false,
     "start_time": "2023-02-25T23:42:37.125496",
     "status": "completed"
    },
    "tags": []
   },
   "source": [
    "No duplicate rows"
   ]
  },
  {
   "cell_type": "code",
   "execution_count": 9,
   "id": "5903f040",
   "metadata": {
    "execution": {
     "iopub.execute_input": "2023-02-25T23:42:37.245327Z",
     "iopub.status.busy": "2023-02-25T23:42:37.244944Z",
     "iopub.status.idle": "2023-02-25T23:42:37.290108Z",
     "shell.execute_reply": "2023-02-25T23:42:37.288744Z"
    },
    "id": "-alGH4OZdosC",
    "papermill": {
     "duration": 0.088335,
     "end_time": "2023-02-25T23:42:37.292725",
     "exception": false,
     "start_time": "2023-02-25T23:42:37.204390",
     "status": "completed"
    },
    "tags": []
   },
   "outputs": [
    {
     "data": {
      "text/plain": [
       "array([False])"
      ]
     },
     "execution_count": 9,
     "metadata": {},
     "output_type": "execute_result"
    }
   ],
   "source": [
    "#Check duplicate IDs\n",
    "df.duplicated(subset=['id']).unique()\n"
   ]
  },
  {
   "cell_type": "markdown",
   "id": "eb0fb42a",
   "metadata": {
    "id": "OjhED9pjoDGY",
    "papermill": {
     "duration": 0.039374,
     "end_time": "2023-02-25T23:42:37.371932",
     "exception": false,
     "start_time": "2023-02-25T23:42:37.332558",
     "status": "completed"
    },
    "tags": []
   },
   "source": [
    "No duplicate IDs"
   ]
  },
  {
   "cell_type": "code",
   "execution_count": 10,
   "id": "8c10f05d",
   "metadata": {
    "execution": {
     "iopub.execute_input": "2023-02-25T23:42:37.455422Z",
     "iopub.status.busy": "2023-02-25T23:42:37.454331Z",
     "iopub.status.idle": "2023-02-25T23:42:37.509076Z",
     "shell.execute_reply": "2023-02-25T23:42:37.507679Z"
    },
    "papermill": {
     "duration": 0.09984,
     "end_time": "2023-02-25T23:42:37.512073",
     "exception": false,
     "start_time": "2023-02-25T23:42:37.412233",
     "status": "completed"
    },
    "tags": []
   },
   "outputs": [],
   "source": [
    "df = df.drop(['id'], axis=1)"
   ]
  },
  {
   "cell_type": "markdown",
   "id": "802493da",
   "metadata": {
    "papermill": {
     "duration": 0.041978,
     "end_time": "2023-02-25T23:42:37.593780",
     "exception": false,
     "start_time": "2023-02-25T23:42:37.551802",
     "status": "completed"
    },
    "tags": []
   },
   "source": [
    "We have unknown values in\n",
    "- Education_Level\n",
    "- Marital_Status\n",
    "- Income_Category\n",
    "\n",
    "We can later map them or filter them before building the models"
   ]
  },
  {
   "cell_type": "markdown",
   "id": "f9f67443",
   "metadata": {
    "papermill": {
     "duration": 0.039687,
     "end_time": "2023-02-25T23:42:37.674137",
     "exception": false,
     "start_time": "2023-02-25T23:42:37.634450",
     "status": "completed"
    },
    "tags": []
   },
   "source": [
    "## Check zeros"
   ]
  },
  {
   "cell_type": "markdown",
   "id": "79d3f315",
   "metadata": {
    "id": "T_5GxsMqog5O",
    "papermill": {
     "duration": 0.03915,
     "end_time": "2023-02-25T23:42:37.752946",
     "exception": false,
     "start_time": "2023-02-25T23:42:37.713796",
     "status": "completed"
    },
    "tags": []
   },
   "source": [
    "## Target variable distribution"
   ]
  },
  {
   "cell_type": "code",
   "execution_count": 11,
   "id": "6b22a230",
   "metadata": {
    "execution": {
     "iopub.execute_input": "2023-02-25T23:42:37.834641Z",
     "iopub.status.busy": "2023-02-25T23:42:37.834202Z",
     "iopub.status.idle": "2023-02-25T23:42:38.386427Z",
     "shell.execute_reply": "2023-02-25T23:42:38.384939Z"
    },
    "id": "Ktue-Ldgokzm",
    "papermill": {
     "duration": 0.596267,
     "end_time": "2023-02-25T23:42:38.389083",
     "exception": false,
     "start_time": "2023-02-25T23:42:37.792816",
     "status": "completed"
    },
    "tags": []
   },
   "outputs": [
    {
     "data": {
      "text/plain": [
       "Text(0, 0.5, 'Frequency')"
      ]
     },
     "execution_count": 11,
     "metadata": {},
     "output_type": "execute_result"
    },
    {
     "data": {
      "image/png": "[encoded data removed]",
      "text/plain": [
       "<Figure size 1400x500 with 1 Axes>"
      ]
     },
     "metadata": {},
     "output_type": "display_data"
    }
   ],
   "source": [
    "plt = df.target.plot.hist( grid=True,\n",
    "                           bins=100,\n",
    "                           rwidth=0.9,\n",
    "                           figsize=(14,5))\n",
    "\n",
    "plt.set_title(\"Target variable distribution\", weight='bold', size=14)\n",
    "plt.set_xlabel(\"target\", labelpad=20, weight='bold', size=12)\n",
    "plt.set_ylabel(\"Frequency\", labelpad=20, weight='bold', size=12)"
   ]
  },
  {
   "cell_type": "code",
   "execution_count": 12,
   "id": "c2ad4396",
   "metadata": {
    "execution": {
     "iopub.execute_input": "2023-02-25T23:42:38.471479Z",
     "iopub.status.busy": "2023-02-25T23:42:38.471087Z",
     "iopub.status.idle": "2023-02-25T23:42:39.066936Z",
     "shell.execute_reply": "2023-02-25T23:42:39.065728Z"
    },
    "papermill": {
     "duration": 0.640134,
     "end_time": "2023-02-25T23:42:39.069433",
     "exception": false,
     "start_time": "2023-02-25T23:42:38.429299",
     "status": "completed"
    },
    "tags": []
   },
   "outputs": [
    {
     "data": {
      "text/plain": [
       "Text(0, 0.5, 'Frequency')"
      ]
     },
     "execution_count": 12,
     "metadata": {},
     "output_type": "execute_result"
    },
    {
     "data": {
      "image/png": "[encoded data removed]",
      "text/plain": [
       "<Figure size 1400x500 with 1 Axes>"
      ]
     },
     "metadata": {},
     "output_type": "display_data"
    }
   ],
   "source": [
    "df_target_lower_than_7 = df.loc[df['target'] < 6.9]\n",
    "\n",
    "plt1 = df_target_lower_than_7.target.plot.hist( grid=True,\n",
    "                           bins=100,\n",
    "                           rwidth=0.9,\n",
    "                           figsize=(14,5))\n",
    "\n",
    "plt1.set_title(\"Target variable distribution < 6.9\", weight='bold', size=14)\n",
    "plt1.set_xlabel(\"target\", labelpad=20, weight='bold', size=12)\n",
    "plt1.set_ylabel(\"Frequency\", labelpad=20, weight='bold', size=12)"
   ]
  },
  {
   "cell_type": "code",
   "execution_count": 13,
   "id": "a88bb094",
   "metadata": {
    "execution": {
     "iopub.execute_input": "2023-02-25T23:42:39.153814Z",
     "iopub.status.busy": "2023-02-25T23:42:39.152883Z",
     "iopub.status.idle": "2023-02-25T23:42:39.758042Z",
     "shell.execute_reply": "2023-02-25T23:42:39.756983Z"
    },
    "papermill": {
     "duration": 0.650588,
     "end_time": "2023-02-25T23:42:39.760895",
     "exception": false,
     "start_time": "2023-02-25T23:42:39.110307",
     "status": "completed"
    },
    "tags": []
   },
   "outputs": [
    {
     "data": {
      "text/plain": [
       "Text(0, 0.5, 'Frequency')"
      ]
     },
     "execution_count": 13,
     "metadata": {},
     "output_type": "execute_result"
    },
    {
     "data": {
      "image/png": "[encoded data removed]",
      "text/plain": [
       "<Figure size 1400x500 with 1 Axes>"
      ]
     },
     "metadata": {},
     "output_type": "display_data"
    }
   ],
   "source": [
    "df_target_larger_than_7 = df.loc[(df['target'] > df.target.quantile(0.01)) & (df['target'] < df.target.quantile(0.99))]\n",
    "\n",
    "plt1 = df_target_larger_than_7.target.plot.hist( grid=True,\n",
    "                           bins=100,\n",
    "                           rwidth=0.9,\n",
    "                           figsize=(14,5))\n",
    "\n",
    "plt1.set_title(\"Target variable distribution > 0.01 quantile\", weight='bold', size=14)\n",
    "plt1.set_xlabel(\"target\", labelpad=20, weight='bold', size=12)\n",
    "plt1.set_ylabel(\"Frequency\", labelpad=20, weight='bold', size=12)"
   ]
  },
  {
   "cell_type": "markdown",
   "id": "e979c822",
   "metadata": {
    "papermill": {
     "duration": 0.041686,
     "end_time": "2023-02-25T23:42:39.844464",
     "exception": false,
     "start_time": "2023-02-25T23:42:39.802778",
     "status": "completed"
    },
    "tags": []
   },
   "source": [
    "## Cleaning border values in the train dataset"
   ]
  },
  {
   "cell_type": "code",
   "execution_count": 14,
   "id": "73fdb350",
   "metadata": {
    "execution": {
     "iopub.execute_input": "2023-02-25T23:42:39.930330Z",
     "iopub.status.busy": "2023-02-25T23:42:39.929937Z",
     "iopub.status.idle": "2023-02-25T23:42:40.034290Z",
     "shell.execute_reply": "2023-02-25T23:42:40.033263Z"
    },
    "papermill": {
     "duration": 0.149979,
     "end_time": "2023-02-25T23:42:40.036899",
     "exception": false,
     "start_time": "2023-02-25T23:42:39.886920",
     "status": "completed"
    },
    "tags": []
   },
   "outputs": [],
   "source": [
    "df = df.loc[(df['target'] > df.target.quantile(0.01)) & (df['target'] < df.target.quantile(0.99))]"
   ]
  },
  {
   "cell_type": "markdown",
   "id": "87de14f5",
   "metadata": {
    "papermill": {
     "duration": 0.041334,
     "end_time": "2023-02-25T23:42:40.119830",
     "exception": false,
     "start_time": "2023-02-25T23:42:40.078496",
     "status": "completed"
    },
    "tags": []
   },
   "source": [
    "## Mutual Information"
   ]
  },
  {
   "cell_type": "code",
   "execution_count": 15,
   "id": "454285c2",
   "metadata": {
    "execution": {
     "iopub.execute_input": "2023-02-25T23:42:40.205541Z",
     "iopub.status.busy": "2023-02-25T23:42:40.204850Z",
     "iopub.status.idle": "2023-02-25T23:42:40.665299Z",
     "shell.execute_reply": "2023-02-25T23:42:40.664153Z"
    },
    "papermill": {
     "duration": 0.506317,
     "end_time": "2023-02-25T23:42:40.667835",
     "exception": false,
     "start_time": "2023-02-25T23:42:40.161518",
     "status": "completed"
    },
    "tags": []
   },
   "outputs": [
    {
     "data": {
      "text/html": [
       "<div>\n",
       "<style scoped>\n",
       "    .dataframe tbody tr th:only-of-type {\n",
       "        vertical-align: middle;\n",
       "    }\n",
       "\n",
       "    .dataframe tbody tr th {\n",
       "        vertical-align: top;\n",
       "    }\n",
       "\n",
       "    .dataframe thead th {\n",
       "        text-align: right;\n",
       "    }\n",
       "</style>\n",
       "<table border=\"1\" class=\"dataframe\">\n",
       "  <thead>\n",
       "    <tr style=\"text-align: right;\">\n",
       "      <th></th>\n",
       "      <th>cat0</th>\n",
       "      <th>cat1</th>\n",
       "      <th>cat2</th>\n",
       "      <th>cat3</th>\n",
       "      <th>cat4</th>\n",
       "      <th>cat5</th>\n",
       "      <th>cat6</th>\n",
       "      <th>cat7</th>\n",
       "      <th>cat8</th>\n",
       "      <th>cat9</th>\n",
       "      <th>cont0</th>\n",
       "      <th>cont1</th>\n",
       "      <th>cont2</th>\n",
       "      <th>cont3</th>\n",
       "      <th>cont4</th>\n",
       "      <th>cont5</th>\n",
       "      <th>cont6</th>\n",
       "      <th>cont7</th>\n",
       "      <th>cont8</th>\n",
       "      <th>cont9</th>\n",
       "      <th>cont10</th>\n",
       "      <th>cont11</th>\n",
       "      <th>cont12</th>\n",
       "      <th>cont13</th>\n",
       "    </tr>\n",
       "  </thead>\n",
       "  <tbody>\n",
       "    <tr>\n",
       "      <th>0</th>\n",
       "      <td>0</td>\n",
       "      <td>0</td>\n",
       "      <td>0</td>\n",
       "      <td>0</td>\n",
       "      <td>0</td>\n",
       "      <td>0</td>\n",
       "      <td>0</td>\n",
       "      <td>0</td>\n",
       "      <td>0</td>\n",
       "      <td>0</td>\n",
       "      <td>0.201470</td>\n",
       "      <td>-0.014822</td>\n",
       "      <td>0.669699</td>\n",
       "      <td>0.136278</td>\n",
       "      <td>0.610706</td>\n",
       "      <td>0.400361</td>\n",
       "      <td>0.160266</td>\n",
       "      <td>0.310921</td>\n",
       "      <td>0.389470</td>\n",
       "      <td>0.267559</td>\n",
       "      <td>0.237281</td>\n",
       "      <td>0.377873</td>\n",
       "      <td>0.322401</td>\n",
       "      <td>0.869850</td>\n",
       "    </tr>\n",
       "    <tr>\n",
       "      <th>1</th>\n",
       "      <td>0</td>\n",
       "      <td>0</td>\n",
       "      <td>1</td>\n",
       "      <td>1</td>\n",
       "      <td>0</td>\n",
       "      <td>1</td>\n",
       "      <td>0</td>\n",
       "      <td>1</td>\n",
       "      <td>1</td>\n",
       "      <td>1</td>\n",
       "      <td>0.743068</td>\n",
       "      <td>0.367411</td>\n",
       "      <td>1.021605</td>\n",
       "      <td>0.365798</td>\n",
       "      <td>0.276853</td>\n",
       "      <td>0.533087</td>\n",
       "      <td>0.558922</td>\n",
       "      <td>0.516294</td>\n",
       "      <td>0.594928</td>\n",
       "      <td>0.341439</td>\n",
       "      <td>0.906013</td>\n",
       "      <td>0.921701</td>\n",
       "      <td>0.261975</td>\n",
       "      <td>0.465083</td>\n",
       "    </tr>\n",
       "    <tr>\n",
       "      <th>2</th>\n",
       "      <td>1</td>\n",
       "      <td>1</td>\n",
       "      <td>1</td>\n",
       "      <td>0</td>\n",
       "      <td>0</td>\n",
       "      <td>1</td>\n",
       "      <td>0</td>\n",
       "      <td>2</td>\n",
       "      <td>1</td>\n",
       "      <td>2</td>\n",
       "      <td>0.742708</td>\n",
       "      <td>0.310383</td>\n",
       "      <td>-0.012673</td>\n",
       "      <td>0.576957</td>\n",
       "      <td>0.285074</td>\n",
       "      <td>0.650609</td>\n",
       "      <td>0.375348</td>\n",
       "      <td>0.902567</td>\n",
       "      <td>0.555205</td>\n",
       "      <td>0.843531</td>\n",
       "      <td>0.748809</td>\n",
       "      <td>0.620126</td>\n",
       "      <td>0.541474</td>\n",
       "      <td>0.763846</td>\n",
       "    </tr>\n",
       "    <tr>\n",
       "      <th>3</th>\n",
       "      <td>0</td>\n",
       "      <td>0</td>\n",
       "      <td>1</td>\n",
       "      <td>0</td>\n",
       "      <td>0</td>\n",
       "      <td>1</td>\n",
       "      <td>0</td>\n",
       "      <td>0</td>\n",
       "      <td>0</td>\n",
       "      <td>3</td>\n",
       "      <td>0.429551</td>\n",
       "      <td>0.620998</td>\n",
       "      <td>0.577942</td>\n",
       "      <td>0.280610</td>\n",
       "      <td>0.284667</td>\n",
       "      <td>0.668980</td>\n",
       "      <td>0.239061</td>\n",
       "      <td>0.732948</td>\n",
       "      <td>0.679618</td>\n",
       "      <td>0.574844</td>\n",
       "      <td>0.346010</td>\n",
       "      <td>0.714610</td>\n",
       "      <td>0.540150</td>\n",
       "      <td>0.280682</td>\n",
       "    </tr>\n",
       "    <tr>\n",
       "      <th>4</th>\n",
       "      <td>1</td>\n",
       "      <td>1</td>\n",
       "      <td>1</td>\n",
       "      <td>0</td>\n",
       "      <td>0</td>\n",
       "      <td>1</td>\n",
       "      <td>0</td>\n",
       "      <td>0</td>\n",
       "      <td>1</td>\n",
       "      <td>0</td>\n",
       "      <td>1.058291</td>\n",
       "      <td>0.367492</td>\n",
       "      <td>-0.052389</td>\n",
       "      <td>0.232407</td>\n",
       "      <td>0.287595</td>\n",
       "      <td>0.686964</td>\n",
       "      <td>0.420667</td>\n",
       "      <td>0.648182</td>\n",
       "      <td>0.684501</td>\n",
       "      <td>0.956692</td>\n",
       "      <td>1.000773</td>\n",
       "      <td>0.776742</td>\n",
       "      <td>0.625849</td>\n",
       "      <td>0.250823</td>\n",
       "    </tr>\n",
       "    <tr>\n",
       "      <th>...</th>\n",
       "      <td>...</td>\n",
       "      <td>...</td>\n",
       "      <td>...</td>\n",
       "      <td>...</td>\n",
       "      <td>...</td>\n",
       "      <td>...</td>\n",
       "      <td>...</td>\n",
       "      <td>...</td>\n",
       "      <td>...</td>\n",
       "      <td>...</td>\n",
       "      <td>...</td>\n",
       "      <td>...</td>\n",
       "      <td>...</td>\n",
       "      <td>...</td>\n",
       "      <td>...</td>\n",
       "      <td>...</td>\n",
       "      <td>...</td>\n",
       "      <td>...</td>\n",
       "      <td>...</td>\n",
       "      <td>...</td>\n",
       "      <td>...</td>\n",
       "      <td>...</td>\n",
       "      <td>...</td>\n",
       "      <td>...</td>\n",
       "    </tr>\n",
       "    <tr>\n",
       "      <th>299995</th>\n",
       "      <td>0</td>\n",
       "      <td>0</td>\n",
       "      <td>1</td>\n",
       "      <td>1</td>\n",
       "      <td>0</td>\n",
       "      <td>1</td>\n",
       "      <td>0</td>\n",
       "      <td>0</td>\n",
       "      <td>1</td>\n",
       "      <td>5</td>\n",
       "      <td>0.697124</td>\n",
       "      <td>0.483452</td>\n",
       "      <td>0.297770</td>\n",
       "      <td>0.195821</td>\n",
       "      <td>0.307883</td>\n",
       "      <td>0.769792</td>\n",
       "      <td>0.450538</td>\n",
       "      <td>0.934360</td>\n",
       "      <td>1.005077</td>\n",
       "      <td>0.853726</td>\n",
       "      <td>0.422541</td>\n",
       "      <td>1.063463</td>\n",
       "      <td>0.697685</td>\n",
       "      <td>0.506404</td>\n",
       "    </tr>\n",
       "    <tr>\n",
       "      <th>299996</th>\n",
       "      <td>1</td>\n",
       "      <td>0</td>\n",
       "      <td>1</td>\n",
       "      <td>0</td>\n",
       "      <td>0</td>\n",
       "      <td>0</td>\n",
       "      <td>0</td>\n",
       "      <td>0</td>\n",
       "      <td>3</td>\n",
       "      <td>2</td>\n",
       "      <td>0.446200</td>\n",
       "      <td>0.715135</td>\n",
       "      <td>0.610931</td>\n",
       "      <td>0.601730</td>\n",
       "      <td>0.736713</td>\n",
       "      <td>0.528056</td>\n",
       "      <td>0.508502</td>\n",
       "      <td>0.358247</td>\n",
       "      <td>0.257825</td>\n",
       "      <td>0.433525</td>\n",
       "      <td>0.301015</td>\n",
       "      <td>0.268447</td>\n",
       "      <td>0.577055</td>\n",
       "      <td>0.823611</td>\n",
       "    </tr>\n",
       "    <tr>\n",
       "      <th>299997</th>\n",
       "      <td>0</td>\n",
       "      <td>0</td>\n",
       "      <td>1</td>\n",
       "      <td>0</td>\n",
       "      <td>0</td>\n",
       "      <td>2</td>\n",
       "      <td>0</td>\n",
       "      <td>0</td>\n",
       "      <td>2</td>\n",
       "      <td>2</td>\n",
       "      <td>0.544279</td>\n",
       "      <td>0.060937</td>\n",
       "      <td>0.590955</td>\n",
       "      <td>0.905308</td>\n",
       "      <td>0.277074</td>\n",
       "      <td>0.688747</td>\n",
       "      <td>0.372425</td>\n",
       "      <td>0.364936</td>\n",
       "      <td>0.383224</td>\n",
       "      <td>0.551825</td>\n",
       "      <td>0.661007</td>\n",
       "      <td>0.629606</td>\n",
       "      <td>0.714139</td>\n",
       "      <td>0.245732</td>\n",
       "    </tr>\n",
       "    <tr>\n",
       "      <th>299998</th>\n",
       "      <td>1</td>\n",
       "      <td>0</td>\n",
       "      <td>1</td>\n",
       "      <td>0</td>\n",
       "      <td>0</td>\n",
       "      <td>0</td>\n",
       "      <td>0</td>\n",
       "      <td>0</td>\n",
       "      <td>3</td>\n",
       "      <td>5</td>\n",
       "      <td>0.300062</td>\n",
       "      <td>0.613118</td>\n",
       "      <td>0.285213</td>\n",
       "      <td>0.406851</td>\n",
       "      <td>0.805963</td>\n",
       "      <td>0.344404</td>\n",
       "      <td>0.424243</td>\n",
       "      <td>0.382028</td>\n",
       "      <td>0.468819</td>\n",
       "      <td>0.351036</td>\n",
       "      <td>0.288768</td>\n",
       "      <td>0.611169</td>\n",
       "      <td>0.380254</td>\n",
       "      <td>0.332030</td>\n",
       "    </tr>\n",
       "    <tr>\n",
       "      <th>299999</th>\n",
       "      <td>1</td>\n",
       "      <td>1</td>\n",
       "      <td>1</td>\n",
       "      <td>0</td>\n",
       "      <td>2</td>\n",
       "      <td>1</td>\n",
       "      <td>0</td>\n",
       "      <td>0</td>\n",
       "      <td>1</td>\n",
       "      <td>1</td>\n",
       "      <td>0.857752</td>\n",
       "      <td>0.628528</td>\n",
       "      <td>0.539625</td>\n",
       "      <td>0.396143</td>\n",
       "      <td>0.276785</td>\n",
       "      <td>0.565347</td>\n",
       "      <td>0.328669</td>\n",
       "      <td>0.789165</td>\n",
       "      <td>0.960406</td>\n",
       "      <td>0.776019</td>\n",
       "      <td>0.734707</td>\n",
       "      <td>0.484392</td>\n",
       "      <td>0.639754</td>\n",
       "      <td>0.689317</td>\n",
       "    </tr>\n",
       "  </tbody>\n",
       "</table>\n",
       "<p>294000 rows × 24 columns</p>\n",
       "</div>"
      ],
      "text/plain": [
       "        cat0  cat1  cat2  cat3  cat4  cat5  cat6  cat7  cat8  cat9     cont0  \\\n",
       "0          0     0     0     0     0     0     0     0     0     0  0.201470   \n",
       "1          0     0     1     1     0     1     0     1     1     1  0.743068   \n",
       "2          1     1     1     0     0     1     0     2     1     2  0.742708   \n",
       "3          0     0     1     0     0     1     0     0     0     3  0.429551   \n",
       "4          1     1     1     0     0     1     0     0     1     0  1.058291   \n",
       "...      ...   ...   ...   ...   ...   ...   ...   ...   ...   ...       ...   \n",
       "299995     0     0     1     1     0     1     0     0     1     5  0.697124   \n",
       "299996     1     0     1     0     0     0     0     0     3     2  0.446200   \n",
       "299997     0     0     1     0     0     2     0     0     2     2  0.544279   \n",
       "299998     1     0     1     0     0     0     0     0     3     5  0.300062   \n",
       "299999     1     1     1     0     2     1     0     0     1     1  0.857752   \n",
       "\n",
       "           cont1     cont2     cont3     cont4     cont5     cont6     cont7  \\\n",
       "0      -0.014822  0.669699  0.136278  0.610706  0.400361  0.160266  0.310921   \n",
       "1       0.367411  1.021605  0.365798  0.276853  0.533087  0.558922  0.516294   \n",
       "2       0.310383 -0.012673  0.576957  0.285074  0.650609  0.375348  0.902567   \n",
       "3       0.620998  0.577942  0.280610  0.284667  0.668980  0.239061  0.732948   \n",
       "4       0.367492 -0.052389  0.232407  0.287595  0.686964  0.420667  0.648182   \n",
       "...          ...       ...       ...       ...       ...       ...       ...   \n",
       "299995  0.483452  0.297770  0.195821  0.307883  0.769792  0.450538  0.934360   \n",
       "299996  0.715135  0.610931  0.601730  0.736713  0.528056  0.508502  0.358247   \n",
       "299997  0.060937  0.590955  0.905308  0.277074  0.688747  0.372425  0.364936   \n",
       "299998  0.613118  0.285213  0.406851  0.805963  0.344404  0.424243  0.382028   \n",
       "299999  0.628528  0.539625  0.396143  0.276785  0.565347  0.328669  0.789165   \n",
       "\n",
       "           cont8     cont9    cont10    cont11    cont12    cont13  \n",
       "0       0.389470  0.267559  0.237281  0.377873  0.322401  0.869850  \n",
       "1       0.594928  0.341439  0.906013  0.921701  0.261975  0.465083  \n",
       "2       0.555205  0.843531  0.748809  0.620126  0.541474  0.763846  \n",
       "3       0.679618  0.574844  0.346010  0.714610  0.540150  0.280682  \n",
       "4       0.684501  0.956692  1.000773  0.776742  0.625849  0.250823  \n",
       "...          ...       ...       ...       ...       ...       ...  \n",
       "299995  1.005077  0.853726  0.422541  1.063463  0.697685  0.506404  \n",
       "299996  0.257825  0.433525  0.301015  0.268447  0.577055  0.823611  \n",
       "299997  0.383224  0.551825  0.661007  0.629606  0.714139  0.245732  \n",
       "299998  0.468819  0.351036  0.288768  0.611169  0.380254  0.332030  \n",
       "299999  0.960406  0.776019  0.734707  0.484392  0.639754  0.689317  \n",
       "\n",
       "[294000 rows x 24 columns]"
      ]
     },
     "execution_count": 15,
     "metadata": {},
     "output_type": "execute_result"
    }
   ],
   "source": [
    "X = df.copy()\n",
    "y = X.pop(\"target\")\n",
    "\n",
    "# Label encoding for categoricals\n",
    "for colname in X.select_dtypes(\"object\"):\n",
    "    X[colname], _ = X[colname].factorize()\n",
    "\n",
    "discrete_features = X.dtypes == int\n",
    "X"
   ]
  },
  {
   "cell_type": "code",
   "execution_count": 16,
   "id": "0f00a111",
   "metadata": {
    "execution": {
     "iopub.execute_input": "2023-02-25T23:42:40.757495Z",
     "iopub.status.busy": "2023-02-25T23:42:40.757028Z",
     "iopub.status.idle": "2023-02-25T23:43:40.672005Z",
     "shell.execute_reply": "2023-02-25T23:43:40.670765Z"
    },
    "papermill": {
     "duration": 59.964512,
     "end_time": "2023-02-25T23:43:40.674996",
     "exception": false,
     "start_time": "2023-02-25T23:42:40.710484",
     "status": "completed"
    },
    "tags": []
   },
   "outputs": [],
   "source": [
    "mi_scores = make_mi_scores(X, y, discrete_features)"
   ]
  },
  {
   "cell_type": "code",
   "execution_count": 17,
   "id": "f0353a41",
   "metadata": {
    "execution": {
     "iopub.execute_input": "2023-02-25T23:43:40.761771Z",
     "iopub.status.busy": "2023-02-25T23:43:40.761102Z",
     "iopub.status.idle": "2023-02-25T23:43:41.123072Z",
     "shell.execute_reply": "2023-02-25T23:43:41.121838Z"
    },
    "papermill": {
     "duration": 0.407326,
     "end_time": "2023-02-25T23:43:41.125519",
     "exception": false,
     "start_time": "2023-02-25T23:43:40.718193",
     "status": "completed"
    },
    "tags": []
   },
   "outputs": [
    {
     "data": {
      "image/png": "[encoded data removed]",
      "text/plain": [
       "<Figure size 640x480 with 1 Axes>"
      ]
     },
     "metadata": {},
     "output_type": "display_data"
    }
   ],
   "source": [
    "import matplotlib.pyplot as plt\n",
    "\n",
    "plot_mi_scores(mi_scores)"
   ]
  },
  {
   "cell_type": "markdown",
   "id": "d11843ac",
   "metadata": {
    "id": "iiUVrSImpB0I",
    "papermill": {
     "duration": 0.041868,
     "end_time": "2023-02-25T23:43:41.280166",
     "exception": false,
     "start_time": "2023-02-25T23:43:41.238298",
     "status": "completed"
    },
    "tags": []
   },
   "source": [
    "## Categorical variables"
   ]
  },
  {
   "cell_type": "markdown",
   "id": "f1f6ff70",
   "metadata": {
    "id": "76AJuRs6qpRn",
    "papermill": {
     "duration": 0.04308,
     "end_time": "2023-02-25T23:43:41.366304",
     "exception": false,
     "start_time": "2023-02-25T23:43:41.323224",
     "status": "completed"
    },
    "tags": []
   },
   "source": [
    "### cat0"
   ]
  },
  {
   "cell_type": "code",
   "execution_count": 18,
   "id": "6cae9800",
   "metadata": {
    "execution": {
     "iopub.execute_input": "2023-02-25T23:43:41.454916Z",
     "iopub.status.busy": "2023-02-25T23:43:41.454511Z",
     "iopub.status.idle": "2023-02-25T23:43:41.840147Z",
     "shell.execute_reply": "2023-02-25T23:43:41.837933Z"
    },
    "papermill": {
     "duration": 0.433136,
     "end_time": "2023-02-25T23:43:41.843524",
     "exception": false,
     "start_time": "2023-02-25T23:43:41.410388",
     "status": "completed"
    },
    "tags": []
   },
   "outputs": [
    {
     "data": {
      "text/plain": [
       "[Text(0.5, 1.0, 'cat0 values distribution')]"
      ]
     },
     "execution_count": 18,
     "metadata": {},
     "output_type": "execute_result"
    },
    {
     "data": {
      "image/png": "[encoded data removed]",
      "text/plain": [
       "<Figure size 640x480 with 1 Axes>"
      ]
     },
     "metadata": {},
     "output_type": "display_data"
    }
   ],
   "source": [
    "sns.countplot(x = 'cat0', palette = 'Set2', data = df).set(title='cat0 values distribution')"
   ]
  },
  {
   "cell_type": "code",
   "execution_count": 19,
   "id": "56ea0fde",
   "metadata": {
    "_kg_hide-input": true,
    "execution": {
     "iopub.execute_input": "2023-02-25T23:43:41.933956Z",
     "iopub.status.busy": "2023-02-25T23:43:41.933507Z",
     "iopub.status.idle": "2023-02-25T23:43:42.290521Z",
     "shell.execute_reply": "2023-02-25T23:43:42.289464Z"
    },
    "id": "M5w9qx658oi0",
    "papermill": {
     "duration": 0.405512,
     "end_time": "2023-02-25T23:43:42.293160",
     "exception": false,
     "start_time": "2023-02-25T23:43:41.887648",
     "status": "completed"
    },
    "tags": []
   },
   "outputs": [
    {
     "data": {
      "text/plain": [
       "[Text(0.5, 1.0, 'target by cat0 boxplot')]"
      ]
     },
     "execution_count": 19,
     "metadata": {},
     "output_type": "execute_result"
    },
    {
     "data": {
      "image/png": "[encoded data removed]",
      "text/plain": [
       "<Figure size 640x480 with 1 Axes>"
      ]
     },
     "metadata": {},
     "output_type": "display_data"
    }
   ],
   "source": [
    "sns.boxplot(x='cat0', y='target', data=df).set(title='target by cat0 boxplot')"
   ]
  },
  {
   "cell_type": "markdown",
   "id": "839ff992",
   "metadata": {
    "id": "76AJuRs6qpRn",
    "papermill": {
     "duration": 0.04527,
     "end_time": "2023-02-25T23:43:42.382231",
     "exception": false,
     "start_time": "2023-02-25T23:43:42.336961",
     "status": "completed"
    },
    "tags": []
   },
   "source": [
    "### cat1"
   ]
  },
  {
   "cell_type": "code",
   "execution_count": 20,
   "id": "9aa5ec93",
   "metadata": {
    "execution": {
     "iopub.execute_input": "2023-02-25T23:43:42.471386Z",
     "iopub.status.busy": "2023-02-25T23:43:42.470997Z",
     "iopub.status.idle": "2023-02-25T23:43:42.843781Z",
     "shell.execute_reply": "2023-02-25T23:43:42.842473Z"
    },
    "papermill": {
     "duration": 0.420413,
     "end_time": "2023-02-25T23:43:42.846470",
     "exception": false,
     "start_time": "2023-02-25T23:43:42.426057",
     "status": "completed"
    },
    "tags": []
   },
   "outputs": [
    {
     "data": {
      "text/plain": [
       "[Text(0.5, 1.0, 'cat1 values distribution')]"
      ]
     },
     "execution_count": 20,
     "metadata": {},
     "output_type": "execute_result"
    },
    {
     "data": {
      "image/png": "[encoded data removed]",
      "text/plain": [
       "<Figure size 640x480 with 1 Axes>"
      ]
     },
     "metadata": {},
     "output_type": "display_data"
    }
   ],
   "source": [
    "sns.countplot(x = 'cat1', palette = 'Set2', data = df).set(title='cat1 values distribution')"
   ]
  },
  {
   "cell_type": "code",
   "execution_count": 21,
   "id": "74de6e5f",
   "metadata": {
    "_kg_hide-input": true,
    "execution": {
     "iopub.execute_input": "2023-02-25T23:43:42.937523Z",
     "iopub.status.busy": "2023-02-25T23:43:42.937108Z",
     "iopub.status.idle": "2023-02-25T23:43:43.292731Z",
     "shell.execute_reply": "2023-02-25T23:43:43.291613Z"
    },
    "id": "M5w9qx658oi0",
    "papermill": {
     "duration": 0.403904,
     "end_time": "2023-02-25T23:43:43.295441",
     "exception": false,
     "start_time": "2023-02-25T23:43:42.891537",
     "status": "completed"
    },
    "tags": []
   },
   "outputs": [
    {
     "data": {
      "text/plain": [
       "[Text(0.5, 1.0, 'target by cat1 boxplot')]"
      ]
     },
     "execution_count": 21,
     "metadata": {},
     "output_type": "execute_result"
    },
    {
     "data": {
      "image/png": "[encoded data removed]",
      "text/plain": [
       "<Figure size 640x480 with 1 Axes>"
      ]
     },
     "metadata": {},
     "output_type": "display_data"
    }
   ],
   "source": [
    "sns.boxplot(x='cat1', y='target', data=df).set(title='target by cat1 boxplot')"
   ]
  },
  {
   "cell_type": "markdown",
   "id": "42e35f41",
   "metadata": {
    "id": "76AJuRs6qpRn",
    "papermill": {
     "duration": 0.044575,
     "end_time": "2023-02-25T23:43:43.385158",
     "exception": false,
     "start_time": "2023-02-25T23:43:43.340583",
     "status": "completed"
    },
    "tags": []
   },
   "source": [
    "### cat2"
   ]
  },
  {
   "cell_type": "code",
   "execution_count": 22,
   "id": "da882e39",
   "metadata": {
    "execution": {
     "iopub.execute_input": "2023-02-25T23:43:43.476808Z",
     "iopub.status.busy": "2023-02-25T23:43:43.476283Z",
     "iopub.status.idle": "2023-02-25T23:43:43.839812Z",
     "shell.execute_reply": "2023-02-25T23:43:43.838667Z"
    },
    "papermill": {
     "duration": 0.41259,
     "end_time": "2023-02-25T23:43:43.842486",
     "exception": false,
     "start_time": "2023-02-25T23:43:43.429896",
     "status": "completed"
    },
    "tags": []
   },
   "outputs": [
    {
     "data": {
      "text/plain": [
       "[Text(0.5, 1.0, 'cat2 values distribution')]"
      ]
     },
     "execution_count": 22,
     "metadata": {},
     "output_type": "execute_result"
    },
    {
     "data": {
      "image/png": "[encoded data removed]",
      "text/plain": [
       "<Figure size 640x480 with 1 Axes>"
      ]
     },
     "metadata": {},
     "output_type": "display_data"
    }
   ],
   "source": [
    "sns.countplot(x = 'cat2', palette = 'Set2', data = df).set(title='cat2 values distribution')"
   ]
  },
  {
   "cell_type": "code",
   "execution_count": 23,
   "id": "5168e2d8",
   "metadata": {
    "_kg_hide-input": true,
    "execution": {
     "iopub.execute_input": "2023-02-25T23:43:43.935228Z",
     "iopub.status.busy": "2023-02-25T23:43:43.934854Z",
     "iopub.status.idle": "2023-02-25T23:43:44.292916Z",
     "shell.execute_reply": "2023-02-25T23:43:44.291319Z"
    },
    "id": "M5w9qx658oi0",
    "papermill": {
     "duration": 0.407666,
     "end_time": "2023-02-25T23:43:44.295567",
     "exception": false,
     "start_time": "2023-02-25T23:43:43.887901",
     "status": "completed"
    },
    "tags": []
   },
   "outputs": [
    {
     "data": {
      "text/plain": [
       "[Text(0.5, 1.0, 'target by cat2 boxplot')]"
      ]
     },
     "execution_count": 23,
     "metadata": {},
     "output_type": "execute_result"
    },
    {
     "data": {
      "image/png": "[encoded data removed]",
      "text/plain": [
       "<Figure size 640x480 with 1 Axes>"
      ]
     },
     "metadata": {},
     "output_type": "display_data"
    }
   ],
   "source": [
    "sns.boxplot(x='cat2', y='target', data=df).set(title='target by cat2 boxplot')"
   ]
  },
  {
   "cell_type": "markdown",
   "id": "535d4744",
   "metadata": {
    "id": "76AJuRs6qpRn",
    "papermill": {
     "duration": 0.045408,
     "end_time": "2023-02-25T23:43:44.387543",
     "exception": false,
     "start_time": "2023-02-25T23:43:44.342135",
     "status": "completed"
    },
    "tags": []
   },
   "source": [
    "### cat3"
   ]
  },
  {
   "cell_type": "code",
   "execution_count": 24,
   "id": "25bcfa48",
   "metadata": {
    "execution": {
     "iopub.execute_input": "2023-02-25T23:43:44.482494Z",
     "iopub.status.busy": "2023-02-25T23:43:44.482025Z",
     "iopub.status.idle": "2023-02-25T23:43:44.880302Z",
     "shell.execute_reply": "2023-02-25T23:43:44.879015Z"
    },
    "papermill": {
     "duration": 0.448355,
     "end_time": "2023-02-25T23:43:44.882886",
     "exception": false,
     "start_time": "2023-02-25T23:43:44.434531",
     "status": "completed"
    },
    "tags": []
   },
   "outputs": [
    {
     "data": {
      "text/plain": [
       "[Text(0.5, 1.0, 'cat3 values distribution')]"
      ]
     },
     "execution_count": 24,
     "metadata": {},
     "output_type": "execute_result"
    },
    {
     "data": {
      "image/png": "[encoded data removed]",
      "text/plain": [
       "<Figure size 640x480 with 1 Axes>"
      ]
     },
     "metadata": {},
     "output_type": "display_data"
    }
   ],
   "source": [
    "sns.countplot(x = 'cat3', palette = 'Set2', data = df).set(title='cat3 values distribution')"
   ]
  },
  {
   "cell_type": "code",
   "execution_count": 25,
   "id": "dfd76739",
   "metadata": {
    "_kg_hide-input": true,
    "execution": {
     "iopub.execute_input": "2023-02-25T23:43:44.983165Z",
     "iopub.status.busy": "2023-02-25T23:43:44.982072Z",
     "iopub.status.idle": "2023-02-25T23:43:45.371026Z",
     "shell.execute_reply": "2023-02-25T23:43:45.369630Z"
    },
    "id": "M5w9qx658oi0",
    "papermill": {
     "duration": 0.441677,
     "end_time": "2023-02-25T23:43:45.373718",
     "exception": false,
     "start_time": "2023-02-25T23:43:44.932041",
     "status": "completed"
    },
    "tags": []
   },
   "outputs": [
    {
     "data": {
      "text/plain": [
       "[Text(0.5, 1.0, 'target by cat3 boxplot')]"
      ]
     },
     "execution_count": 25,
     "metadata": {},
     "output_type": "execute_result"
    },
    {
     "data": {
      "image/png": "[encoded data removed]",
      "text/plain": [
       "<Figure size 640x480 with 1 Axes>"
      ]
     },
     "metadata": {},
     "output_type": "display_data"
    }
   ],
   "source": [
    "sns.boxplot(x='cat3', y='target', data=df).set(title='target by cat3 boxplot')"
   ]
  },
  {
   "cell_type": "markdown",
   "id": "e1e0dcd0",
   "metadata": {
    "papermill": {
     "duration": 0.046146,
     "end_time": "2023-02-25T23:43:45.466099",
     "exception": false,
     "start_time": "2023-02-25T23:43:45.419953",
     "status": "completed"
    },
    "tags": []
   },
   "source": [
    "The categories are too unbalanced for this column to be used"
   ]
  },
  {
   "cell_type": "markdown",
   "id": "6d285a73",
   "metadata": {
    "id": "76AJuRs6qpRn",
    "papermill": {
     "duration": 0.047969,
     "end_time": "2023-02-25T23:43:45.566507",
     "exception": false,
     "start_time": "2023-02-25T23:43:45.518538",
     "status": "completed"
    },
    "tags": []
   },
   "source": [
    "### cat4"
   ]
  },
  {
   "cell_type": "code",
   "execution_count": 26,
   "id": "46f1b3af",
   "metadata": {
    "execution": {
     "iopub.execute_input": "2023-02-25T23:43:45.668184Z",
     "iopub.status.busy": "2023-02-25T23:43:45.667680Z",
     "iopub.status.idle": "2023-02-25T23:43:46.046671Z",
     "shell.execute_reply": "2023-02-25T23:43:46.045481Z"
    },
    "papermill": {
     "duration": 0.430948,
     "end_time": "2023-02-25T23:43:46.049104",
     "exception": false,
     "start_time": "2023-02-25T23:43:45.618156",
     "status": "completed"
    },
    "tags": []
   },
   "outputs": [
    {
     "data": {
      "text/plain": [
       "[Text(0.5, 1.0, 'cat4 values distribution')]"
      ]
     },
     "execution_count": 26,
     "metadata": {},
     "output_type": "execute_result"
    },
    {
     "data": {
      "image/png": "[encoded data removed]",
      "text/plain": [
       "<Figure size 640x480 with 1 Axes>"
      ]
     },
     "metadata": {},
     "output_type": "display_data"
    }
   ],
   "source": [
    "sns.countplot(x = 'cat4', palette = 'Set2', data = df).set(title='cat4 values distribution')"
   ]
  },
  {
   "cell_type": "code",
   "execution_count": 27,
   "id": "8c1af210",
   "metadata": {
    "_kg_hide-input": true,
    "execution": {
     "iopub.execute_input": "2023-02-25T23:43:46.154700Z",
     "iopub.status.busy": "2023-02-25T23:43:46.153530Z",
     "iopub.status.idle": "2023-02-25T23:43:46.542656Z",
     "shell.execute_reply": "2023-02-25T23:43:46.541374Z"
    },
    "id": "M5w9qx658oi0",
    "papermill": {
     "duration": 0.445708,
     "end_time": "2023-02-25T23:43:46.545227",
     "exception": false,
     "start_time": "2023-02-25T23:43:46.099519",
     "status": "completed"
    },
    "tags": []
   },
   "outputs": [
    {
     "data": {
      "text/plain": [
       "[Text(0.5, 1.0, 'target by cat4 boxplot')]"
      ]
     },
     "execution_count": 27,
     "metadata": {},
     "output_type": "execute_result"
    },
    {
     "data": {
      "image/png": "[encoded data removed]",
      "text/plain": [
       "<Figure size 640x480 with 1 Axes>"
      ]
     },
     "metadata": {},
     "output_type": "display_data"
    }
   ],
   "source": [
    "sns.boxplot(x='cat4', y='target', data=df).set(title='target by cat4 boxplot')"
   ]
  },
  {
   "cell_type": "markdown",
   "id": "4344a52e",
   "metadata": {
    "papermill": {
     "duration": 0.047902,
     "end_time": "2023-02-25T23:43:46.640621",
     "exception": false,
     "start_time": "2023-02-25T23:43:46.592719",
     "status": "completed"
    },
    "tags": []
   },
   "source": [
    "The categories are too unbalanced for this column to be used"
   ]
  },
  {
   "cell_type": "markdown",
   "id": "5bf46527",
   "metadata": {
    "id": "76AJuRs6qpRn",
    "papermill": {
     "duration": 0.047005,
     "end_time": "2023-02-25T23:43:46.737132",
     "exception": false,
     "start_time": "2023-02-25T23:43:46.690127",
     "status": "completed"
    },
    "tags": []
   },
   "source": [
    "### cat5"
   ]
  },
  {
   "cell_type": "code",
   "execution_count": 28,
   "id": "bbc74e4b",
   "metadata": {
    "execution": {
     "iopub.execute_input": "2023-02-25T23:43:46.837250Z",
     "iopub.status.busy": "2023-02-25T23:43:46.836557Z",
     "iopub.status.idle": "2023-02-25T23:43:47.233220Z",
     "shell.execute_reply": "2023-02-25T23:43:47.231884Z"
    },
    "papermill": {
     "duration": 0.449908,
     "end_time": "2023-02-25T23:43:47.235931",
     "exception": false,
     "start_time": "2023-02-25T23:43:46.786023",
     "status": "completed"
    },
    "tags": []
   },
   "outputs": [
    {
     "data": {
      "text/plain": [
       "[Text(0.5, 1.0, 'cat5 values distribution')]"
      ]
     },
     "execution_count": 28,
     "metadata": {},
     "output_type": "execute_result"
    },
    {
     "data": {
      "image/png": "[encoded data removed]",
      "text/plain": [
       "<Figure size 640x480 with 1 Axes>"
      ]
     },
     "metadata": {},
     "output_type": "display_data"
    }
   ],
   "source": [
    "sns.countplot(x = 'cat5', palette = 'Set2', data = df).set(title='cat5 values distribution')"
   ]
  },
  {
   "cell_type": "code",
   "execution_count": 29,
   "id": "165d8556",
   "metadata": {
    "_kg_hide-input": true,
    "execution": {
     "iopub.execute_input": "2023-02-25T23:43:47.344191Z",
     "iopub.status.busy": "2023-02-25T23:43:47.343290Z",
     "iopub.status.idle": "2023-02-25T23:43:47.770945Z",
     "shell.execute_reply": "2023-02-25T23:43:47.769445Z"
    },
    "id": "M5w9qx658oi0",
    "papermill": {
     "duration": 0.481906,
     "end_time": "2023-02-25T23:43:47.773823",
     "exception": false,
     "start_time": "2023-02-25T23:43:47.291917",
     "status": "completed"
    },
    "tags": []
   },
   "outputs": [
    {
     "data": {
      "text/plain": [
       "[Text(0.5, 1.0, 'target by cat5 boxplot')]"
      ]
     },
     "execution_count": 29,
     "metadata": {},
     "output_type": "execute_result"
    },
    {
     "data": {
      "image/png": "[encoded data removed]",
      "text/plain": [
       "<Figure size 640x480 with 1 Axes>"
      ]
     },
     "metadata": {},
     "output_type": "display_data"
    }
   ],
   "source": [
    "sns.boxplot(x='cat5', y='target', data=df).set(title='target by cat5 boxplot')"
   ]
  },
  {
   "cell_type": "markdown",
   "id": "2ecda38a",
   "metadata": {
    "id": "76AJuRs6qpRn",
    "papermill": {
     "duration": 0.049311,
     "end_time": "2023-02-25T23:43:47.872608",
     "exception": false,
     "start_time": "2023-02-25T23:43:47.823297",
     "status": "completed"
    },
    "tags": []
   },
   "source": [
    "### cat6"
   ]
  },
  {
   "cell_type": "code",
   "execution_count": 30,
   "id": "552331b0",
   "metadata": {
    "execution": {
     "iopub.execute_input": "2023-02-25T23:43:47.975317Z",
     "iopub.status.busy": "2023-02-25T23:43:47.974202Z",
     "iopub.status.idle": "2023-02-25T23:43:48.392654Z",
     "shell.execute_reply": "2023-02-25T23:43:48.391181Z"
    },
    "papermill": {
     "duration": 0.472651,
     "end_time": "2023-02-25T23:43:48.395205",
     "exception": false,
     "start_time": "2023-02-25T23:43:47.922554",
     "status": "completed"
    },
    "tags": []
   },
   "outputs": [
    {
     "data": {
      "text/plain": [
       "[Text(0.5, 1.0, 'cat6 values distribution')]"
      ]
     },
     "execution_count": 30,
     "metadata": {},
     "output_type": "execute_result"
    },
    {
     "data": {
      "image/png": "[encoded data removed]",
      "text/plain": [
       "<Figure size 640x480 with 1 Axes>"
      ]
     },
     "metadata": {},
     "output_type": "display_data"
    }
   ],
   "source": [
    "sns.countplot(x = 'cat6', palette = 'Set2', data = df).set(title='cat6 values distribution')"
   ]
  },
  {
   "cell_type": "code",
   "execution_count": 31,
   "id": "e9a6cd80",
   "metadata": {
    "_kg_hide-input": true,
    "execution": {
     "iopub.execute_input": "2023-02-25T23:43:48.496129Z",
     "iopub.status.busy": "2023-02-25T23:43:48.495230Z",
     "iopub.status.idle": "2023-02-25T23:43:48.955386Z",
     "shell.execute_reply": "2023-02-25T23:43:48.954189Z"
    },
    "id": "M5w9qx658oi0",
    "papermill": {
     "duration": 0.513411,
     "end_time": "2023-02-25T23:43:48.958077",
     "exception": false,
     "start_time": "2023-02-25T23:43:48.444666",
     "status": "completed"
    },
    "tags": []
   },
   "outputs": [
    {
     "data": {
      "text/plain": [
       "[Text(0.5, 1.0, 'target by cat6 boxplot')]"
      ]
     },
     "execution_count": 31,
     "metadata": {},
     "output_type": "execute_result"
    },
    {
     "data": {
      "image/png": "[encoded data removed]",
      "text/plain": [
       "<Figure size 640x480 with 1 Axes>"
      ]
     },
     "metadata": {},
     "output_type": "display_data"
    }
   ],
   "source": [
    "sns.boxplot(x='cat6', y='target', data=df).set(title='target by cat6 boxplot')"
   ]
  },
  {
   "cell_type": "markdown",
   "id": "a23b9757",
   "metadata": {
    "papermill": {
     "duration": 0.050323,
     "end_time": "2023-02-25T23:43:49.061411",
     "exception": false,
     "start_time": "2023-02-25T23:43:49.011088",
     "status": "completed"
    },
    "tags": []
   },
   "source": [
    "The categories are too unbalanced for this column to be used"
   ]
  },
  {
   "cell_type": "markdown",
   "id": "0341bb97",
   "metadata": {
    "id": "76AJuRs6qpRn",
    "papermill": {
     "duration": 0.049833,
     "end_time": "2023-02-25T23:43:49.161381",
     "exception": false,
     "start_time": "2023-02-25T23:43:49.111548",
     "status": "completed"
    },
    "tags": []
   },
   "source": [
    "### cat7"
   ]
  },
  {
   "cell_type": "code",
   "execution_count": 32,
   "id": "7143c1f6",
   "metadata": {
    "execution": {
     "iopub.execute_input": "2023-02-25T23:43:49.265614Z",
     "iopub.status.busy": "2023-02-25T23:43:49.265225Z",
     "iopub.status.idle": "2023-02-25T23:43:49.671280Z",
     "shell.execute_reply": "2023-02-25T23:43:49.670332Z"
    },
    "papermill": {
     "duration": 0.461396,
     "end_time": "2023-02-25T23:43:49.673875",
     "exception": false,
     "start_time": "2023-02-25T23:43:49.212479",
     "status": "completed"
    },
    "tags": []
   },
   "outputs": [
    {
     "data": {
      "text/plain": [
       "[Text(0.5, 1.0, 'cat7 values distribution')]"
      ]
     },
     "execution_count": 32,
     "metadata": {},
     "output_type": "execute_result"
    },
    {
     "data": {
      "image/png": "[encoded data removed]",
      "text/plain": [
       "<Figure size 640x480 with 1 Axes>"
      ]
     },
     "metadata": {},
     "output_type": "display_data"
    }
   ],
   "source": [
    "sns.countplot(x = 'cat7', palette = 'Set2', data = df).set(title='cat7 values distribution')"
   ]
  },
  {
   "cell_type": "code",
   "execution_count": 33,
   "id": "57fbbe85",
   "metadata": {
    "_kg_hide-input": true,
    "execution": {
     "iopub.execute_input": "2023-02-25T23:43:49.776703Z",
     "iopub.status.busy": "2023-02-25T23:43:49.776274Z",
     "iopub.status.idle": "2023-02-25T23:43:50.230727Z",
     "shell.execute_reply": "2023-02-25T23:43:50.229467Z"
    },
    "id": "M5w9qx658oi0",
    "papermill": {
     "duration": 0.509195,
     "end_time": "2023-02-25T23:43:50.233392",
     "exception": false,
     "start_time": "2023-02-25T23:43:49.724197",
     "status": "completed"
    },
    "tags": []
   },
   "outputs": [
    {
     "data": {
      "text/plain": [
       "[Text(0.5, 1.0, 'target by cat7 boxplot')]"
      ]
     },
     "execution_count": 33,
     "metadata": {},
     "output_type": "execute_result"
    },
    {
     "data": {
      "image/png": "[encoded data removed]",
      "text/plain": [
       "<Figure size 640x480 with 1 Axes>"
      ]
     },
     "metadata": {},
     "output_type": "display_data"
    }
   ],
   "source": [
    "sns.boxplot(x='cat7', y='target', data=df).set(title='target by cat7 boxplot')"
   ]
  },
  {
   "cell_type": "markdown",
   "id": "7b1063a0",
   "metadata": {
    "id": "76AJuRs6qpRn",
    "papermill": {
     "duration": 0.051005,
     "end_time": "2023-02-25T23:43:50.335340",
     "exception": false,
     "start_time": "2023-02-25T23:43:50.284335",
     "status": "completed"
    },
    "tags": []
   },
   "source": [
    "### cat8"
   ]
  },
  {
   "cell_type": "code",
   "execution_count": 34,
   "id": "516ce9f8",
   "metadata": {
    "execution": {
     "iopub.execute_input": "2023-02-25T23:43:50.438884Z",
     "iopub.status.busy": "2023-02-25T23:43:50.438484Z",
     "iopub.status.idle": "2023-02-25T23:43:51.009181Z",
     "shell.execute_reply": "2023-02-25T23:43:51.008019Z"
    },
    "papermill": {
     "duration": 0.625103,
     "end_time": "2023-02-25T23:43:51.011606",
     "exception": false,
     "start_time": "2023-02-25T23:43:50.386503",
     "status": "completed"
    },
    "tags": []
   },
   "outputs": [
    {
     "data": {
      "text/plain": [
       "[Text(0.5, 1.0, 'cat8 values distribution')]"
      ]
     },
     "execution_count": 34,
     "metadata": {},
     "output_type": "execute_result"
    },
    {
     "data": {
      "image/png": "[encoded data removed]",
      "text/plain": [
       "<Figure size 640x480 with 1 Axes>"
      ]
     },
     "metadata": {},
     "output_type": "display_data"
    }
   ],
   "source": [
    "sns.countplot(x = 'cat8', palette = 'Set2', data = df).set(title='cat8 values distribution')"
   ]
  },
  {
   "cell_type": "code",
   "execution_count": 35,
   "id": "c6be522f",
   "metadata": {
    "_kg_hide-input": true,
    "execution": {
     "iopub.execute_input": "2023-02-25T23:43:51.117070Z",
     "iopub.status.busy": "2023-02-25T23:43:51.116564Z",
     "iopub.status.idle": "2023-02-25T23:43:51.556363Z",
     "shell.execute_reply": "2023-02-25T23:43:51.555323Z"
    },
    "id": "M5w9qx658oi0",
    "papermill": {
     "duration": 0.495807,
     "end_time": "2023-02-25T23:43:51.559110",
     "exception": false,
     "start_time": "2023-02-25T23:43:51.063303",
     "status": "completed"
    },
    "tags": []
   },
   "outputs": [
    {
     "data": {
      "text/plain": [
       "[Text(0.5, 1.0, 'target by cat8 boxplot')]"
      ]
     },
     "execution_count": 35,
     "metadata": {},
     "output_type": "execute_result"
    },
    {
     "data": {
      "image/png": "[encoded data removed]",
      "text/plain": [
       "<Figure size 640x480 with 1 Axes>"
      ]
     },
     "metadata": {},
     "output_type": "display_data"
    }
   ],
   "source": [
    "sns.boxplot(x='cat8', y='target', data=df).set(title='target by cat8 boxplot')"
   ]
  },
  {
   "cell_type": "markdown",
   "id": "1d1f2546",
   "metadata": {
    "id": "76AJuRs6qpRn",
    "papermill": {
     "duration": 0.051654,
     "end_time": "2023-02-25T23:43:51.662526",
     "exception": false,
     "start_time": "2023-02-25T23:43:51.610872",
     "status": "completed"
    },
    "tags": []
   },
   "source": [
    "### cat9"
   ]
  },
  {
   "cell_type": "code",
   "execution_count": 36,
   "id": "9d1e13a5",
   "metadata": {
    "execution": {
     "iopub.execute_input": "2023-02-25T23:43:51.770339Z",
     "iopub.status.busy": "2023-02-25T23:43:51.769086Z",
     "iopub.status.idle": "2023-02-25T23:43:52.233619Z",
     "shell.execute_reply": "2023-02-25T23:43:52.232445Z"
    },
    "papermill": {
     "duration": 0.520368,
     "end_time": "2023-02-25T23:43:52.236136",
     "exception": false,
     "start_time": "2023-02-25T23:43:51.715768",
     "status": "completed"
    },
    "tags": []
   },
   "outputs": [
    {
     "data": {
      "text/plain": [
       "[Text(0.5, 1.0, 'cat9 values distribution')]"
      ]
     },
     "execution_count": 36,
     "metadata": {},
     "output_type": "execute_result"
    },
    {
     "data": {
      "image/png": "[encoded data removed]",
      "text/plain": [
       "<Figure size 640x480 with 1 Axes>"
      ]
     },
     "metadata": {},
     "output_type": "display_data"
    }
   ],
   "source": [
    "sns.countplot(x = 'cat9', palette = 'Set2', data = df).set(title='cat9 values distribution')"
   ]
  },
  {
   "cell_type": "code",
   "execution_count": 37,
   "id": "a4efee24",
   "metadata": {
    "_kg_hide-input": true,
    "execution": {
     "iopub.execute_input": "2023-02-25T23:43:52.344439Z",
     "iopub.status.busy": "2023-02-25T23:43:52.343199Z",
     "iopub.status.idle": "2023-02-25T23:43:52.902803Z",
     "shell.execute_reply": "2023-02-25T23:43:52.901589Z"
    },
    "id": "M5w9qx658oi0",
    "papermill": {
     "duration": 0.616916,
     "end_time": "2023-02-25T23:43:52.905820",
     "exception": false,
     "start_time": "2023-02-25T23:43:52.288904",
     "status": "completed"
    },
    "tags": []
   },
   "outputs": [
    {
     "data": {
      "text/plain": [
       "[Text(0.5, 1.0, 'target by cat9 boxplot')]"
      ]
     },
     "execution_count": 37,
     "metadata": {},
     "output_type": "execute_result"
    },
    {
     "data": {
      "image/png": "[encoded data removed]",
      "text/plain": [
       "<Figure size 640x480 with 1 Axes>"
      ]
     },
     "metadata": {},
     "output_type": "display_data"
    }
   ],
   "source": [
    "sns.boxplot(x='cat9', y='target', data=df).set(title='target by cat9 boxplot')"
   ]
  },
  {
   "cell_type": "markdown",
   "id": "d762b3ad",
   "metadata": {
    "papermill": {
     "duration": 0.052945,
     "end_time": "2023-02-25T23:43:53.012042",
     "exception": false,
     "start_time": "2023-02-25T23:43:52.959097",
     "status": "completed"
    },
    "tags": []
   },
   "source": [
    "## Predictor variable candidates"
   ]
  },
  {
   "cell_type": "markdown",
   "id": "eb71b903",
   "metadata": {
    "papermill": {
     "duration": 0.052913,
     "end_time": "2023-02-25T23:43:53.117704",
     "exception": false,
     "start_time": "2023-02-25T23:43:53.064791",
     "status": "completed"
    },
    "tags": []
   },
   "source": [
    "- cat5\n",
    "- cat8\n",
    "- cat1\n",
    "- cat9\n",
    "- cat7"
   ]
  },
  {
   "cell_type": "markdown",
   "id": "9474885a",
   "metadata": {
    "id": "g-vbIj9iqskU",
    "papermill": {
     "duration": 0.052689,
     "end_time": "2023-02-25T23:43:53.223594",
     "exception": false,
     "start_time": "2023-02-25T23:43:53.170905",
     "status": "completed"
    },
    "tags": []
   },
   "source": [
    "### Income"
   ]
  },
  {
   "cell_type": "markdown",
   "id": "1c9369b5",
   "metadata": {
    "_kg_hide-input": true,
    "execution": {
     "iopub.execute_input": "2023-02-25T23:21:23.687479Z",
     "iopub.status.busy": "2023-02-25T23:21:23.686352Z",
     "iopub.status.idle": "2023-02-25T23:21:23.943158Z",
     "shell.execute_reply": "2023-02-25T23:21:23.934934Z",
     "shell.execute_reply.started": "2023-02-25T23:21:23.687432Z"
    },
    "papermill": {
     "duration": 0.052345,
     "end_time": "2023-02-25T23:43:53.328877",
     "exception": false,
     "start_time": "2023-02-25T23:43:53.276532",
     "status": "completed"
    },
    "tags": []
   },
   "source": [
    "plt.figure(figsize = (20,35))\n",
    "plt.subplot(5,2,10)\n",
    "sns.countplot(x = 'Income_Category', hue = 'Attrition_Flag', palette = 'Set2', data = df)\n",
    "plt.show()"
   ]
  },
  {
   "cell_type": "markdown",
   "id": "db001836",
   "metadata": {
    "_kg_hide-input": true,
    "execution": {
     "iopub.status.busy": "2023-02-25T23:21:23.944974Z",
     "iopub.status.idle": "2023-02-25T23:21:23.945602Z",
     "shell.execute_reply": "2023-02-25T23:21:23.945353Z",
     "shell.execute_reply.started": "2023-02-25T23:21:23.945328Z"
    },
    "id": "TmB38PL9qQ8Z",
    "papermill": {
     "duration": 0.052855,
     "end_time": "2023-02-25T23:43:53.434860",
     "exception": false,
     "start_time": "2023-02-25T23:43:53.382005",
     "status": "completed"
    },
    "tags": []
   },
   "source": [
    "\n",
    "cross_tab = pd.crosstab(index=df['Income_Category'],\n",
    "                        columns=df['Attrition_Flag'])\n",
    "\n",
    "cross_tab_prop = pd.crosstab(index=df['Income_Category'],\n",
    "                        columns=df['Attrition_Flag'],\n",
    "                             normalize=\"index\")\n",
    "cross_tab_prop\n",
    "\n"
   ]
  },
  {
   "cell_type": "markdown",
   "id": "4eba0b94",
   "metadata": {
    "_kg_hide-input": true,
    "execution": {
     "iopub.status.busy": "2023-02-25T23:21:23.947174Z",
     "iopub.status.idle": "2023-02-25T23:21:23.947761Z",
     "shell.execute_reply": "2023-02-25T23:21:23.947522Z",
     "shell.execute_reply.started": "2023-02-25T23:21:23.947501Z"
    },
    "id": "lsojBKk6pIVd",
    "papermill": {
     "duration": 0.052461,
     "end_time": "2023-02-25T23:43:53.540222",
     "exception": false,
     "start_time": "2023-02-25T23:43:53.487761",
     "status": "completed"
    },
    "tags": []
   },
   "source": [
    "ax = cross_tab_prop.plot(kind='bar', \n",
    "                    stacked=True, \n",
    "                    colormap='tab10', \n",
    "                    figsize=(10, 6))\n",
    "\n",
    "plt.legend(loc=\"upper left\", ncol=2)\n",
    "plt.xlabel(\"Income Category\")\n",
    "plt.ylabel(\"Proportion\")\n",
    "\n",
    "\n",
    "for c in ax.containers:\n",
    "\n",
    "    labels = [f'{np.round(v.get_height() * 100, 1)}%' if v.get_height() > 0 else '' for v in c]\n",
    "    \n",
    "    ax.bar_label(c, labels=labels, label_type='center')\n",
    "\n",
    "plt.show()\n"
   ]
  },
  {
   "cell_type": "markdown",
   "id": "24f3587a",
   "metadata": {
    "execution": {
     "iopub.status.busy": "2023-02-25T23:21:23.949047Z",
     "iopub.status.idle": "2023-02-25T23:21:23.949464Z",
     "shell.execute_reply": "2023-02-25T23:21:23.949285Z",
     "shell.execute_reply.started": "2023-02-25T23:21:23.949265Z"
    },
    "id": "ncQsRUMu8WPi",
    "papermill": {
     "duration": 0.054608,
     "end_time": "2023-02-25T23:43:53.647785",
     "exception": false,
     "start_time": "2023-02-25T23:43:53.593177",
     "status": "completed"
    },
    "tags": []
   },
   "source": [
    "### Check if the difference between the income groups is statistically significant\n",
    "\n",
    "\n",
    "chi2_stat, p, dof, expected = scipy.stats.chi2_contingency(cross_tab)\n",
    " \n",
    "print(f\"chi2 statistic:     {chi2_stat:.5g}\")\n",
    "print(f\"p-value:            {p:.5g}\")\n",
    "print(f\"degrees of freedom: {dof}\")\n",
    "print(\"expected frequencies:\\n\",expected)"
   ]
  },
  {
   "cell_type": "markdown",
   "id": "95739c97",
   "metadata": {
    "id": "QEQ9KGdfqbmY",
    "papermill": {
     "duration": 0.052972,
     "end_time": "2023-02-25T23:43:53.754158",
     "exception": false,
     "start_time": "2023-02-25T23:43:53.701186",
     "status": "completed"
    },
    "tags": []
   },
   "source": [
    "We have a p-value < 0.05 so we can say that the difference between the groups is significant.\n",
    "This column can be encoded to an ordinal numeric variable later."
   ]
  },
  {
   "cell_type": "markdown",
   "id": "8357fb9f",
   "metadata": {
    "id": "Zjjp2pfgq2Bg",
    "papermill": {
     "duration": 0.052235,
     "end_time": "2023-02-25T23:43:53.858988",
     "exception": false,
     "start_time": "2023-02-25T23:43:53.806753",
     "status": "completed"
    },
    "tags": []
   },
   "source": [
    "### Marital_Status"
   ]
  },
  {
   "cell_type": "markdown",
   "id": "3a82b28f",
   "metadata": {
    "_kg_hide-input": true,
    "execution": {
     "iopub.status.busy": "2023-02-25T23:21:23.950855Z",
     "iopub.status.idle": "2023-02-25T23:21:23.951332Z",
     "shell.execute_reply": "2023-02-25T23:21:23.951095Z",
     "shell.execute_reply.started": "2023-02-25T23:21:23.951076Z"
    },
    "id": "BDCE1Y2wxQXP",
    "papermill": {
     "duration": 0.053631,
     "end_time": "2023-02-25T23:43:53.965580",
     "exception": false,
     "start_time": "2023-02-25T23:43:53.911949",
     "status": "completed"
    },
    "tags": []
   },
   "source": [
    "plt.figure(figsize = (20,35))\n",
    "plt.subplot(6,2,1)\n",
    "plt.gca().set_title('Variable Education')\n",
    "sns.countplot(x = 'Marital_Status', palette = 'Set2', data = df)\n",
    "plt.show()"
   ]
  },
  {
   "cell_type": "markdown",
   "id": "107fbeb3",
   "metadata": {
    "_kg_hide-input": true,
    "execution": {
     "iopub.status.busy": "2023-02-25T23:21:23.952595Z",
     "iopub.status.idle": "2023-02-25T23:21:23.953035Z",
     "shell.execute_reply": "2023-02-25T23:21:23.952853Z",
     "shell.execute_reply.started": "2023-02-25T23:21:23.952833Z"
    },
    "id": "Wx23ElTGq1lC",
    "papermill": {
     "duration": 0.0524,
     "end_time": "2023-02-25T23:43:54.071755",
     "exception": false,
     "start_time": "2023-02-25T23:43:54.019355",
     "status": "completed"
    },
    "tags": []
   },
   "source": [
    "cross_tab = pd.crosstab(index=df['Marital_Status'],\n",
    "                        columns=df['Attrition_Flag'])\n",
    "\n",
    "cross_tab_prop = pd.crosstab(index=df['Marital_Status'],\n",
    "                        columns=df['Attrition_Flag'],\n",
    "                             normalize=\"index\")\n",
    "cross_tab_prop"
   ]
  },
  {
   "cell_type": "markdown",
   "id": "db68eb47",
   "metadata": {
    "_kg_hide-input": true,
    "execution": {
     "iopub.status.busy": "2023-02-25T23:21:23.954441Z",
     "iopub.status.idle": "2023-02-25T23:21:23.954921Z",
     "shell.execute_reply": "2023-02-25T23:21:23.954735Z",
     "shell.execute_reply.started": "2023-02-25T23:21:23.954707Z"
    },
    "id": "VNp7Vht_rDk1",
    "papermill": {
     "duration": 0.052449,
     "end_time": "2023-02-25T23:43:54.177072",
     "exception": false,
     "start_time": "2023-02-25T23:43:54.124623",
     "status": "completed"
    },
    "tags": []
   },
   "source": [
    "ax = cross_tab_prop.plot(kind='bar', \n",
    "                    stacked=True, \n",
    "                    colormap='tab10', \n",
    "                    figsize=(10, 6))\n",
    "\n",
    "plt.legend(loc=\"upper left\", ncol=2)\n",
    "plt.xlabel(\"Marital_Status\")\n",
    "plt.ylabel(\"Proportion\")\n",
    "\n",
    "\n",
    "for c in ax.containers:\n",
    "\n",
    "    labels = [f'{np.round(v.get_height() * 100, 1)}%' if v.get_height() > 0 else '' for v in c]\n",
    "    \n",
    "    ax.bar_label(c, labels=labels, label_type='center')\n",
    "\n",
    "plt.show()\n"
   ]
  },
  {
   "cell_type": "markdown",
   "id": "58f381f6",
   "metadata": {
    "execution": {
     "iopub.status.busy": "2023-02-25T23:21:23.956540Z",
     "iopub.status.idle": "2023-02-25T23:21:23.957797Z",
     "shell.execute_reply": "2023-02-25T23:21:23.957519Z",
     "shell.execute_reply.started": "2023-02-25T23:21:23.957480Z"
    },
    "id": "pskogZ0X94Er",
    "papermill": {
     "duration": 0.052621,
     "end_time": "2023-02-25T23:43:54.282819",
     "exception": false,
     "start_time": "2023-02-25T23:43:54.230198",
     "status": "completed"
    },
    "tags": []
   },
   "source": [
    "### Check if the difference between the marital status groups is statistically significant\n",
    "\n",
    "chi2_stat, p, dof, expected = scipy.stats.chi2_contingency(cross_tab)\n",
    " \n",
    "print(f\"chi2 statistic:     {chi2_stat:.5g}\")\n",
    "print(f\"p-value:            {p:.5g}\")\n",
    "print(f\"degrees of freedom: {dof}\")\n",
    "print(\"expected frequencies:\\n\",expected)"
   ]
  },
  {
   "cell_type": "markdown",
   "id": "7d382b37",
   "metadata": {
    "papermill": {
     "duration": 0.052833,
     "end_time": "2023-02-25T23:43:54.388363",
     "exception": false,
     "start_time": "2023-02-25T23:43:54.335530",
     "status": "completed"
    },
    "tags": []
   },
   "source": [
    "The difference is not significant"
   ]
  },
  {
   "cell_type": "markdown",
   "id": "f7f792b0",
   "metadata": {
    "id": "YdXxyxucrKHw",
    "papermill": {
     "duration": 0.052894,
     "end_time": "2023-02-25T23:43:54.495598",
     "exception": false,
     "start_time": "2023-02-25T23:43:54.442704",
     "status": "completed"
    },
    "tags": []
   },
   "source": [
    "### Card_Category"
   ]
  },
  {
   "cell_type": "markdown",
   "id": "ef04286b",
   "metadata": {
    "_kg_hide-input": true,
    "execution": {
     "iopub.status.busy": "2023-02-25T23:21:23.960034Z",
     "iopub.status.idle": "2023-02-25T23:21:23.960847Z",
     "shell.execute_reply": "2023-02-25T23:21:23.960634Z",
     "shell.execute_reply.started": "2023-02-25T23:21:23.960606Z"
    },
    "id": "EM_Mgx3hrufF",
    "papermill": {
     "duration": 0.054765,
     "end_time": "2023-02-25T23:43:54.603138",
     "exception": false,
     "start_time": "2023-02-25T23:43:54.548373",
     "status": "completed"
    },
    "tags": []
   },
   "source": [
    "plt.figure(figsize = (20,35))\n",
    "plt.subplot(6,2,1)\n",
    "plt.gca().set_title('Variable Education')\n",
    "sns.countplot(x = 'Card_Category', palette = 'Set2', data = df)\n",
    "plt.show()"
   ]
  },
  {
   "cell_type": "markdown",
   "id": "d36f2ab3",
   "metadata": {
    "_kg_hide-input": true,
    "execution": {
     "iopub.status.busy": "2023-02-25T23:21:23.962304Z",
     "iopub.status.idle": "2023-02-25T23:21:23.963183Z",
     "shell.execute_reply": "2023-02-25T23:21:23.962985Z",
     "shell.execute_reply.started": "2023-02-25T23:21:23.962963Z"
    },
    "id": "amP8Wa7srQex",
    "papermill": {
     "duration": 0.052954,
     "end_time": "2023-02-25T23:43:54.709600",
     "exception": false,
     "start_time": "2023-02-25T23:43:54.656646",
     "status": "completed"
    },
    "tags": []
   },
   "source": [
    "cross_tab = pd.crosstab(index=df['Card_Category'],\n",
    "                        columns=df['Attrition_Flag'])\n",
    "\n",
    "cross_tab_prop = pd.crosstab(index=df['Card_Category'],\n",
    "                        columns=df['Attrition_Flag'],\n",
    "                             normalize=\"index\")\n",
    "cross_tab_prop\n",
    "\n"
   ]
  },
  {
   "cell_type": "markdown",
   "id": "eaa57439",
   "metadata": {
    "_kg_hide-input": true,
    "execution": {
     "iopub.status.busy": "2023-02-25T23:21:23.964963Z",
     "iopub.status.idle": "2023-02-25T23:21:23.965632Z",
     "shell.execute_reply": "2023-02-25T23:21:23.965402Z",
     "shell.execute_reply.started": "2023-02-25T23:21:23.965380Z"
    },
    "id": "UPBKThQErWYN",
    "papermill": {
     "duration": 0.052208,
     "end_time": "2023-02-25T23:43:54.814913",
     "exception": false,
     "start_time": "2023-02-25T23:43:54.762705",
     "status": "completed"
    },
    "tags": []
   },
   "source": [
    "ax = cross_tab_prop.plot(kind='bar', \n",
    "                    stacked=True, \n",
    "                    colormap='tab10', \n",
    "                    figsize=(10, 6))\n",
    "\n",
    "plt.legend(loc=\"upper left\", ncol=2)\n",
    "plt.xlabel(\"Card_Category\")\n",
    "plt.ylabel(\"Proportion\")\n",
    "\n",
    "\n",
    "for c in ax.containers:\n",
    "\n",
    "    labels = [f'{np.round(v.get_height() * 100, 1)}%' if v.get_height() > 0 else '' for v in c]\n",
    "    \n",
    "    ax.bar_label(c, labels=labels, label_type='center')\n",
    "\n",
    "plt.show()\n"
   ]
  },
  {
   "cell_type": "markdown",
   "id": "addc1561",
   "metadata": {
    "execution": {
     "iopub.status.busy": "2023-02-25T23:21:23.967652Z",
     "iopub.status.idle": "2023-02-25T23:21:23.968875Z",
     "shell.execute_reply": "2023-02-25T23:21:23.968547Z",
     "shell.execute_reply.started": "2023-02-25T23:21:23.968502Z"
    },
    "id": "jp_MVdED-hQA",
    "papermill": {
     "duration": 0.052942,
     "end_time": "2023-02-25T23:43:54.920706",
     "exception": false,
     "start_time": "2023-02-25T23:43:54.867764",
     "status": "completed"
    },
    "tags": []
   },
   "source": [
    "### Check if the difference between the card_category groups is statistically significant\n",
    "\n",
    "chi2_stat, p, dof, expected = scipy.stats.chi2_contingency(cross_tab)\n",
    " \n",
    "print(f\"chi2 statistic:     {chi2_stat:.5g}\")\n",
    "print(f\"p-value:            {p:.5g}\")\n",
    "print(f\"degrees of freedom: {dof}\")\n",
    "print(\"expected frequencies:\\n\",expected)"
   ]
  },
  {
   "cell_type": "markdown",
   "id": "997c8a33",
   "metadata": {
    "id": "ckogq4Owrv72",
    "papermill": {
     "duration": 0.05288,
     "end_time": "2023-02-25T23:43:55.026776",
     "exception": false,
     "start_time": "2023-02-25T23:43:54.973896",
     "status": "completed"
    },
    "tags": []
   },
   "source": [
    "We can see that the differences in this group are not statistically significant because of the low number of observations in some of the categories"
   ]
  },
  {
   "cell_type": "markdown",
   "id": "8600c236",
   "metadata": {
    "id": "rcp1HV5JxZhX",
    "papermill": {
     "duration": 0.053091,
     "end_time": "2023-02-25T23:43:55.133120",
     "exception": false,
     "start_time": "2023-02-25T23:43:55.080029",
     "status": "completed"
    },
    "tags": []
   },
   "source": [
    "### Education level"
   ]
  },
  {
   "cell_type": "markdown",
   "id": "5f31f739",
   "metadata": {
    "_kg_hide-input": true,
    "execution": {
     "iopub.status.busy": "2023-02-25T23:21:23.970866Z",
     "iopub.status.idle": "2023-02-25T23:21:23.971446Z",
     "shell.execute_reply": "2023-02-25T23:21:23.971176Z",
     "shell.execute_reply.started": "2023-02-25T23:21:23.971147Z"
    },
    "id": "-rVKIuMpxfYk",
    "papermill": {
     "duration": 0.052202,
     "end_time": "2023-02-25T23:43:55.238344",
     "exception": false,
     "start_time": "2023-02-25T23:43:55.186142",
     "status": "completed"
    },
    "tags": []
   },
   "source": [
    "plt.figure(figsize = (20,35))\n",
    "plt.subplot(6,2,1)\n",
    "plt.gca().set_title('Variable Education')\n",
    "sns.countplot(x = 'Education_Level', palette = 'Set2', data = df)\n",
    "plt.show()"
   ]
  },
  {
   "cell_type": "markdown",
   "id": "6e2a180f",
   "metadata": {
    "_kg_hide-input": true,
    "execution": {
     "iopub.status.busy": "2023-02-25T23:21:23.973155Z",
     "iopub.status.idle": "2023-02-25T23:21:23.974090Z",
     "shell.execute_reply": "2023-02-25T23:21:23.973807Z",
     "shell.execute_reply.started": "2023-02-25T23:21:23.973778Z"
    },
    "id": "AH3nsDodxks_",
    "papermill": {
     "duration": 0.05398,
     "end_time": "2023-02-25T23:43:55.345289",
     "exception": false,
     "start_time": "2023-02-25T23:43:55.291309",
     "status": "completed"
    },
    "tags": []
   },
   "source": [
    "cross_tab = pd.crosstab(index=df['Education_Level'],\n",
    "                        columns=df['Attrition_Flag'])\n",
    "\n",
    "cross_tab_prop = pd.crosstab(index=df['Education_Level'],\n",
    "                        columns=df['Attrition_Flag'],\n",
    "                             normalize=\"index\")\n",
    "cross_tab_prop\n",
    "\n"
   ]
  },
  {
   "cell_type": "markdown",
   "id": "a5450df0",
   "metadata": {
    "_kg_hide-input": true,
    "execution": {
     "iopub.status.busy": "2023-02-25T23:21:23.975765Z",
     "iopub.status.idle": "2023-02-25T23:21:23.976383Z",
     "shell.execute_reply": "2023-02-25T23:21:23.976117Z",
     "shell.execute_reply.started": "2023-02-25T23:21:23.976089Z"
    },
    "id": "lvPExfJ0xoFW",
    "papermill": {
     "duration": 0.054244,
     "end_time": "2023-02-25T23:43:55.453245",
     "exception": false,
     "start_time": "2023-02-25T23:43:55.399001",
     "status": "completed"
    },
    "tags": []
   },
   "source": [
    "ax = cross_tab_prop.plot(kind='bar', \n",
    "                    stacked=True, \n",
    "                    colormap='tab10', \n",
    "                    figsize=(10, 6))\n",
    "\n",
    "plt.legend(loc=\"upper left\", ncol=2)\n",
    "plt.xlabel(\"Education_Level\")\n",
    "plt.ylabel(\"Proportion\")\n",
    "\n",
    "\n",
    "for c in ax.containers:\n",
    "\n",
    "    labels = [f'{np.round(v.get_height() * 100, 1)}%' if v.get_height() > 0 else '' for v in c]\n",
    "    \n",
    "    ax.bar_label(c, labels=labels, label_type='center')\n",
    "\n",
    "plt.show()\n"
   ]
  },
  {
   "cell_type": "markdown",
   "id": "e58f6591",
   "metadata": {
    "execution": {
     "iopub.status.busy": "2023-02-25T23:21:23.978455Z",
     "iopub.status.idle": "2023-02-25T23:21:23.979083Z",
     "shell.execute_reply": "2023-02-25T23:21:23.978791Z",
     "shell.execute_reply.started": "2023-02-25T23:21:23.978762Z"
    },
    "id": "ZlHACLwa-9v0",
    "papermill": {
     "duration": 0.052102,
     "end_time": "2023-02-25T23:43:55.558348",
     "exception": false,
     "start_time": "2023-02-25T23:43:55.506246",
     "status": "completed"
    },
    "tags": []
   },
   "source": [
    "### Check if the difference between the education_level groups is statistically significant\n",
    "\n",
    "chi2_stat, p, dof, expected = scipy.stats.chi2_contingency(cross_tab)\n",
    " \n",
    "print(f\"chi2 statistic:     {chi2_stat:.5g}\")\n",
    "print(f\"p-value:            {p:.5g}\")\n",
    "print(f\"degrees of freedom: {dof}\")\n",
    "print(\"expected frequencies:\\n\",expected)"
   ]
  },
  {
   "cell_type": "markdown",
   "id": "622d5e1d",
   "metadata": {
    "papermill": {
     "duration": 0.072812,
     "end_time": "2023-02-25T23:43:55.691993",
     "exception": false,
     "start_time": "2023-02-25T23:43:55.619181",
     "status": "completed"
    },
    "tags": []
   },
   "source": [
    "The difference is not significant"
   ]
  },
  {
   "cell_type": "markdown",
   "id": "c11d2f6d",
   "metadata": {
    "id": "izGMarXcr6NS",
    "papermill": {
     "duration": 0.052521,
     "end_time": "2023-02-25T23:43:55.798121",
     "exception": false,
     "start_time": "2023-02-25T23:43:55.745600",
     "status": "completed"
    },
    "tags": []
   },
   "source": [
    "## Numeric variables"
   ]
  },
  {
   "cell_type": "markdown",
   "id": "0d615d59",
   "metadata": {
    "_kg_hide-input": true,
    "execution": {
     "iopub.status.busy": "2023-02-25T23:21:23.980828Z",
     "iopub.status.idle": "2023-02-25T23:21:23.981389Z",
     "shell.execute_reply": "2023-02-25T23:21:23.981129Z",
     "shell.execute_reply.started": "2023-02-25T23:21:23.981103Z"
    },
    "id": "EWS4Jq18gXla",
    "outputId": "9097a99d-8dec-452c-ef37-745326c999dc",
    "papermill": {
     "duration": 0.052333,
     "end_time": "2023-02-25T23:43:55.903514",
     "exception": false,
     "start_time": "2023-02-25T23:43:55.851181",
     "status": "completed"
    },
    "tags": []
   },
   "source": [
    "fig = plt.figure(figsize = (20,20))\n",
    "ax = fig.gca()\n",
    "plt.tight_layout()\n",
    "df.loc[:, ~df.columns.isin(['CLIENTNUM', \"Attrition_Flag_Int\"])].hist(ax = ax)\n",
    "fig.show()"
   ]
  },
  {
   "cell_type": "markdown",
   "id": "fa3da3be",
   "metadata": {
    "execution": {
     "iopub.status.busy": "2023-02-25T23:21:23.983134Z",
     "iopub.status.idle": "2023-02-25T23:21:23.983714Z",
     "shell.execute_reply": "2023-02-25T23:21:23.983427Z",
     "shell.execute_reply.started": "2023-02-25T23:21:23.983401Z"
    },
    "id": "JnuGZ7l43TY-",
    "outputId": "1aace64b-56e2-49d6-db3a-4e4487b43c52",
    "papermill": {
     "duration": 0.052287,
     "end_time": "2023-02-25T23:43:56.008317",
     "exception": false,
     "start_time": "2023-02-25T23:43:55.956030",
     "status": "completed"
    },
    "tags": []
   },
   "source": [
    "df.loc[:, ~df.columns.isin(['CLIENTNUM'])].describe()"
   ]
  },
  {
   "cell_type": "markdown",
   "id": "1576ec08",
   "metadata": {
    "id": "nWwI0xmQsIk_",
    "papermill": {
     "duration": 0.052618,
     "end_time": "2023-02-25T23:43:56.114926",
     "exception": false,
     "start_time": "2023-02-25T23:43:56.062308",
     "status": "completed"
    },
    "tags": []
   },
   "source": [
    "### Correlation Matrix"
   ]
  },
  {
   "cell_type": "markdown",
   "id": "9f25e223",
   "metadata": {
    "_kg_hide-input": true,
    "execution": {
     "iopub.status.busy": "2023-02-25T23:21:23.985665Z",
     "iopub.status.idle": "2023-02-25T23:21:23.986707Z",
     "shell.execute_reply": "2023-02-25T23:21:23.986475Z",
     "shell.execute_reply.started": "2023-02-25T23:21:23.986444Z"
    },
    "id": "DbhVeMNBA9yW",
    "outputId": "a7f10ff8-c337-4171-ab0c-6097d98b4ae5",
    "papermill": {
     "duration": 0.053889,
     "end_time": "2023-02-25T23:43:56.229828",
     "exception": false,
     "start_time": "2023-02-25T23:43:56.175939",
     "status": "completed"
    },
    "tags": []
   },
   "source": [
    "#fig, ax = plt.subplots()\n",
    "correlation = df.loc[:, df.columns.isin(cont_features)].corr().round(1)\n",
    "#plt.figure(figsize = (14,7))\n",
    "sns.heatmap(correlation, annot = True, cmap = 'RdBu', vmin=-1, vmax=1)\n",
    "#plt.show()\n"
   ]
  },
  {
   "cell_type": "markdown",
   "id": "d35f6e37",
   "metadata": {
    "id": "Q65NYdUSsg6j",
    "papermill": {
     "duration": 0.052838,
     "end_time": "2023-02-25T23:43:56.335818",
     "exception": false,
     "start_time": "2023-02-25T23:43:56.282980",
     "status": "completed"
    },
    "tags": []
   },
   "source": [
    "- We can see that Revolving_balance and avg_utilization_ratio are positively correlated.\n",
    "- The avg_utilization_ratio is also negatively correlated to the credit_limit and the avg_open_to_buy\n",
    "- Total_Trans_Amt and Total_Trans_Ct are also positively correlated."
   ]
  },
  {
   "cell_type": "markdown",
   "id": "06f063d1",
   "metadata": {
    "id": "lnKvDalTsL9d",
    "papermill": {
     "duration": 0.053068,
     "end_time": "2023-02-25T23:43:56.443123",
     "exception": false,
     "start_time": "2023-02-25T23:43:56.390055",
     "status": "completed"
    },
    "tags": []
   },
   "source": [
    "### Attrition by Age Box plot"
   ]
  },
  {
   "cell_type": "markdown",
   "id": "eb15d671",
   "metadata": {
    "_kg_hide-input": true,
    "execution": {
     "iopub.status.busy": "2023-02-25T23:21:23.989876Z",
     "iopub.status.idle": "2023-02-25T23:21:23.990283Z",
     "shell.execute_reply": "2023-02-25T23:21:23.990103Z",
     "shell.execute_reply.started": "2023-02-25T23:21:23.990085Z"
    },
    "id": "_FPPVj72sLq4",
    "outputId": "efd7e0d1-5299-4de2-85a3-5d451b6b6e58",
    "papermill": {
     "duration": 0.053333,
     "end_time": "2023-02-25T23:43:56.549932",
     "exception": false,
     "start_time": "2023-02-25T23:43:56.496599",
     "status": "completed"
    },
    "tags": []
   },
   "source": [
    "sns.boxplot(x='Attrition_Flag', y='Customer_Age', data=df)"
   ]
  },
  {
   "cell_type": "markdown",
   "id": "458396b2",
   "metadata": {
    "id": "phoxfUmgsbui",
    "papermill": {
     "duration": 0.05354,
     "end_time": "2023-02-25T23:43:56.657158",
     "exception": false,
     "start_time": "2023-02-25T23:43:56.603618",
     "status": "completed"
    },
    "tags": []
   },
   "source": [
    "We don't see a difference between the two groups"
   ]
  },
  {
   "cell_type": "markdown",
   "id": "5ba1be9e",
   "metadata": {
    "id": "1qpm_BsUsuGw",
    "papermill": {
     "duration": 0.052812,
     "end_time": "2023-02-25T23:43:56.817538",
     "exception": false,
     "start_time": "2023-02-25T23:43:56.764726",
     "status": "completed"
    },
    "tags": []
   },
   "source": [
    "### Attrition by dependent count Box plot"
   ]
  },
  {
   "cell_type": "markdown",
   "id": "52397351",
   "metadata": {
    "_kg_hide-input": true,
    "execution": {
     "iopub.status.busy": "2023-02-25T23:21:23.991138Z",
     "iopub.status.idle": "2023-02-25T23:21:23.991553Z",
     "shell.execute_reply": "2023-02-25T23:21:23.991370Z",
     "shell.execute_reply.started": "2023-02-25T23:21:23.991349Z"
    },
    "id": "nVFXVMayszZ1",
    "outputId": "8d4361bd-8a24-4b2b-d060-6a5704a4a787",
    "papermill": {
     "duration": 0.052924,
     "end_time": "2023-02-25T23:43:56.924224",
     "exception": false,
     "start_time": "2023-02-25T23:43:56.871300",
     "status": "completed"
    },
    "tags": []
   },
   "source": [
    "sns.boxplot(x='Attrition_Flag', y='Dependent_count', data=df)"
   ]
  },
  {
   "cell_type": "markdown",
   "id": "fa64fd89",
   "metadata": {
    "id": "rH-UF-983jCt",
    "papermill": {
     "duration": 0.053172,
     "end_time": "2023-02-25T23:43:57.032162",
     "exception": false,
     "start_time": "2023-02-25T23:43:56.978990",
     "status": "completed"
    },
    "tags": []
   },
   "source": [
    "Dependent_count can be used in the model as a predictor"
   ]
  },
  {
   "cell_type": "markdown",
   "id": "55a4c1e9",
   "metadata": {
    "id": "s78A0Ovvs4kB",
    "papermill": {
     "duration": 0.053444,
     "end_time": "2023-02-25T23:43:57.139125",
     "exception": false,
     "start_time": "2023-02-25T23:43:57.085681",
     "status": "completed"
    },
    "tags": []
   },
   "source": [
    "### Attrition by months on book"
   ]
  },
  {
   "cell_type": "markdown",
   "id": "f013a825",
   "metadata": {
    "_kg_hide-input": true,
    "execution": {
     "iopub.status.busy": "2023-02-25T23:21:23.994394Z",
     "iopub.status.idle": "2023-02-25T23:21:23.994851Z",
     "shell.execute_reply": "2023-02-25T23:21:23.994661Z",
     "shell.execute_reply.started": "2023-02-25T23:21:23.994639Z"
    },
    "id": "_0zQKlLGs5HK",
    "outputId": "9bcb7a4c-4450-4769-b58d-bf248add37e0",
    "papermill": {
     "duration": 0.052791,
     "end_time": "2023-02-25T23:43:57.245679",
     "exception": false,
     "start_time": "2023-02-25T23:43:57.192888",
     "status": "completed"
    },
    "tags": []
   },
   "source": [
    "sns.boxplot(x='Attrition_Flag', y='Months_on_book', data=df)"
   ]
  },
  {
   "cell_type": "markdown",
   "id": "a032e967",
   "metadata": {
    "id": "pmF7ZjUftFu2",
    "papermill": {
     "duration": 0.053017,
     "end_time": "2023-02-25T23:43:57.352436",
     "exception": false,
     "start_time": "2023-02-25T23:43:57.299419",
     "status": "completed"
    },
    "tags": []
   },
   "source": [
    "We don't see a difference between the two groups"
   ]
  },
  {
   "cell_type": "markdown",
   "id": "575168b2",
   "metadata": {
    "id": "cseEn3xMtDJm",
    "papermill": {
     "duration": 0.05428,
     "end_time": "2023-02-25T23:43:57.460942",
     "exception": false,
     "start_time": "2023-02-25T23:43:57.406662",
     "status": "completed"
    },
    "tags": []
   },
   "source": [
    "### Attrition by Total_Relationship_Count Box Plot"
   ]
  },
  {
   "cell_type": "markdown",
   "id": "ee4f2128",
   "metadata": {
    "_kg_hide-input": true,
    "execution": {
     "iopub.status.busy": "2023-02-25T23:21:23.996280Z",
     "iopub.status.idle": "2023-02-25T23:21:23.996769Z",
     "shell.execute_reply": "2023-02-25T23:21:23.996549Z",
     "shell.execute_reply.started": "2023-02-25T23:21:23.996528Z"
    },
    "id": "-Y3AyAvmtCEW",
    "outputId": "271915d4-72dd-48fe-e7ef-221a379a7bd6",
    "papermill": {
     "duration": 0.053468,
     "end_time": "2023-02-25T23:43:57.568048",
     "exception": false,
     "start_time": "2023-02-25T23:43:57.514580",
     "status": "completed"
    },
    "tags": []
   },
   "source": [
    "sns.boxplot(x='Attrition_Flag', y='Total_Relationship_Count', data=df)"
   ]
  },
  {
   "cell_type": "markdown",
   "id": "0492c1f2",
   "metadata": {
    "id": "_83612cytxES",
    "papermill": {
     "duration": 0.052839,
     "end_time": "2023-02-25T23:43:57.673990",
     "exception": false,
     "start_time": "2023-02-25T23:43:57.621151",
     "status": "completed"
    },
    "tags": []
   },
   "source": [
    "We see a difference and we can use this variable as a predictor"
   ]
  },
  {
   "cell_type": "markdown",
   "id": "501a1946",
   "metadata": {
    "id": "1vFNCM9Rt3k3",
    "papermill": {
     "duration": 0.053618,
     "end_time": "2023-02-25T23:43:57.780948",
     "exception": false,
     "start_time": "2023-02-25T23:43:57.727330",
     "status": "completed"
    },
    "tags": []
   },
   "source": [
    "### Attrition by Months_Inactive_12_mon Boxplot"
   ]
  },
  {
   "cell_type": "markdown",
   "id": "4f05cf4b",
   "metadata": {
    "_kg_hide-input": true,
    "execution": {
     "iopub.status.busy": "2023-02-25T23:21:23.998965Z",
     "iopub.status.idle": "2023-02-25T23:21:23.999819Z",
     "shell.execute_reply": "2023-02-25T23:21:23.999624Z",
     "shell.execute_reply.started": "2023-02-25T23:21:23.999596Z"
    },
    "id": "xBExuMdjt3O6",
    "outputId": "00778526-fd83-48d9-e71f-d5973912b4ac",
    "papermill": {
     "duration": 0.053125,
     "end_time": "2023-02-25T23:43:57.887184",
     "exception": false,
     "start_time": "2023-02-25T23:43:57.834059",
     "status": "completed"
    },
    "tags": []
   },
   "source": [
    "sns.boxplot(x='Attrition_Flag', y='Months_Inactive_12_mon', data=df)"
   ]
  },
  {
   "cell_type": "markdown",
   "id": "f7ebe3dc",
   "metadata": {
    "id": "Azrd2a_qt7-T",
    "papermill": {
     "duration": 0.052625,
     "end_time": "2023-02-25T23:43:57.992767",
     "exception": false,
     "start_time": "2023-02-25T23:43:57.940142",
     "status": "completed"
    },
    "tags": []
   },
   "source": [
    "We see a difference and we can use this variable as a predictor"
   ]
  },
  {
   "cell_type": "markdown",
   "id": "05e2e96d",
   "metadata": {
    "id": "aSlHKz_9uBPX",
    "papermill": {
     "duration": 0.052565,
     "end_time": "2023-02-25T23:43:58.098307",
     "exception": false,
     "start_time": "2023-02-25T23:43:58.045742",
     "status": "completed"
    },
    "tags": []
   },
   "source": [
    "### Attrition by Contacts_Count_12_mon Boxplot"
   ]
  },
  {
   "cell_type": "markdown",
   "id": "6ab85ab4",
   "metadata": {
    "_kg_hide-input": true,
    "execution": {
     "iopub.status.busy": "2023-02-25T23:21:24.001654Z",
     "iopub.status.idle": "2023-02-25T23:21:24.002754Z",
     "shell.execute_reply": "2023-02-25T23:21:24.002480Z",
     "shell.execute_reply.started": "2023-02-25T23:21:24.002441Z"
    },
    "id": "UbBQyETWt_jf",
    "outputId": "fe42a898-c71c-4cd8-b441-92ca88d85f76",
    "papermill": {
     "duration": 0.052718,
     "end_time": "2023-02-25T23:43:58.204665",
     "exception": false,
     "start_time": "2023-02-25T23:43:58.151947",
     "status": "completed"
    },
    "tags": []
   },
   "source": [
    "sns.boxplot(x='Attrition_Flag', y='Contacts_Count_12_mon', data=df)"
   ]
  },
  {
   "cell_type": "markdown",
   "id": "2296f9e7",
   "metadata": {
    "id": "hKA_VdBduGpa",
    "papermill": {
     "duration": 0.052821,
     "end_time": "2023-02-25T23:43:58.311089",
     "exception": false,
     "start_time": "2023-02-25T23:43:58.258268",
     "status": "completed"
    },
    "tags": []
   },
   "source": [
    "We see a difference and we can use this variable as a predictor"
   ]
  },
  {
   "cell_type": "markdown",
   "id": "1de24582",
   "metadata": {
    "id": "bdOAAQhIuLG6",
    "papermill": {
     "duration": 0.053222,
     "end_time": "2023-02-25T23:43:58.418558",
     "exception": false,
     "start_time": "2023-02-25T23:43:58.365336",
     "status": "completed"
    },
    "tags": []
   },
   "source": [
    "### Attrition by Credit_Limit Boxplot"
   ]
  },
  {
   "cell_type": "markdown",
   "id": "39abc58f",
   "metadata": {
    "_kg_hide-input": true,
    "execution": {
     "iopub.status.busy": "2023-02-25T23:21:24.004922Z",
     "iopub.status.idle": "2023-02-25T23:21:24.005349Z",
     "shell.execute_reply": "2023-02-25T23:21:24.005145Z",
     "shell.execute_reply.started": "2023-02-25T23:21:24.005127Z"
    },
    "id": "un5Zrir7uLe7",
    "outputId": "18ad74ac-0ed0-4b8e-ab35-61dc93326adc",
    "papermill": {
     "duration": 0.054428,
     "end_time": "2023-02-25T23:43:58.525897",
     "exception": false,
     "start_time": "2023-02-25T23:43:58.471469",
     "status": "completed"
    },
    "tags": []
   },
   "source": [
    "sns.boxplot(x='Attrition_Flag', y='Credit_Limit', data=df)"
   ]
  },
  {
   "cell_type": "markdown",
   "id": "8b6633ef",
   "metadata": {
    "id": "RTt4NR-VuWyY",
    "papermill": {
     "duration": 0.052871,
     "end_time": "2023-02-25T23:43:58.631669",
     "exception": false,
     "start_time": "2023-02-25T23:43:58.578798",
     "status": "completed"
    },
    "tags": []
   },
   "source": [
    "We see a small difference, it may be used as a predictor. Since it is correlated with the avg_utilization_ratio we should choose one of the two"
   ]
  },
  {
   "cell_type": "markdown",
   "id": "3d05cba3",
   "metadata": {
    "id": "_wXwwZEquT-H",
    "papermill": {
     "duration": 0.052818,
     "end_time": "2023-02-25T23:43:58.737828",
     "exception": false,
     "start_time": "2023-02-25T23:43:58.685010",
     "status": "completed"
    },
    "tags": []
   },
   "source": [
    "### Attrition by Total_Revolving_Bal Boxplot"
   ]
  },
  {
   "cell_type": "markdown",
   "id": "dab688b7",
   "metadata": {
    "_kg_hide-input": true,
    "execution": {
     "iopub.status.busy": "2023-02-25T23:21:24.006777Z",
     "iopub.status.idle": "2023-02-25T23:21:24.007214Z",
     "shell.execute_reply": "2023-02-25T23:21:24.007033Z",
     "shell.execute_reply.started": "2023-02-25T23:21:24.007007Z"
    },
    "id": "a2LwEQMzuTR4",
    "outputId": "6f8c89ba-a12b-4cdb-ce58-ca6e9117276c",
    "papermill": {
     "duration": 0.052835,
     "end_time": "2023-02-25T23:43:58.845331",
     "exception": false,
     "start_time": "2023-02-25T23:43:58.792496",
     "status": "completed"
    },
    "tags": []
   },
   "source": [
    "sns.boxplot(x='Attrition_Flag', y='Total_Revolving_Bal', data=df)"
   ]
  },
  {
   "cell_type": "markdown",
   "id": "15ac560d",
   "metadata": {
    "id": "pkrNITr_uekb",
    "papermill": {
     "duration": 0.053003,
     "end_time": "2023-02-25T23:43:58.951558",
     "exception": false,
     "start_time": "2023-02-25T23:43:58.898555",
     "status": "completed"
    },
    "tags": []
   },
   "source": [
    "We see a difference and we can use this variable as a predictor"
   ]
  },
  {
   "cell_type": "markdown",
   "id": "544c9ae7",
   "metadata": {
    "id": "LHE3QtrKunSs",
    "papermill": {
     "duration": 0.052904,
     "end_time": "2023-02-25T23:43:59.057439",
     "exception": false,
     "start_time": "2023-02-25T23:43:59.004535",
     "status": "completed"
    },
    "tags": []
   },
   "source": [
    "### Attrition by Avg_Open_To_Buy Boxplot"
   ]
  },
  {
   "cell_type": "markdown",
   "id": "50e46eb1",
   "metadata": {
    "_kg_hide-input": true,
    "execution": {
     "iopub.status.busy": "2023-02-25T23:21:24.008645Z",
     "iopub.status.idle": "2023-02-25T23:21:24.009087Z",
     "shell.execute_reply": "2023-02-25T23:21:24.008879Z",
     "shell.execute_reply.started": "2023-02-25T23:21:24.008861Z"
    },
    "id": "E8duL0I7uljc",
    "outputId": "5654e141-98aa-4a6a-e5a0-e40ad6e98485",
    "papermill": {
     "duration": 0.053168,
     "end_time": "2023-02-25T23:43:59.163630",
     "exception": false,
     "start_time": "2023-02-25T23:43:59.110462",
     "status": "completed"
    },
    "tags": []
   },
   "source": [
    "sns.boxplot(x='Attrition_Flag', y='Avg_Open_To_Buy', data=df)"
   ]
  },
  {
   "cell_type": "markdown",
   "id": "cf1abf2a",
   "metadata": {
    "id": "Xjle5_t7ux4j",
    "papermill": {
     "duration": 0.053034,
     "end_time": "2023-02-25T23:43:59.269861",
     "exception": false,
     "start_time": "2023-02-25T23:43:59.216827",
     "status": "completed"
    },
    "tags": []
   },
   "source": [
    "We don't see a difference between the two groups"
   ]
  },
  {
   "cell_type": "markdown",
   "id": "891a4238",
   "metadata": {
    "id": "o8_lBhrFvGJl",
    "papermill": {
     "duration": 0.053538,
     "end_time": "2023-02-25T23:43:59.376640",
     "exception": false,
     "start_time": "2023-02-25T23:43:59.323102",
     "status": "completed"
    },
    "tags": []
   },
   "source": [
    "### Attrtion by Total_Amt_Chng_Q4_Q1 Boxplot"
   ]
  },
  {
   "cell_type": "markdown",
   "id": "9f339e36",
   "metadata": {
    "_kg_hide-input": true,
    "execution": {
     "iopub.status.busy": "2023-02-25T23:21:24.010374Z",
     "iopub.status.idle": "2023-02-25T23:21:24.010878Z",
     "shell.execute_reply": "2023-02-25T23:21:24.010687Z",
     "shell.execute_reply.started": "2023-02-25T23:21:24.010666Z"
    },
    "id": "XN59r1rMvFS5",
    "outputId": "92801b28-25ff-4105-c2b0-a1fd3a1da0df",
    "papermill": {
     "duration": 0.052875,
     "end_time": "2023-02-25T23:43:59.483624",
     "exception": false,
     "start_time": "2023-02-25T23:43:59.430749",
     "status": "completed"
    },
    "tags": []
   },
   "source": [
    "sns.boxplot(x='Attrition_Flag', y='Total_Amt_Chng_Q4_Q1', data=df)"
   ]
  },
  {
   "cell_type": "markdown",
   "id": "5677a50b",
   "metadata": {
    "id": "RB5dpzdXvLT2",
    "papermill": {
     "duration": 0.053052,
     "end_time": "2023-02-25T23:43:59.589604",
     "exception": false,
     "start_time": "2023-02-25T23:43:59.536552",
     "status": "completed"
    },
    "tags": []
   },
   "source": [
    "We preffer not to add it to the model for explainability"
   ]
  },
  {
   "cell_type": "markdown",
   "id": "8ff86db5",
   "metadata": {
    "id": "lSTWSiJ0vVAz",
    "papermill": {
     "duration": 0.052932,
     "end_time": "2023-02-25T23:43:59.695349",
     "exception": false,
     "start_time": "2023-02-25T23:43:59.642417",
     "status": "completed"
    },
    "tags": []
   },
   "source": [
    "### Attrtion by Total_Trans_Amt Boxplot"
   ]
  },
  {
   "cell_type": "markdown",
   "id": "2a6270f2",
   "metadata": {
    "_kg_hide-input": true,
    "execution": {
     "iopub.status.busy": "2023-02-25T23:21:24.011963Z",
     "iopub.status.idle": "2023-02-25T23:21:24.012381Z",
     "shell.execute_reply": "2023-02-25T23:21:24.012196Z",
     "shell.execute_reply.started": "2023-02-25T23:21:24.012177Z"
    },
    "id": "-OyLNiRLvLqI",
    "outputId": "af1137b2-c333-4cdc-d355-4c7791a989b1",
    "papermill": {
     "duration": 0.053688,
     "end_time": "2023-02-25T23:43:59.802046",
     "exception": false,
     "start_time": "2023-02-25T23:43:59.748358",
     "status": "completed"
    },
    "tags": []
   },
   "source": [
    "sns.boxplot(x='Attrition_Flag', y='Total_Trans_Amt', data=df)"
   ]
  },
  {
   "cell_type": "markdown",
   "id": "94c79160",
   "metadata": {
    "id": "XU-u-SmKvWoh",
    "papermill": {
     "duration": 0.053025,
     "end_time": "2023-02-25T23:43:59.908439",
     "exception": false,
     "start_time": "2023-02-25T23:43:59.855414",
     "status": "completed"
    },
    "tags": []
   },
   "source": [
    "We see a difference and we may use this variable as a predictor"
   ]
  },
  {
   "cell_type": "markdown",
   "id": "9222f310",
   "metadata": {
    "id": "Ut8CkQUovehR",
    "papermill": {
     "duration": 0.053107,
     "end_time": "2023-02-25T23:44:00.014848",
     "exception": false,
     "start_time": "2023-02-25T23:43:59.961741",
     "status": "completed"
    },
    "tags": []
   },
   "source": [
    "### Attrition by Total_Trans_Ct Boxplot"
   ]
  },
  {
   "cell_type": "markdown",
   "id": "583a70eb",
   "metadata": {
    "_kg_hide-input": true,
    "execution": {
     "iopub.status.busy": "2023-02-25T23:21:24.014165Z",
     "iopub.status.idle": "2023-02-25T23:21:24.014732Z",
     "shell.execute_reply": "2023-02-25T23:21:24.014446Z",
     "shell.execute_reply.started": "2023-02-25T23:21:24.014423Z"
    },
    "id": "YzdBWrmIvfhE",
    "outputId": "3db34881-1bf0-4efa-a7c6-9e5e13433e6b",
    "papermill": {
     "duration": 0.052896,
     "end_time": "2023-02-25T23:44:00.121067",
     "exception": false,
     "start_time": "2023-02-25T23:44:00.068171",
     "status": "completed"
    },
    "tags": []
   },
   "source": [
    "sns.boxplot(x='Attrition_Flag', y='Total_Trans_Ct', data=df)"
   ]
  },
  {
   "cell_type": "markdown",
   "id": "16a1168c",
   "metadata": {
    "id": "SWE27uZDvmvX",
    "papermill": {
     "duration": 0.054522,
     "end_time": "2023-02-25T23:44:00.228731",
     "exception": false,
     "start_time": "2023-02-25T23:44:00.174209",
     "status": "completed"
    },
    "tags": []
   },
   "source": [
    "We observe a significant difference between the groups, since amount and quantity of transactions are correlated, we choose this variable as predictor and discard the amount"
   ]
  },
  {
   "cell_type": "markdown",
   "id": "1222f221",
   "metadata": {
    "id": "S1YUOgKUv2jb",
    "papermill": {
     "duration": 0.054218,
     "end_time": "2023-02-25T23:44:00.336955",
     "exception": false,
     "start_time": "2023-02-25T23:44:00.282737",
     "status": "completed"
    },
    "tags": []
   },
   "source": [
    "### Attrition by Total_Ct_Chng_Q4_Q1 Boxplot"
   ]
  },
  {
   "cell_type": "markdown",
   "id": "008d9d5b",
   "metadata": {
    "_kg_hide-input": true,
    "execution": {
     "iopub.status.busy": "2023-02-25T23:21:24.016059Z",
     "iopub.status.idle": "2023-02-25T23:21:24.016666Z",
     "shell.execute_reply": "2023-02-25T23:21:24.016374Z",
     "shell.execute_reply.started": "2023-02-25T23:21:24.016345Z"
    },
    "id": "GMqKEr-Vv23_",
    "outputId": "2955487d-6b1c-4235-d192-ccbf3435239a",
    "papermill": {
     "duration": 0.053109,
     "end_time": "2023-02-25T23:44:00.446001",
     "exception": false,
     "start_time": "2023-02-25T23:44:00.392892",
     "status": "completed"
    },
    "tags": []
   },
   "source": [
    "sns.boxplot(x='Attrition_Flag', y='Total_Ct_Chng_Q4_Q1', data=df)"
   ]
  },
  {
   "cell_type": "markdown",
   "id": "a2b606a3",
   "metadata": {
    "id": "L2SVZ22D3xNm",
    "papermill": {
     "duration": 0.053274,
     "end_time": "2023-02-25T23:44:00.552453",
     "exception": false,
     "start_time": "2023-02-25T23:44:00.499179",
     "status": "completed"
    },
    "tags": []
   },
   "source": [
    "We preffer not to add it to the model for explainability"
   ]
  },
  {
   "cell_type": "markdown",
   "id": "1540df73",
   "metadata": {
    "id": "V2J6wIgXwQ51",
    "papermill": {
     "duration": 0.053227,
     "end_time": "2023-02-25T23:44:00.658929",
     "exception": false,
     "start_time": "2023-02-25T23:44:00.605702",
     "status": "completed"
    },
    "tags": []
   },
   "source": [
    "### Attrition by Avg_Utilization_Ratio Boxplot"
   ]
  },
  {
   "cell_type": "markdown",
   "id": "a87312ca",
   "metadata": {
    "_kg_hide-input": true,
    "execution": {
     "iopub.status.busy": "2023-02-25T23:21:24.018029Z",
     "iopub.status.idle": "2023-02-25T23:21:24.018632Z",
     "shell.execute_reply": "2023-02-25T23:21:24.018333Z",
     "shell.execute_reply.started": "2023-02-25T23:21:24.018308Z"
    },
    "id": "HBfV78rxwRP4",
    "outputId": "82339c02-0e7d-47e9-c835-09e8f05691ea",
    "papermill": {
     "duration": 0.053267,
     "end_time": "2023-02-25T23:44:00.765972",
     "exception": false,
     "start_time": "2023-02-25T23:44:00.712705",
     "status": "completed"
    },
    "tags": []
   },
   "source": [
    "sns.boxplot(x='Attrition_Flag', y='Avg_Utilization_Ratio', data=df)"
   ]
  },
  {
   "cell_type": "markdown",
   "id": "7afae41f",
   "metadata": {
    "id": "542Br3U-wfnl",
    "papermill": {
     "duration": 0.054808,
     "end_time": "2023-02-25T23:44:00.875738",
     "exception": false,
     "start_time": "2023-02-25T23:44:00.820930",
     "status": "completed"
    },
    "tags": []
   },
   "source": [
    "We see a difference and we can use this variable as a predictor"
   ]
  },
  {
   "cell_type": "markdown",
   "id": "338fa964",
   "metadata": {
    "id": "-9IKve0g3bTZ",
    "papermill": {
     "duration": 0.053531,
     "end_time": "2023-02-25T23:44:00.983498",
     "exception": false,
     "start_time": "2023-02-25T23:44:00.929967",
     "status": "completed"
    },
    "tags": []
   },
   "source": [
    "## Select candidate variables"
   ]
  },
  {
   "cell_type": "markdown",
   "id": "90be49bb",
   "metadata": {
    "execution": {
     "iopub.status.busy": "2023-02-25T23:21:24.020090Z",
     "iopub.status.idle": "2023-02-25T23:21:24.021732Z",
     "shell.execute_reply": "2023-02-25T23:21:24.021415Z",
     "shell.execute_reply.started": "2023-02-25T23:21:24.021381Z"
    },
    "id": "cO9oWtJHjOPI",
    "outputId": "9ebf182c-49bd-4c4f-8e66-6e4194441055",
    "papermill": {
     "duration": 0.053132,
     "end_time": "2023-02-25T23:44:01.090312",
     "exception": false,
     "start_time": "2023-02-25T23:44:01.037180",
     "status": "completed"
    },
    "tags": []
   },
   "source": [
    "df.columns"
   ]
  },
  {
   "cell_type": "markdown",
   "id": "efdb7024",
   "metadata": {
    "id": "oIb8rOWSS3Q7",
    "papermill": {
     "duration": 0.053138,
     "end_time": "2023-02-25T23:44:01.197753",
     "exception": false,
     "start_time": "2023-02-25T23:44:01.144615",
     "status": "completed"
    },
    "tags": []
   },
   "source": [
    "## Numerics"
   ]
  },
  {
   "cell_type": "markdown",
   "id": "6c801312",
   "metadata": {
    "id": "LAe4ixTaS_l9",
    "papermill": {
     "duration": 0.053456,
     "end_time": "2023-02-25T23:44:01.304389",
     "exception": false,
     "start_time": "2023-02-25T23:44:01.250933",
     "status": "completed"
    },
    "tags": []
   },
   "source": [
    "- Dependent_count\n",
    "- Total_Relationship_Count\n",
    "- Months_Inactive_12_mon\n",
    "- Contacts_Count_12_mon\n",
    "- Total_Trans_Ct\n",
    "- Avg_Utilization_Ratio"
   ]
  },
  {
   "cell_type": "markdown",
   "id": "73411fff",
   "metadata": {
    "id": "kpn9Be8MS8cM",
    "papermill": {
     "duration": 0.052971,
     "end_time": "2023-02-25T23:44:01.411577",
     "exception": false,
     "start_time": "2023-02-25T23:44:01.358606",
     "status": "completed"
    },
    "tags": []
   },
   "source": [
    "## Categoricals"
   ]
  },
  {
   "cell_type": "markdown",
   "id": "8d84c90d",
   "metadata": {
    "id": "8jZY6d7oTDwa",
    "papermill": {
     "duration": 0.054328,
     "end_time": "2023-02-25T23:44:01.519875",
     "exception": false,
     "start_time": "2023-02-25T23:44:01.465547",
     "status": "completed"
    },
    "tags": []
   },
   "source": [
    "- Gender\n",
    "- Income_Category"
   ]
  },
  {
   "cell_type": "markdown",
   "id": "4e77c6b4",
   "metadata": {
    "id": "hiIISXr3SD5k",
    "papermill": {
     "duration": 0.053653,
     "end_time": "2023-02-25T23:44:01.627863",
     "exception": false,
     "start_time": "2023-02-25T23:44:01.574210",
     "status": "completed"
    },
    "tags": []
   },
   "source": [
    "# Models preparation and evaluation\n"
   ]
  },
  {
   "cell_type": "markdown",
   "id": "8bd325eb",
   "metadata": {
    "id": "hUDwDhLvQw1d",
    "papermill": {
     "duration": 0.0542,
     "end_time": "2023-02-25T23:44:01.735832",
     "exception": false,
     "start_time": "2023-02-25T23:44:01.681632",
     "status": "completed"
    },
    "tags": []
   },
   "source": [
    "## Dataset preparation"
   ]
  },
  {
   "cell_type": "markdown",
   "id": "d625d13c",
   "metadata": {
    "id": "wwb2bvNNWVEo",
    "papermill": {
     "duration": 0.054361,
     "end_time": "2023-02-25T23:44:01.843898",
     "exception": false,
     "start_time": "2023-02-25T23:44:01.789537",
     "status": "completed"
    },
    "tags": []
   },
   "source": [
    "### Categoricals"
   ]
  },
  {
   "cell_type": "markdown",
   "id": "605774b0",
   "metadata": {
    "id": "BitSDZkcWiu2",
    "papermill": {
     "duration": 0.052677,
     "end_time": "2023-02-25T23:44:01.949504",
     "exception": false,
     "start_time": "2023-02-25T23:44:01.896827",
     "status": "completed"
    },
    "tags": []
   },
   "source": [
    "#### Ordinal encoding"
   ]
  },
  {
   "cell_type": "markdown",
   "id": "5db912fe",
   "metadata": {
    "execution": {
     "iopub.status.busy": "2023-02-25T23:21:24.023335Z",
     "iopub.status.idle": "2023-02-25T23:21:24.023930Z",
     "shell.execute_reply": "2023-02-25T23:21:24.023651Z",
     "shell.execute_reply.started": "2023-02-25T23:21:24.023624Z"
    },
    "id": "bwMb-HoFX9uY",
    "outputId": "4c63a106-9925-4227-bf3b-520523227eeb",
    "papermill": {
     "duration": 0.052593,
     "end_time": "2023-02-25T23:44:02.055137",
     "exception": false,
     "start_time": "2023-02-25T23:44:02.002544",
     "status": "completed"
    },
    "tags": []
   },
   "source": [
    "Income_Category_enc = df['Income_Category']\n",
    "Income_Category_enc.unique()"
   ]
  },
  {
   "cell_type": "markdown",
   "id": "954534c3",
   "metadata": {
    "execution": {
     "iopub.status.busy": "2023-02-25T23:21:24.025622Z",
     "iopub.status.idle": "2023-02-25T23:21:24.026188Z",
     "shell.execute_reply": "2023-02-25T23:21:24.025926Z",
     "shell.execute_reply.started": "2023-02-25T23:21:24.025900Z"
    },
    "id": "xTi7FN89WXME",
    "papermill": {
     "duration": 0.052769,
     "end_time": "2023-02-25T23:44:02.161110",
     "exception": false,
     "start_time": "2023-02-25T23:44:02.108341",
     "status": "completed"
    },
    "tags": []
   },
   "source": [
    "#We map unknowns to 0, which is the most repeated value\n",
    "df['Income_Category'] =  df['Income_Category'].map({'Unknown':1,\n",
    "                                                'Less than $40K':1,\n",
    "                                                '$40K - $60K':2,\n",
    "                                                '$60K - $80K':3,\n",
    "                                                '$80K - $120K':4, \n",
    "                                                '$120K +':5})"
   ]
  },
  {
   "cell_type": "markdown",
   "id": "6bdf62e2",
   "metadata": {
    "id": "b_2jucgAWzDY",
    "papermill": {
     "duration": 0.052858,
     "end_time": "2023-02-25T23:44:02.267049",
     "exception": false,
     "start_time": "2023-02-25T23:44:02.214191",
     "status": "completed"
    },
    "tags": []
   },
   "source": [
    "#### Onehot encoder"
   ]
  },
  {
   "cell_type": "markdown",
   "id": "c41b661b",
   "metadata": {
    "execution": {
     "iopub.status.busy": "2023-02-25T23:21:24.028235Z",
     "iopub.status.idle": "2023-02-25T23:21:24.028841Z",
     "shell.execute_reply": "2023-02-25T23:21:24.028543Z",
     "shell.execute_reply.started": "2023-02-25T23:21:24.028516Z"
    },
    "id": "IUTVeW7WQgx5",
    "outputId": "c35d3b1b-f2ad-4988-e116-df4d94619128",
    "papermill": {
     "duration": 0.053012,
     "end_time": "2023-02-25T23:44:02.372710",
     "exception": false,
     "start_time": "2023-02-25T23:44:02.319698",
     "status": "completed"
    },
    "tags": []
   },
   "source": [
    "categoricals = ['Gender']\n",
    "\n",
    "enc = OneHotEncoder(drop='first')\n",
    "X = df[categoricals]\n",
    "enc.fit(X)\n",
    "enc.categories_"
   ]
  },
  {
   "cell_type": "markdown",
   "id": "f3d7bc3e",
   "metadata": {
    "execution": {
     "iopub.status.busy": "2023-02-25T23:21:24.030510Z",
     "iopub.status.idle": "2023-02-25T23:21:24.031107Z",
     "shell.execute_reply": "2023-02-25T23:21:24.030842Z",
     "shell.execute_reply.started": "2023-02-25T23:21:24.030815Z"
    },
    "id": "ZNzyU10AQjhU",
    "outputId": "b15da013-1c49-4bd7-8ccc-a3e4c09192df",
    "papermill": {
     "duration": 0.054307,
     "end_time": "2023-02-25T23:44:02.535835",
     "exception": false,
     "start_time": "2023-02-25T23:44:02.481528",
     "status": "completed"
    },
    "tags": []
   },
   "source": [
    "dummies = enc.transform(X).toarray()\n",
    "dummies"
   ]
  },
  {
   "cell_type": "markdown",
   "id": "5cdd8d45",
   "metadata": {
    "execution": {
     "iopub.status.busy": "2023-02-25T23:21:24.032499Z",
     "iopub.status.idle": "2023-02-25T23:21:24.033603Z",
     "shell.execute_reply": "2023-02-25T23:21:24.033301Z",
     "shell.execute_reply.started": "2023-02-25T23:21:24.033267Z"
    },
    "id": "i_Z4zxj9QlCC",
    "outputId": "3803429b-c24c-4df9-c245-93061211882e",
    "papermill": {
     "duration": 0.052397,
     "end_time": "2023-02-25T23:44:02.642620",
     "exception": false,
     "start_time": "2023-02-25T23:44:02.590223",
     "status": "completed"
    },
    "tags": []
   },
   "source": [
    "dummies.shape"
   ]
  },
  {
   "cell_type": "markdown",
   "id": "2fc8798b",
   "metadata": {
    "execution": {
     "iopub.status.busy": "2023-02-25T23:21:24.035521Z",
     "iopub.status.idle": "2023-02-25T23:21:24.036124Z",
     "shell.execute_reply": "2023-02-25T23:21:24.035860Z",
     "shell.execute_reply.started": "2023-02-25T23:21:24.035834Z"
    },
    "id": "HrhaglCAQmWu",
    "outputId": "a4ae02b2-fe57-4da4-a03e-f663a001319a",
    "papermill": {
     "duration": 0.052223,
     "end_time": "2023-02-25T23:44:02.747592",
     "exception": false,
     "start_time": "2023-02-25T23:44:02.695369",
     "status": "completed"
    },
    "tags": []
   },
   "source": [
    "dummies_df = pd.DataFrame(dummies)\n",
    "dummies_df"
   ]
  },
  {
   "cell_type": "markdown",
   "id": "5e0d296a",
   "metadata": {
    "execution": {
     "iopub.status.busy": "2023-02-25T23:21:24.038091Z",
     "iopub.status.idle": "2023-02-25T23:21:24.038676Z",
     "shell.execute_reply": "2023-02-25T23:21:24.038389Z",
     "shell.execute_reply.started": "2023-02-25T23:21:24.038362Z"
    },
    "id": "uPfBSIOEQoeo",
    "outputId": "cb655580-4fff-4b60-a785-21b215a06884",
    "papermill": {
     "duration": 0.052911,
     "end_time": "2023-02-25T23:44:02.853455",
     "exception": false,
     "start_time": "2023-02-25T23:44:02.800544",
     "status": "completed"
    },
    "tags": []
   },
   "source": [
    "col_names = [categoricals[i] + '_' + enc.categories_[i] for i in range(len(categoricals)) ]\n",
    "\n",
    "col_names"
   ]
  },
  {
   "cell_type": "markdown",
   "id": "b56272d2",
   "metadata": {
    "execution": {
     "iopub.status.busy": "2023-02-25T23:21:24.040120Z",
     "iopub.status.idle": "2023-02-25T23:21:24.040989Z",
     "shell.execute_reply": "2023-02-25T23:21:24.040703Z",
     "shell.execute_reply.started": "2023-02-25T23:21:24.040674Z"
    },
    "id": "V9DDbXq8QqN8",
    "outputId": "b4971bea-5c54-4ea3-d6f3-74db0bd0d490",
    "papermill": {
     "duration": 0.052696,
     "end_time": "2023-02-25T23:44:02.959464",
     "exception": false,
     "start_time": "2023-02-25T23:44:02.906768",
     "status": "completed"
    },
    "tags": []
   },
   "source": [
    "col_names_drop_first = [sublist[i] for sublist in col_names for i in range(len(sublist)) if i != 0]\n",
    "col_names_drop_first"
   ]
  },
  {
   "cell_type": "markdown",
   "id": "43c90ece",
   "metadata": {
    "execution": {
     "iopub.status.busy": "2023-02-25T23:21:24.043075Z",
     "iopub.status.idle": "2023-02-25T23:21:24.043661Z",
     "shell.execute_reply": "2023-02-25T23:21:24.043375Z",
     "shell.execute_reply.started": "2023-02-25T23:21:24.043346Z"
    },
    "id": "miiWjaWKQrmQ",
    "outputId": "f5f0c695-73a1-4cdb-c279-5c214d6867af",
    "papermill": {
     "duration": 0.052738,
     "end_time": "2023-02-25T23:44:03.065013",
     "exception": false,
     "start_time": "2023-02-25T23:44:03.012275",
     "status": "completed"
    },
    "tags": []
   },
   "source": [
    "dummies_df.columns = col_names_drop_first\n",
    "dummies_df"
   ]
  },
  {
   "cell_type": "markdown",
   "id": "a53c5e2e",
   "metadata": {
    "id": "hDp17tUpWSqD",
    "papermill": {
     "duration": 0.052227,
     "end_time": "2023-02-25T23:44:03.169821",
     "exception": false,
     "start_time": "2023-02-25T23:44:03.117594",
     "status": "completed"
    },
    "tags": []
   },
   "source": [
    "#### Numerics"
   ]
  },
  {
   "cell_type": "markdown",
   "id": "4e6957d5",
   "metadata": {
    "execution": {
     "iopub.status.busy": "2023-02-25T23:21:24.045813Z",
     "iopub.status.idle": "2023-02-25T23:21:24.046381Z",
     "shell.execute_reply": "2023-02-25T23:21:24.046109Z",
     "shell.execute_reply.started": "2023-02-25T23:21:24.046083Z"
    },
    "id": "d34nCbLmQd8N",
    "outputId": "18028165-f4a5-4b8e-c394-0151cb75163d",
    "papermill": {
     "duration": 0.052488,
     "end_time": "2023-02-25T23:44:03.275217",
     "exception": false,
     "start_time": "2023-02-25T23:44:03.222729",
     "status": "completed"
    },
    "tags": []
   },
   "source": [
    "numericals = ['Dependent_count',\n",
    "            'Total_Relationship_Count',\n",
    "            'Months_Inactive_12_mon',\n",
    "            'Contacts_Count_12_mon',\n",
    "            'Total_Trans_Ct',\n",
    "            'Avg_Utilization_Ratio',\n",
    "             'Income_Category']\n",
    "\n",
    "X = df[numericals]\n",
    "\n",
    "scaler = StandardScaler()\n",
    "scaler.fit(X)\n",
    "\n",
    "std_numerical_data = scaler.transform(X)\n",
    "std_df = pd.DataFrame(std_numerical_data)\n",
    "std_df.columns = [i + '_std' for i in numericals]\n",
    "std_df"
   ]
  },
  {
   "cell_type": "markdown",
   "id": "3fd0dcac",
   "metadata": {
    "id": "qIBlJHlAWswB",
    "papermill": {
     "duration": 0.053721,
     "end_time": "2023-02-25T23:44:03.382328",
     "exception": false,
     "start_time": "2023-02-25T23:44:03.328607",
     "status": "completed"
    },
    "tags": []
   },
   "source": [
    "#### Concat results"
   ]
  },
  {
   "cell_type": "markdown",
   "id": "9425a885",
   "metadata": {
    "execution": {
     "iopub.status.busy": "2023-02-25T23:21:24.047792Z",
     "iopub.status.idle": "2023-02-25T23:21:24.048875Z",
     "shell.execute_reply": "2023-02-25T23:21:24.048584Z",
     "shell.execute_reply.started": "2023-02-25T23:21:24.048537Z"
    },
    "id": "oQDBTIQdQtVg",
    "outputId": "80afdb10-90bd-4c0e-daf2-c6aa7bf6ced4",
    "papermill": {
     "duration": 0.054511,
     "end_time": "2023-02-25T23:44:03.490412",
     "exception": false,
     "start_time": "2023-02-25T23:44:03.435901",
     "status": "completed"
    },
    "tags": []
   },
   "source": [
    "df_prep = pd.concat([dummies_df,\n",
    "                     std_df\n",
    "                     ], axis = 1)\n",
    "df_prep"
   ]
  },
  {
   "cell_type": "markdown",
   "id": "0c882580",
   "metadata": {
    "execution": {
     "iopub.status.busy": "2023-02-25T23:21:24.050222Z",
     "iopub.status.idle": "2023-02-25T23:21:24.051129Z",
     "shell.execute_reply": "2023-02-25T23:21:24.050855Z",
     "shell.execute_reply.started": "2023-02-25T23:21:24.050827Z"
    },
    "id": "b4_n19KpZ3AS",
    "papermill": {
     "duration": 0.053561,
     "end_time": "2023-02-25T23:44:03.598797",
     "exception": false,
     "start_time": "2023-02-25T23:44:03.545236",
     "status": "completed"
    },
    "tags": []
   },
   "source": [
    "X = df_prep\n",
    "y = df.Attrition_Flag"
   ]
  },
  {
   "cell_type": "markdown",
   "id": "a2291fc2",
   "metadata": {
    "id": "HHv8wt0WARUt",
    "papermill": {
     "duration": 0.053538,
     "end_time": "2023-02-25T23:44:03.705585",
     "exception": false,
     "start_time": "2023-02-25T23:44:03.652047",
     "status": "completed"
    },
    "tags": []
   },
   "source": [
    "## BASELINE: NAIVE BAYES"
   ]
  },
  {
   "cell_type": "markdown",
   "id": "5826864a",
   "metadata": {
    "papermill": {
     "duration": 0.053113,
     "end_time": "2023-02-25T23:44:03.811877",
     "exception": false,
     "start_time": "2023-02-25T23:44:03.758764",
     "status": "completed"
    },
    "tags": []
   },
   "source": [
    "### Training"
   ]
  },
  {
   "cell_type": "markdown",
   "id": "b47343c2",
   "metadata": {
    "execution": {
     "iopub.status.busy": "2023-02-25T23:21:24.052489Z",
     "iopub.status.idle": "2023-02-25T23:21:24.053534Z",
     "shell.execute_reply": "2023-02-25T23:21:24.053258Z",
     "shell.execute_reply.started": "2023-02-25T23:21:24.053229Z"
    },
    "id": "i3zon_HFLm_m",
    "outputId": "73eba418-804e-42fa-977b-91c45b4cbd42",
    "papermill": {
     "duration": 0.05374,
     "end_time": "2023-02-25T23:44:03.920345",
     "exception": false,
     "start_time": "2023-02-25T23:44:03.866605",
     "status": "completed"
    },
    "tags": []
   },
   "source": [
    "X_train, X_test, y_train, y_test = train_test_split(X, y, stratify=y)"
   ]
  },
  {
   "cell_type": "markdown",
   "id": "7a5fa5bf",
   "metadata": {
    "execution": {
     "iopub.status.busy": "2023-02-25T23:21:24.055508Z",
     "iopub.status.idle": "2023-02-25T23:21:24.056114Z",
     "shell.execute_reply": "2023-02-25T23:21:24.055843Z",
     "shell.execute_reply.started": "2023-02-25T23:21:24.055817Z"
    },
    "id": "Bkt_c5VQMK8K",
    "outputId": "5b139be5-536b-460f-e58b-2ecce0013100",
    "papermill": {
     "duration": 0.052743,
     "end_time": "2023-02-25T23:44:04.026974",
     "exception": false,
     "start_time": "2023-02-25T23:44:03.974231",
     "status": "completed"
    },
    "tags": []
   },
   "source": [
    "###Instance and train the model\n",
    "\n",
    "gnb = GaussianNB()\n",
    "gnb.fit(X_train, y_train)"
   ]
  },
  {
   "cell_type": "markdown",
   "id": "2b1a8098",
   "metadata": {
    "execution": {
     "iopub.status.busy": "2023-02-25T23:21:24.057464Z",
     "iopub.status.idle": "2023-02-25T23:21:24.058535Z",
     "shell.execute_reply": "2023-02-25T23:21:24.058255Z",
     "shell.execute_reply.started": "2023-02-25T23:21:24.058225Z"
    },
    "papermill": {
     "duration": 0.0529,
     "end_time": "2023-02-25T23:44:04.133008",
     "exception": false,
     "start_time": "2023-02-25T23:44:04.080108",
     "status": "completed"
    },
    "tags": []
   },
   "source": [
    "y_pred = gnb.predict(X_test)\n",
    "\n",
    "y_pred"
   ]
  },
  {
   "cell_type": "markdown",
   "id": "46e60e74",
   "metadata": {
    "papermill": {
     "duration": 0.052765,
     "end_time": "2023-02-25T23:44:04.238586",
     "exception": false,
     "start_time": "2023-02-25T23:44:04.185821",
     "status": "completed"
    },
    "tags": []
   },
   "source": [
    "### Evaluation"
   ]
  },
  {
   "cell_type": "markdown",
   "id": "1efc6422",
   "metadata": {
    "execution": {
     "iopub.status.busy": "2023-02-25T23:21:24.060399Z",
     "iopub.status.idle": "2023-02-25T23:21:24.061011Z",
     "shell.execute_reply": "2023-02-25T23:21:24.060740Z",
     "shell.execute_reply.started": "2023-02-25T23:21:24.060700Z"
    },
    "papermill": {
     "duration": 0.052753,
     "end_time": "2023-02-25T23:44:04.344265",
     "exception": false,
     "start_time": "2023-02-25T23:44:04.291512",
     "status": "completed"
    },
    "tags": []
   },
   "source": [
    "confusion_matrix(y_test, y_pred)"
   ]
  },
  {
   "cell_type": "markdown",
   "id": "18f09f4c",
   "metadata": {
    "execution": {
     "iopub.status.busy": "2023-02-25T23:21:24.063011Z",
     "iopub.status.idle": "2023-02-25T23:21:24.063602Z",
     "shell.execute_reply": "2023-02-25T23:21:24.063317Z",
     "shell.execute_reply.started": "2023-02-25T23:21:24.063290Z"
    },
    "papermill": {
     "duration": 0.052856,
     "end_time": "2023-02-25T23:44:04.451604",
     "exception": false,
     "start_time": "2023-02-25T23:44:04.398748",
     "status": "completed"
    },
    "tags": []
   },
   "source": [
    "confusion=confusion_matrix(y_test, y_pred)\n",
    "TP = confusion[1, 1]\n",
    "TN = confusion[0, 0]\n",
    "FP = confusion[0, 1]\n",
    "FN = confusion[1, 0]"
   ]
  },
  {
   "cell_type": "markdown",
   "id": "ee2321ca",
   "metadata": {
    "execution": {
     "iopub.status.busy": "2023-02-25T23:21:24.065683Z",
     "iopub.status.idle": "2023-02-25T23:21:24.066249Z",
     "shell.execute_reply": "2023-02-25T23:21:24.065989Z",
     "shell.execute_reply.started": "2023-02-25T23:21:24.065964Z"
    },
    "id": "8txW-5j8NAPk",
    "outputId": "a7043b70-c540-484d-eb20-b31cffefef6a",
    "papermill": {
     "duration": 0.052519,
     "end_time": "2023-02-25T23:44:04.557379",
     "exception": false,
     "start_time": "2023-02-25T23:44:04.504860",
     "status": "completed"
    },
    "tags": []
   },
   "source": [
    "# Accuracy: Overall performance of the model\n",
    "# Accuracy: (TP + TN) / (TP + TN + FP + FN)\n",
    "accuracy_score(y_test, y_pred)"
   ]
  },
  {
   "cell_type": "markdown",
   "id": "9f83f49a",
   "metadata": {
    "execution": {
     "iopub.status.busy": "2023-02-25T23:21:24.068137Z",
     "iopub.status.idle": "2023-02-25T23:21:24.068734Z",
     "shell.execute_reply": "2023-02-25T23:21:24.068444Z",
     "shell.execute_reply.started": "2023-02-25T23:21:24.068417Z"
    },
    "id": "gb5JveSUPrLq",
    "outputId": "aef4b14e-5547-449a-f511-0a46c946371e",
    "papermill": {
     "duration": 0.052876,
     "end_time": "2023-02-25T23:44:04.663424",
     "exception": false,
     "start_time": "2023-02-25T23:44:04.610548",
     "status": "completed"
    },
    "tags": []
   },
   "source": [
    "# Precision: How accurate the positive predictions are\n",
    "# Precision = TP / (TP + FP)\n",
    "precision_score(y_test, y_pred)\n"
   ]
  },
  {
   "cell_type": "markdown",
   "id": "91cfc904",
   "metadata": {
    "execution": {
     "iopub.status.busy": "2023-02-25T23:21:24.070445Z",
     "iopub.status.idle": "2023-02-25T23:21:24.071440Z",
     "shell.execute_reply": "2023-02-25T23:21:24.071158Z",
     "shell.execute_reply.started": "2023-02-25T23:21:24.071129Z"
    },
    "id": "QjPMtzOCRCoQ",
    "outputId": "c58b8341-ae1c-4c37-b8b3-b0891bfc31bd",
    "papermill": {
     "duration": 0.052589,
     "end_time": "2023-02-25T23:44:04.768962",
     "exception": false,
     "start_time": "2023-02-25T23:44:04.716373",
     "status": "completed"
    },
    "tags": []
   },
   "source": [
    "# Recall sensitivity: Coverage of actual positive sample \n",
    "recall_score(y_test, y_pred)"
   ]
  },
  {
   "cell_type": "markdown",
   "id": "6fac8571",
   "metadata": {
    "execution": {
     "iopub.status.busy": "2023-02-25T23:21:24.073156Z",
     "iopub.status.idle": "2023-02-25T23:21:24.073971Z",
     "shell.execute_reply": "2023-02-25T23:21:24.073690Z",
     "shell.execute_reply.started": "2023-02-25T23:21:24.073662Z"
    },
    "id": "c43E1tRfeLNI",
    "outputId": "537e3b6d-1c6d-4e56-c6a1-6558fa8305b8",
    "papermill": {
     "duration": 0.054639,
     "end_time": "2023-02-25T23:44:04.876638",
     "exception": false,
     "start_time": "2023-02-25T23:44:04.821999",
     "status": "completed"
    },
    "tags": []
   },
   "source": [
    "# Specificity: Coverage of actual negative sample\n",
    "# Specificity = TN / (TN + FP)\n",
    "specificity = TN / (TN + FP)\n",
    "print(specificity)"
   ]
  },
  {
   "cell_type": "markdown",
   "id": "f629dd88",
   "metadata": {
    "execution": {
     "iopub.status.busy": "2023-02-25T23:21:24.075971Z",
     "iopub.status.idle": "2023-02-25T23:21:24.076577Z",
     "shell.execute_reply": "2023-02-25T23:21:24.076283Z",
     "shell.execute_reply.started": "2023-02-25T23:21:24.076254Z"
    },
    "papermill": {
     "duration": 0.053433,
     "end_time": "2023-02-25T23:44:04.983813",
     "exception": false,
     "start_time": "2023-02-25T23:44:04.930380",
     "status": "completed"
    },
    "tags": []
   },
   "source": [
    "# F1 score: Hybrid metric useful for unbalanced classes. Combines precision and recall sensitivity\n",
    "# F1 score = 2TP / (2TP + FP + FN)\n",
    "f1_score(y_test, y_pred)"
   ]
  },
  {
   "cell_type": "markdown",
   "id": "9d537c75",
   "metadata": {
    "execution": {
     "iopub.status.busy": "2023-02-25T23:21:24.077987Z",
     "iopub.status.idle": "2023-02-25T23:21:24.079153Z",
     "shell.execute_reply": "2023-02-25T23:21:24.078874Z",
     "shell.execute_reply.started": "2023-02-25T23:21:24.078823Z"
    },
    "id": "tyu9rHqfOVUb",
    "outputId": "53c1198a-b50e-4036-9573-ca027e134cf5",
    "papermill": {
     "duration": 0.05302,
     "end_time": "2023-02-25T23:44:05.089805",
     "exception": false,
     "start_time": "2023-02-25T23:44:05.036785",
     "status": "completed"
    },
    "tags": []
   },
   "source": [
    "# Confusion matrix\n",
    "\n",
    "sns.heatmap(confusion_matrix(y_test, y_pred), annot=True, fmt='.0f')\n",
    "plt.ylabel('Real')\n",
    "plt.xlabel('Prediction');"
   ]
  },
  {
   "cell_type": "markdown",
   "id": "f91559e5",
   "metadata": {
    "execution": {
     "iopub.status.busy": "2023-02-25T23:21:24.080876Z",
     "iopub.status.idle": "2023-02-25T23:21:24.081414Z",
     "shell.execute_reply": "2023-02-25T23:21:24.081165Z",
     "shell.execute_reply.started": "2023-02-25T23:21:24.081139Z"
    },
    "id": "ZDOUPzlEXS1t",
    "outputId": "de6011ac-3fd2-4f2c-af80-601dbc2a49fb",
    "papermill": {
     "duration": 0.053194,
     "end_time": "2023-02-25T23:44:05.196323",
     "exception": false,
     "start_time": "2023-02-25T23:44:05.143129",
     "status": "completed"
    },
    "tags": []
   },
   "source": [
    "Y_scores = gnb.predict_proba(X_test)\n",
    "fpr, tpr, threshold = roc_curve(y_test, Y_scores[:, 1])\n",
    "roc_auc = auc(fpr, tpr)\n",
    "\n",
    "plt.title('Naive Bayes Classifier')\n",
    "plt.plot(fpr, tpr, 'b', label = 'AUC = %0.2f' % roc_auc)\n",
    "plt.legend(loc = 'lower right')\n",
    "plt.plot([0, 1], [0, 1],'r--')\n",
    "plt.xlim([0, 1])\n",
    "plt.ylim([0, 1])\n",
    "plt.ylabel('True Positive Rate')\n",
    "plt.xlabel('False Positive Rate')\n",
    "plt.title('ROC Curve of NAIVE BAYES')\n",
    "plt.show()"
   ]
  },
  {
   "cell_type": "markdown",
   "id": "7a706c6b",
   "metadata": {
    "id": "yBCd03WpPzBx",
    "papermill": {
     "duration": 0.052802,
     "end_time": "2023-02-25T23:44:05.302100",
     "exception": false,
     "start_time": "2023-02-25T23:44:05.249298",
     "status": "completed"
    },
    "tags": []
   },
   "source": [
    "## Logistic Regression"
   ]
  },
  {
   "cell_type": "markdown",
   "id": "88754626",
   "metadata": {
    "id": "85JX9oybQ1h4",
    "papermill": {
     "duration": 0.054301,
     "end_time": "2023-02-25T23:44:05.410127",
     "exception": false,
     "start_time": "2023-02-25T23:44:05.355826",
     "status": "completed"
    },
    "tags": []
   },
   "source": [
    "### Training"
   ]
  },
  {
   "cell_type": "markdown",
   "id": "bc8f782c",
   "metadata": {
    "execution": {
     "iopub.status.busy": "2023-02-25T23:21:24.083327Z",
     "iopub.status.idle": "2023-02-25T23:21:24.083939Z",
     "shell.execute_reply": "2023-02-25T23:21:24.083663Z",
     "shell.execute_reply.started": "2023-02-25T23:21:24.083636Z"
    },
    "id": "YGM9h1xJQ4TW",
    "papermill": {
     "duration": 0.054154,
     "end_time": "2023-02-25T23:44:05.519073",
     "exception": false,
     "start_time": "2023-02-25T23:44:05.464919",
     "status": "completed"
    },
    "tags": []
   },
   "source": [
    "X_train, X_test, y_train, y_test = train_test_split(X, y, stratify=y, random_state = 12)"
   ]
  },
  {
   "cell_type": "markdown",
   "id": "2f2fa1ed",
   "metadata": {
    "execution": {
     "iopub.status.busy": "2023-02-25T23:21:24.085936Z",
     "iopub.status.idle": "2023-02-25T23:21:24.086506Z",
     "shell.execute_reply": "2023-02-25T23:21:24.086230Z",
     "shell.execute_reply.started": "2023-02-25T23:21:24.086202Z"
    },
    "id": "KmsoGxAhRIJ8",
    "papermill": {
     "duration": 0.057901,
     "end_time": "2023-02-25T23:44:05.630326",
     "exception": false,
     "start_time": "2023-02-25T23:44:05.572425",
     "status": "completed"
    },
    "tags": []
   },
   "source": [
    "logistic_regression = LogisticRegression(penalty='none') \n",
    "logistic_regression.fit(X_train, y_train);"
   ]
  },
  {
   "cell_type": "markdown",
   "id": "8ccaffbd",
   "metadata": {
    "execution": {
     "iopub.status.busy": "2023-02-25T23:21:24.094715Z",
     "iopub.status.idle": "2023-02-25T23:21:24.095359Z",
     "shell.execute_reply": "2023-02-25T23:21:24.095078Z",
     "shell.execute_reply.started": "2023-02-25T23:21:24.095048Z"
    },
    "id": "1tjpcjDcRJPH",
    "outputId": "8c7abb68-afd9-4bd7-d654-13c9d79e06c7",
    "papermill": {
     "duration": 0.052969,
     "end_time": "2023-02-25T23:44:05.736307",
     "exception": false,
     "start_time": "2023-02-25T23:44:05.683338",
     "status": "completed"
    },
    "tags": []
   },
   "source": [
    "y_pred = logistic_regression.predict(X_test)\n",
    "y_pred"
   ]
  },
  {
   "cell_type": "markdown",
   "id": "618c2471",
   "metadata": {
    "execution": {
     "iopub.status.busy": "2023-02-25T23:21:24.097381Z",
     "iopub.status.idle": "2023-02-25T23:21:24.097986Z",
     "shell.execute_reply": "2023-02-25T23:21:24.097722Z",
     "shell.execute_reply.started": "2023-02-25T23:21:24.097695Z"
    },
    "id": "lcXxkm5PRKo1",
    "outputId": "8bffe04a-bd9d-4296-bcbe-b1933083a95c",
    "papermill": {
     "duration": 0.053193,
     "end_time": "2023-02-25T23:44:05.842637",
     "exception": false,
     "start_time": "2023-02-25T23:44:05.789444",
     "status": "completed"
    },
    "tags": []
   },
   "source": [
    "y_pred_proba = logistic_regression.predict_proba(X_test)\n",
    "y_pred_proba"
   ]
  },
  {
   "cell_type": "markdown",
   "id": "2966caf0",
   "metadata": {
    "papermill": {
     "duration": 0.053134,
     "end_time": "2023-02-25T23:44:05.949676",
     "exception": false,
     "start_time": "2023-02-25T23:44:05.896542",
     "status": "completed"
    },
    "tags": []
   },
   "source": [
    "### Evaluation"
   ]
  },
  {
   "cell_type": "markdown",
   "id": "9e0200fd",
   "metadata": {
    "execution": {
     "iopub.status.busy": "2023-02-25T23:21:24.099732Z",
     "iopub.status.idle": "2023-02-25T23:21:24.100280Z",
     "shell.execute_reply": "2023-02-25T23:21:24.100023Z",
     "shell.execute_reply.started": "2023-02-25T23:21:24.099997Z"
    },
    "id": "YsFam8B-ROHH",
    "outputId": "bbed82b1-42e1-4c67-d533-814dbd04c331",
    "papermill": {
     "duration": 0.052843,
     "end_time": "2023-02-25T23:44:06.055784",
     "exception": false,
     "start_time": "2023-02-25T23:44:06.002941",
     "status": "completed"
    },
    "tags": []
   },
   "source": [
    "confusion_matrix(y_test, y_pred)"
   ]
  },
  {
   "cell_type": "markdown",
   "id": "8bcddcb4",
   "metadata": {
    "execution": {
     "iopub.status.busy": "2023-02-25T23:21:24.101839Z",
     "iopub.status.idle": "2023-02-25T23:21:24.102382Z",
     "shell.execute_reply": "2023-02-25T23:21:24.102131Z",
     "shell.execute_reply.started": "2023-02-25T23:21:24.102105Z"
    },
    "id": "O40Lw_rwc8wS",
    "papermill": {
     "duration": 0.053361,
     "end_time": "2023-02-25T23:44:06.162249",
     "exception": false,
     "start_time": "2023-02-25T23:44:06.108888",
     "status": "completed"
    },
    "tags": []
   },
   "source": [
    "confusion=confusion_matrix(y_test, y_pred)\n",
    "TP = confusion[1, 1]\n",
    "TN = confusion[0, 0]\n",
    "FP = confusion[0, 1]\n",
    "FN = confusion[1, 0]"
   ]
  },
  {
   "cell_type": "markdown",
   "id": "f24dae53",
   "metadata": {
    "execution": {
     "iopub.status.busy": "2023-02-25T23:21:24.103853Z",
     "iopub.status.idle": "2023-02-25T23:21:24.104400Z",
     "shell.execute_reply": "2023-02-25T23:21:24.104138Z",
     "shell.execute_reply.started": "2023-02-25T23:21:24.104113Z"
    },
    "id": "Fto0V4CTc8wS",
    "outputId": "ca260b24-eeea-4eea-cdb9-da2f598daa4b",
    "papermill": {
     "duration": 0.054263,
     "end_time": "2023-02-25T23:44:06.270845",
     "exception": false,
     "start_time": "2023-02-25T23:44:06.216582",
     "status": "completed"
    },
    "tags": []
   },
   "source": [
    "# Accuracy: Overall performance of the model\n",
    "# Accuracy: (TP + TN) / (TP + TN + FP + FN)\n",
    "accuracy_score(y_test, y_pred)"
   ]
  },
  {
   "cell_type": "markdown",
   "id": "62e73966",
   "metadata": {
    "execution": {
     "iopub.status.busy": "2023-02-25T23:21:24.105763Z",
     "iopub.status.idle": "2023-02-25T23:21:24.106297Z",
     "shell.execute_reply": "2023-02-25T23:21:24.106043Z",
     "shell.execute_reply.started": "2023-02-25T23:21:24.106017Z"
    },
    "papermill": {
     "duration": 0.053577,
     "end_time": "2023-02-25T23:44:06.377853",
     "exception": false,
     "start_time": "2023-02-25T23:44:06.324276",
     "status": "completed"
    },
    "tags": []
   },
   "source": [
    "# Precision: How accurate the positive predictions are\n",
    "# Precision = TP / (TP + FP)\n",
    "precision_score(y_test, y_pred)\n"
   ]
  },
  {
   "cell_type": "markdown",
   "id": "5334d4f1",
   "metadata": {
    "execution": {
     "iopub.status.busy": "2023-02-25T23:21:24.107597Z",
     "iopub.status.idle": "2023-02-25T23:21:24.108138Z",
     "shell.execute_reply": "2023-02-25T23:21:24.107889Z",
     "shell.execute_reply.started": "2023-02-25T23:21:24.107864Z"
    },
    "id": "UCmWAvqdc8wS",
    "outputId": "ea1515b6-1b05-4f6a-d7ff-6b4de61eefa4",
    "papermill": {
     "duration": 0.053945,
     "end_time": "2023-02-25T23:44:06.486141",
     "exception": false,
     "start_time": "2023-02-25T23:44:06.432196",
     "status": "completed"
    },
    "tags": []
   },
   "source": [
    "# Recall sensitivity: Coverage of actual positive sample \n",
    "# Recall sensitivity = TP / (TP + FN)\n",
    "recall_score(y_test, y_pred)"
   ]
  },
  {
   "cell_type": "markdown",
   "id": "1f44c8df",
   "metadata": {
    "execution": {
     "iopub.status.busy": "2023-02-25T23:21:24.110004Z",
     "iopub.status.idle": "2023-02-25T23:21:24.110601Z",
     "shell.execute_reply": "2023-02-25T23:21:24.110315Z",
     "shell.execute_reply.started": "2023-02-25T23:21:24.110287Z"
    },
    "id": "4aZLf0e8c8wT",
    "outputId": "d8fb2cb7-f2da-4e07-a9fe-e0ad6fb985b8",
    "papermill": {
     "duration": 0.057873,
     "end_time": "2023-02-25T23:44:06.598296",
     "exception": false,
     "start_time": "2023-02-25T23:44:06.540423",
     "status": "completed"
    },
    "tags": []
   },
   "source": [
    "# Specificity: Coverage of actual negative sample\n",
    "# Specificity = TN / (TN + FP)\n",
    "specificity = TN / (TN + FP)\n",
    "print(specificity)"
   ]
  },
  {
   "cell_type": "markdown",
   "id": "2957f609",
   "metadata": {
    "execution": {
     "iopub.status.busy": "2023-02-25T23:21:24.111930Z",
     "iopub.status.idle": "2023-02-25T23:21:24.112491Z",
     "shell.execute_reply": "2023-02-25T23:21:24.112227Z",
     "shell.execute_reply.started": "2023-02-25T23:21:24.112200Z"
    },
    "id": "ZA01MXt8ep1K",
    "outputId": "79326ce6-07ed-458a-db1a-5f9c77e63fff",
    "papermill": {
     "duration": 0.058651,
     "end_time": "2023-02-25T23:44:06.728192",
     "exception": false,
     "start_time": "2023-02-25T23:44:06.669541",
     "status": "completed"
    },
    "tags": []
   },
   "source": [
    "# F1 score: Hybrid metric useful for unbalanced classes. Combines precision and recall sensitivity\n",
    "# F1 score = 2TP / (2TP + FP + FN)\n",
    "f1_score(y_test, y_pred)"
   ]
  },
  {
   "cell_type": "markdown",
   "id": "8eb64695",
   "metadata": {
    "execution": {
     "iopub.status.busy": "2023-02-25T23:21:24.113923Z",
     "iopub.status.idle": "2023-02-25T23:21:24.114487Z",
     "shell.execute_reply": "2023-02-25T23:21:24.114219Z",
     "shell.execute_reply.started": "2023-02-25T23:21:24.114192Z"
    },
    "id": "E-BPY84ddn5j",
    "outputId": "dc7862c5-faac-4580-a6e2-b91c7eeb9ded",
    "papermill": {
     "duration": 0.053628,
     "end_time": "2023-02-25T23:44:06.836160",
     "exception": false,
     "start_time": "2023-02-25T23:44:06.782532",
     "status": "completed"
    },
    "tags": []
   },
   "source": [
    "# Confusion matrix\n",
    "sns.heatmap(confusion_matrix(y_test, y_pred), annot=True, fmt='.0f')\n",
    "plt.ylabel('Real')\n",
    "plt.xlabel('Prediction');"
   ]
  },
  {
   "cell_type": "markdown",
   "id": "139b7f41",
   "metadata": {
    "execution": {
     "iopub.status.busy": "2023-02-25T23:21:24.115704Z",
     "iopub.status.idle": "2023-02-25T23:21:24.116263Z",
     "shell.execute_reply": "2023-02-25T23:21:24.116001Z",
     "shell.execute_reply.started": "2023-02-25T23:21:24.115975Z"
    },
    "id": "dD029MTWOS9D",
    "outputId": "c0e3397a-1b61-4c31-abab-4fac1be00d08",
    "papermill": {
     "duration": 0.053539,
     "end_time": "2023-02-25T23:44:06.944550",
     "exception": false,
     "start_time": "2023-02-25T23:44:06.891011",
     "status": "completed"
    },
    "tags": []
   },
   "source": [
    "Y_scores = logistic_regression.predict_proba(X_test)\n",
    "fpr, tpr, threshold = roc_curve(y_test, y_pred)\n",
    "roc_auc = auc(fpr, tpr)\n",
    "\n",
    "plt.title('Logistic RegressionClassifier')\n",
    "plt.plot(fpr, tpr, 'b', label = 'AUC = %0.2f' % roc_auc)\n",
    "plt.legend(loc = 'lower right')\n",
    "plt.plot([0, 1], [0, 1],'r--')\n",
    "plt.xlim([0, 1])\n",
    "plt.ylim([0, 1])\n",
    "plt.ylabel('True Positive Rate')\n",
    "plt.xlabel('False Positive Rate')\n",
    "plt.title('ROC Curve of LOGISTIC REGRESSION')\n",
    "plt.show()"
   ]
  },
  {
   "cell_type": "markdown",
   "id": "eb0240c2",
   "metadata": {
    "id": "rdtiOQV9DxkC",
    "papermill": {
     "duration": 0.052803,
     "end_time": "2023-02-25T23:44:07.050557",
     "exception": false,
     "start_time": "2023-02-25T23:44:06.997754",
     "status": "completed"
    },
    "tags": []
   },
   "source": [
    "## KNN"
   ]
  },
  {
   "cell_type": "markdown",
   "id": "74ef45e6",
   "metadata": {
    "papermill": {
     "duration": 0.052872,
     "end_time": "2023-02-25T23:44:07.156742",
     "exception": false,
     "start_time": "2023-02-25T23:44:07.103870",
     "status": "completed"
    },
    "tags": []
   },
   "source": [
    "### Training"
   ]
  },
  {
   "cell_type": "markdown",
   "id": "ff80c686",
   "metadata": {
    "execution": {
     "iopub.status.busy": "2023-02-25T23:21:24.117774Z",
     "iopub.status.idle": "2023-02-25T23:21:24.118341Z",
     "shell.execute_reply": "2023-02-25T23:21:24.118082Z",
     "shell.execute_reply.started": "2023-02-25T23:21:24.118057Z"
    },
    "id": "6JRhg3NbEtgB",
    "papermill": {
     "duration": 0.05342,
     "end_time": "2023-02-25T23:44:07.264716",
     "exception": false,
     "start_time": "2023-02-25T23:44:07.211296",
     "status": "completed"
    },
    "tags": []
   },
   "source": [
    "X_train, X_test, y_train, y_test = train_test_split(X, y, stratify=y)"
   ]
  },
  {
   "cell_type": "markdown",
   "id": "d2957e32",
   "metadata": {
    "execution": {
     "iopub.status.busy": "2023-02-25T23:21:24.120166Z",
     "iopub.status.idle": "2023-02-25T23:21:24.120747Z",
     "shell.execute_reply": "2023-02-25T23:21:24.120459Z",
     "shell.execute_reply.started": "2023-02-25T23:21:24.120433Z"
    },
    "id": "FUAXFuykEtyz",
    "papermill": {
     "duration": 0.052996,
     "end_time": "2023-02-25T23:44:07.371175",
     "exception": false,
     "start_time": "2023-02-25T23:44:07.318179",
     "status": "completed"
    },
    "tags": []
   },
   "source": [
    "# Function to check different knn neighbours\n",
    "\n",
    "def scores_knn(X, y, start,stop,step):\n",
    "    \n",
    "    scores_list = []\n",
    "    \n",
    "    for i in range(start,stop,step):\n",
    "        \n",
    "        model = KNeighborsClassifier(n_neighbors=i)\n",
    "\n",
    "        kf = KFold(n_splits=10, shuffle=True, random_state=10)\n",
    "        cv_scores = cross_val_score(model, X, y, cv=kf)\n",
    "\n",
    "        dict_row_score = {'mean_score':np.mean(cv_scores),'score_std':np.std(cv_scores),'n_neighbours':i}\n",
    "\n",
    "        scores_list.append(dict_row_score)\n",
    "    \n",
    "    df_scores = pd.DataFrame(scores_list)\n",
    "    \n",
    "    df_scores['lower_bound'] = df_scores['mean_score'] - df_scores['score_std']\n",
    "    df_scores['upper_bound'] = df_scores['mean_score'] + df_scores['score_std']\n",
    "    \n",
    "    return df_scores\n"
   ]
  },
  {
   "cell_type": "markdown",
   "id": "11d682b4",
   "metadata": {
    "execution": {
     "iopub.status.busy": "2023-02-25T23:21:24.122596Z",
     "iopub.status.idle": "2023-02-25T23:21:24.123155Z",
     "shell.execute_reply": "2023-02-25T23:21:24.122895Z",
     "shell.execute_reply.started": "2023-02-25T23:21:24.122868Z"
    },
    "id": "O57XlRddFKEB",
    "papermill": {
     "duration": 0.052614,
     "end_time": "2023-02-25T23:44:07.476889",
     "exception": false,
     "start_time": "2023-02-25T23:44:07.424275",
     "status": "completed"
    },
    "tags": []
   },
   "source": [
    "# We try 1 to 20 neighbours\n",
    "df_scores= scores_knn(X_train, y_train, 1, 21, 1)"
   ]
  },
  {
   "cell_type": "markdown",
   "id": "80786ff9",
   "metadata": {
    "execution": {
     "iopub.status.busy": "2023-02-25T23:21:24.124550Z",
     "iopub.status.idle": "2023-02-25T23:21:24.125136Z",
     "shell.execute_reply": "2023-02-25T23:21:24.124874Z",
     "shell.execute_reply.started": "2023-02-25T23:21:24.124848Z"
    },
    "id": "qP_am22yFKMV",
    "outputId": "27915cfd-23f5-430b-e110-0cb5e10e65ac",
    "papermill": {
     "duration": 0.054072,
     "end_time": "2023-02-25T23:44:07.585211",
     "exception": false,
     "start_time": "2023-02-25T23:44:07.531139",
     "status": "completed"
    },
    "tags": []
   },
   "source": [
    "# Visualize the results\n",
    "\n",
    "plt.plot(df_scores['n_neighbours'], df_scores['lower_bound'], color='r')\n",
    "plt.plot(df_scores['n_neighbours'], df_scores['mean_score'], color='b')\n",
    "plt.plot(df_scores['n_neighbours'], df_scores['upper_bound'], color='r')\n",
    "plt.ylim(0.7, 1);"
   ]
  },
  {
   "cell_type": "markdown",
   "id": "1b7c1b76",
   "metadata": {
    "execution": {
     "iopub.status.busy": "2023-02-25T23:21:24.126821Z",
     "iopub.status.idle": "2023-02-25T23:21:24.127361Z",
     "shell.execute_reply": "2023-02-25T23:21:24.127098Z",
     "shell.execute_reply.started": "2023-02-25T23:21:24.127075Z"
    },
    "id": "C_dGYkNQFKSO",
    "outputId": "1cb945dd-d4f4-40ec-f2ab-f7b1e77e78cb",
    "papermill": {
     "duration": 0.054064,
     "end_time": "2023-02-25T23:44:07.692941",
     "exception": false,
     "start_time": "2023-02-25T23:44:07.638877",
     "status": "completed"
    },
    "tags": []
   },
   "source": [
    "# We check the hyperparameter with the higher score\n",
    "\n",
    "df_scores.loc[df_scores.mean_score == df_scores.mean_score.max()]\n"
   ]
  },
  {
   "cell_type": "markdown",
   "id": "7c304cd7",
   "metadata": {
    "execution": {
     "iopub.status.busy": "2023-02-25T23:21:24.128897Z",
     "iopub.status.idle": "2023-02-25T23:21:24.129427Z",
     "shell.execute_reply": "2023-02-25T23:21:24.129175Z",
     "shell.execute_reply.started": "2023-02-25T23:21:24.129151Z"
    },
    "id": "m0wC4r5lFKcE",
    "outputId": "62890e16-3c48-4ab2-f144-08718c9ce158",
    "papermill": {
     "duration": 0.053827,
     "end_time": "2023-02-25T23:44:07.802007",
     "exception": false,
     "start_time": "2023-02-25T23:44:07.748180",
     "status": "completed"
    },
    "tags": []
   },
   "source": [
    "# We assign the hyperparameter to a variable\n",
    "best_k = df_scores.loc[df_scores.mean_score == df_scores.mean_score.max(),'n_neighbours'].values[0]\n",
    "best_k"
   ]
  },
  {
   "cell_type": "markdown",
   "id": "72d8317d",
   "metadata": {
    "execution": {
     "iopub.status.busy": "2023-02-25T23:21:24.131188Z",
     "iopub.status.idle": "2023-02-25T23:21:24.131749Z",
     "shell.execute_reply": "2023-02-25T23:21:24.131466Z",
     "shell.execute_reply.started": "2023-02-25T23:21:24.131441Z"
    },
    "id": "qYtbIAVKFKkZ",
    "outputId": "423f7687-9377-4d2d-87cb-5daddbd16293",
    "papermill": {
     "duration": 0.054283,
     "end_time": "2023-02-25T23:44:07.910732",
     "exception": false,
     "start_time": "2023-02-25T23:44:07.856449",
     "status": "completed"
    },
    "tags": []
   },
   "source": [
    "# We train the model with the best k\n",
    "model = KNeighborsClassifier(n_neighbors=best_k)\n",
    "\n",
    "model.fit(X_train, y_train)"
   ]
  },
  {
   "cell_type": "markdown",
   "id": "1637f54d",
   "metadata": {
    "execution": {
     "iopub.status.busy": "2023-02-25T23:21:24.133535Z",
     "iopub.status.idle": "2023-02-25T23:21:24.134122Z",
     "shell.execute_reply": "2023-02-25T23:21:24.133847Z",
     "shell.execute_reply.started": "2023-02-25T23:21:24.133821Z"
    },
    "papermill": {
     "duration": 0.052636,
     "end_time": "2023-02-25T23:44:08.017584",
     "exception": false,
     "start_time": "2023-02-25T23:44:07.964948",
     "status": "completed"
    },
    "tags": []
   },
   "source": [
    "y_pred = model.predict(X_test)"
   ]
  },
  {
   "cell_type": "markdown",
   "id": "277aa7ea",
   "metadata": {
    "papermill": {
     "duration": 0.052651,
     "end_time": "2023-02-25T23:44:08.123147",
     "exception": false,
     "start_time": "2023-02-25T23:44:08.070496",
     "status": "completed"
    },
    "tags": []
   },
   "source": [
    "### Evaluation"
   ]
  },
  {
   "cell_type": "markdown",
   "id": "d71fdb25",
   "metadata": {
    "execution": {
     "iopub.status.busy": "2023-02-25T23:21:24.141156Z",
     "iopub.status.idle": "2023-02-25T23:21:24.142018Z",
     "shell.execute_reply": "2023-02-25T23:21:24.141511Z",
     "shell.execute_reply.started": "2023-02-25T23:21:24.141483Z"
    },
    "papermill": {
     "duration": 0.105635,
     "end_time": "2023-02-25T23:44:08.281967",
     "exception": false,
     "start_time": "2023-02-25T23:44:08.176332",
     "status": "completed"
    },
    "tags": []
   },
   "source": [
    "confusion_matrix(y_test, y_pred)"
   ]
  },
  {
   "cell_type": "markdown",
   "id": "0ce7012b",
   "metadata": {
    "execution": {
     "iopub.status.busy": "2023-02-25T23:21:24.143925Z",
     "iopub.status.idle": "2023-02-25T23:21:24.144532Z",
     "shell.execute_reply": "2023-02-25T23:21:24.144257Z",
     "shell.execute_reply.started": "2023-02-25T23:21:24.144229Z"
    },
    "papermill": {
     "duration": 0.053422,
     "end_time": "2023-02-25T23:44:08.388488",
     "exception": false,
     "start_time": "2023-02-25T23:44:08.335066",
     "status": "completed"
    },
    "tags": []
   },
   "source": [
    "confusion=confusion_matrix(y_test, y_pred)\n",
    "TP = confusion[1, 1]\n",
    "TN = confusion[0, 0]\n",
    "FP = confusion[0, 1]\n",
    "FN = confusion[1, 0]"
   ]
  },
  {
   "cell_type": "markdown",
   "id": "75e869c6",
   "metadata": {
    "execution": {
     "iopub.status.busy": "2023-02-25T23:21:24.146090Z",
     "iopub.status.idle": "2023-02-25T23:21:24.146717Z",
     "shell.execute_reply": "2023-02-25T23:21:24.146406Z",
     "shell.execute_reply.started": "2023-02-25T23:21:24.146379Z"
    },
    "id": "8txW-5j8NAPk",
    "outputId": "a7043b70-c540-484d-eb20-b31cffefef6a",
    "papermill": {
     "duration": 0.052804,
     "end_time": "2023-02-25T23:44:08.495151",
     "exception": false,
     "start_time": "2023-02-25T23:44:08.442347",
     "status": "completed"
    },
    "tags": []
   },
   "source": [
    "# Accuracy: Overall performance of the model\n",
    "# Accuracy: (TP + TN) / (TP + TN + FP + FN)\n",
    "accuracy_score(y_test, y_pred)"
   ]
  },
  {
   "cell_type": "markdown",
   "id": "0a512f04",
   "metadata": {
    "execution": {
     "iopub.status.busy": "2023-02-25T23:21:24.148079Z",
     "iopub.status.idle": "2023-02-25T23:21:24.148698Z",
     "shell.execute_reply": "2023-02-25T23:21:24.148393Z",
     "shell.execute_reply.started": "2023-02-25T23:21:24.148366Z"
    },
    "id": "gb5JveSUPrLq",
    "outputId": "aef4b14e-5547-449a-f511-0a46c946371e",
    "papermill": {
     "duration": 0.052546,
     "end_time": "2023-02-25T23:44:08.600391",
     "exception": false,
     "start_time": "2023-02-25T23:44:08.547845",
     "status": "completed"
    },
    "tags": []
   },
   "source": [
    "# Precision: How accurate the positive predictions are\n",
    "# Precision = TP / (TP + FP)\n",
    "precision_score(y_test, y_pred)\n"
   ]
  },
  {
   "cell_type": "markdown",
   "id": "485f511d",
   "metadata": {
    "execution": {
     "iopub.status.busy": "2023-02-25T23:21:24.150380Z",
     "iopub.status.idle": "2023-02-25T23:21:24.151380Z",
     "shell.execute_reply": "2023-02-25T23:21:24.151082Z",
     "shell.execute_reply.started": "2023-02-25T23:21:24.151052Z"
    },
    "id": "QjPMtzOCRCoQ",
    "outputId": "c58b8341-ae1c-4c37-b8b3-b0891bfc31bd",
    "papermill": {
     "duration": 0.052285,
     "end_time": "2023-02-25T23:44:08.705645",
     "exception": false,
     "start_time": "2023-02-25T23:44:08.653360",
     "status": "completed"
    },
    "tags": []
   },
   "source": [
    "# Recall sensitivity: Coverage of actual positive sample \n",
    "recall_score(y_test, y_pred)"
   ]
  },
  {
   "cell_type": "markdown",
   "id": "1f5ace9f",
   "metadata": {
    "execution": {
     "iopub.status.busy": "2023-02-25T23:21:24.153304Z",
     "iopub.status.idle": "2023-02-25T23:21:24.153916Z",
     "shell.execute_reply": "2023-02-25T23:21:24.153640Z",
     "shell.execute_reply.started": "2023-02-25T23:21:24.153612Z"
    },
    "id": "c43E1tRfeLNI",
    "outputId": "537e3b6d-1c6d-4e56-c6a1-6558fa8305b8",
    "papermill": {
     "duration": 0.052374,
     "end_time": "2023-02-25T23:44:08.810537",
     "exception": false,
     "start_time": "2023-02-25T23:44:08.758163",
     "status": "completed"
    },
    "tags": []
   },
   "source": [
    "# Specificity: Coverage of actual negative sample\n",
    "# Specificity = TN / (TN + FP)\n",
    "specificity = TN / (TN + FP)\n",
    "print(specificity)"
   ]
  },
  {
   "cell_type": "markdown",
   "id": "2e77aefb",
   "metadata": {
    "execution": {
     "iopub.status.busy": "2023-02-25T23:21:24.155550Z",
     "iopub.status.idle": "2023-02-25T23:21:24.156154Z",
     "shell.execute_reply": "2023-02-25T23:21:24.155886Z",
     "shell.execute_reply.started": "2023-02-25T23:21:24.155859Z"
    },
    "papermill": {
     "duration": 0.053388,
     "end_time": "2023-02-25T23:44:08.916675",
     "exception": false,
     "start_time": "2023-02-25T23:44:08.863287",
     "status": "completed"
    },
    "tags": []
   },
   "source": [
    "# F1 score: Hybrid metric useful for unbalanced classes. Combines precision and recall sensitivity\n",
    "# F1 score = 2TP / (2TP + FP + FN)\n",
    "f1_score(y_test, y_pred)"
   ]
  },
  {
   "cell_type": "markdown",
   "id": "cfa23b6c",
   "metadata": {
    "execution": {
     "iopub.status.busy": "2023-02-25T23:21:24.157775Z",
     "iopub.status.idle": "2023-02-25T23:21:24.158347Z",
     "shell.execute_reply": "2023-02-25T23:21:24.158078Z",
     "shell.execute_reply.started": "2023-02-25T23:21:24.158052Z"
    },
    "id": "tyu9rHqfOVUb",
    "outputId": "53c1198a-b50e-4036-9573-ca027e134cf5",
    "papermill": {
     "duration": 0.052421,
     "end_time": "2023-02-25T23:44:09.021898",
     "exception": false,
     "start_time": "2023-02-25T23:44:08.969477",
     "status": "completed"
    },
    "tags": []
   },
   "source": [
    "# Confusion matrix\n",
    "\n",
    "sns.heatmap(confusion_matrix(y_test, y_pred), annot=True, fmt='.0f')\n",
    "plt.ylabel('Real')\n",
    "plt.xlabel('Prediction');"
   ]
  },
  {
   "cell_type": "markdown",
   "id": "1458012b",
   "metadata": {
    "execution": {
     "iopub.status.busy": "2023-02-25T23:21:24.160493Z",
     "iopub.status.idle": "2023-02-25T23:21:24.161104Z",
     "shell.execute_reply": "2023-02-25T23:21:24.160833Z",
     "shell.execute_reply.started": "2023-02-25T23:21:24.160806Z"
    },
    "id": "LbwdSeZkStGW",
    "outputId": "7440a076-c982-4d0b-f648-89c00cfd44f6",
    "papermill": {
     "duration": 0.052331,
     "end_time": "2023-02-25T23:44:09.126717",
     "exception": false,
     "start_time": "2023-02-25T23:44:09.074386",
     "status": "completed"
    },
    "tags": []
   },
   "source": [
    "y_scores = model.predict_proba(X_test)\n",
    "fpr, tpr, threshold = roc_curve(y_test, y_scores[:, 1])\n",
    "roc_auc = auc(fpr, tpr)\n",
    "\n",
    "plt.title('Receiver Operating Characteristic')\n",
    "plt.plot(fpr, tpr, 'b', label = 'AUC = %0.2f' % roc_auc)\n",
    "plt.legend(loc = 'lower right')\n",
    "plt.plot([0, 1], [0, 1],'r--')\n",
    "plt.xlim([0, 1])\n",
    "plt.ylim([0, 1])\n",
    "plt.ylabel('True Positive Rate')\n",
    "plt.xlabel('False Positive Rate')\n",
    "plt.title('ROC Curve of kNN')\n",
    "plt.show()"
   ]
  },
  {
   "cell_type": "markdown",
   "id": "8003f331",
   "metadata": {
    "id": "TJAInyCy3Isk",
    "papermill": {
     "duration": 0.052585,
     "end_time": "2023-02-25T23:44:09.231800",
     "exception": false,
     "start_time": "2023-02-25T23:44:09.179215",
     "status": "completed"
    },
    "tags": []
   },
   "source": [
    "# Conclusions"
   ]
  },
  {
   "cell_type": "markdown",
   "id": "1e8f0c3f",
   "metadata": {
    "papermill": {
     "duration": 0.0524,
     "end_time": "2023-02-25T23:44:09.337014",
     "exception": false,
     "start_time": "2023-02-25T23:44:09.284614",
     "status": "completed"
    },
    "tags": []
   },
   "source": [
    "- We can see that both models perform better than the baseline.\n",
    "- Given the fact that we are trying to identify clients with a possible attrition, our lead metric should be the Recall Sensitivity of the model (If we are going to personalize a retention campaign, the false positives shouldn't be be a problem as long as I don't miss the true positives).\n",
    "- The logistic regression model has the same recall sensitivity as the KNN model, but the KNN model has a better precision and overall performance.\n",
    "- In this case I would choose the KNN model to identify the users with a possible attrition."
   ]
  }
 ],
 "metadata": {
  "kernelspec": {
   "display_name": "Python 3",
   "language": "python",
   "name": "python3"
  },
  "language_info": {
   "codemirror_mode": {
    "name": "ipython",
    "version": 3
   },
   "file_extension": ".py",
   "mimetype": "text/x-python",
   "name": "python",
   "nbconvert_exporter": "python",
   "pygments_lexer": "ipython3",
   "version": "3.7.12"
  },
  "papermill": {
   "default_parameters": {},
   "duration": 111.556713,
   "end_time": "2023-02-25T23:44:10.413869",
   "environment_variables": {},
   "exception": null,
   "input_path": "__notebook__.ipynb",
   "output_path": "__notebook__.ipynb",
   "parameters": {},
   "start_time": "2023-02-25T23:42:18.857156",
   "version": "2.3.4"
  }
 },
 "nbformat": 4,
 "nbformat_minor": 5
}
